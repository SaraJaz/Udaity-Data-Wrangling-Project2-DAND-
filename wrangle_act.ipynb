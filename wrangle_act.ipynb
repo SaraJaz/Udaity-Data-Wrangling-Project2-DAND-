{
 "cells": [
  {
   "cell_type": "markdown",
   "id": "ec85762b",
   "metadata": {},
   "source": [
    "### Project  - Data Wrangling of twitter account  (WeRateDogs) ###  "
   ]
  },
  {
   "cell_type": "markdown",
   "id": "99cb0eb7",
   "metadata": {},
   "source": [
    "The aim of this project is to wrangle a dataset of twitter account named  (WeRateDogs)  then analyze ans visualize it the clean data. \n"
   ]
  },
  {
   "cell_type": "markdown",
   "id": "370514d8",
   "metadata": {},
   "source": [
    "Table of contents\n",
    "\n",
    "1. Gathering data\n",
    "2. Assessing data\n",
    "3. Cleaning data\n",
    "4. Storing data\n",
    "5. Analyzing, and visualizing data\n",
    "6. Reporting\n",
    "\n"
   ]
  },
  {
   "cell_type": "markdown",
   "id": "09034460",
   "metadata": {},
   "source": [
    "software and  libraries requirements \n",
    "We need to install either python or anaconda (Jupyter Notebook) with following packages:\n",
    "pandas\n",
    "NumPy\n",
    "requests\n",
    "tweepy\n",
    "json"
   ]
  },
  {
   "cell_type": "code",
   "execution_count": 1,
   "id": "0209084f",
   "metadata": {},
   "outputs": [],
   "source": [
    "#import libraries\n",
    "import pandas as pd\n",
    "import numpy as np\n",
    "import os\n",
    "import matplotlib.pyplot as plt\n",
    "import requests\n",
    "import tweepy\n",
    "from tweepy import OAuthHandler\n",
    "import json\n",
    "%matplotlib inline \n",
    "import seaborn as sns\n",
    "\n",
    "from timeit import default_timer as timer\n"
   ]
  },
  {
   "cell_type": "markdown",
   "id": "6659a8a0",
   "metadata": {},
   "source": [
    "## Gathering ##\n"
   ]
  },
  {
   "cell_type": "markdown",
   "id": "4d86e798",
   "metadata": {},
   "source": [
    "1a.twitter_archive_enhanced\n"
   ]
  },
  {
   "cell_type": "code",
   "execution_count": 2,
   "id": "3352882d",
   "metadata": {},
   "outputs": [
    {
     "data": {
      "text/html": [
       "<div>\n",
       "<style scoped>\n",
       "    .dataframe tbody tr th:only-of-type {\n",
       "        vertical-align: middle;\n",
       "    }\n",
       "\n",
       "    .dataframe tbody tr th {\n",
       "        vertical-align: top;\n",
       "    }\n",
       "\n",
       "    .dataframe thead th {\n",
       "        text-align: right;\n",
       "    }\n",
       "</style>\n",
       "<table border=\"1\" class=\"dataframe\">\n",
       "  <thead>\n",
       "    <tr style=\"text-align: right;\">\n",
       "      <th></th>\n",
       "      <th>tweet_id</th>\n",
       "      <th>in_reply_to_status_id</th>\n",
       "      <th>in_reply_to_user_id</th>\n",
       "      <th>timestamp</th>\n",
       "      <th>source</th>\n",
       "      <th>text</th>\n",
       "      <th>retweeted_status_id</th>\n",
       "      <th>retweeted_status_user_id</th>\n",
       "      <th>retweeted_status_timestamp</th>\n",
       "      <th>expanded_urls</th>\n",
       "      <th>rating_numerator</th>\n",
       "      <th>rating_denominator</th>\n",
       "      <th>name</th>\n",
       "      <th>doggo</th>\n",
       "      <th>floofer</th>\n",
       "      <th>pupper</th>\n",
       "      <th>puppo</th>\n",
       "    </tr>\n",
       "  </thead>\n",
       "  <tbody>\n",
       "    <tr>\n",
       "      <th>0</th>\n",
       "      <td>892420643555336193</td>\n",
       "      <td>NaN</td>\n",
       "      <td>NaN</td>\n",
       "      <td>2017-08-01 16:23:56 +0000</td>\n",
       "      <td>&lt;a href=\"http://twitter.com/download/iphone\" r...</td>\n",
       "      <td>This is Phineas. He's a mystical boy. Only eve...</td>\n",
       "      <td>NaN</td>\n",
       "      <td>NaN</td>\n",
       "      <td>NaN</td>\n",
       "      <td>https://twitter.com/dog_rates/status/892420643...</td>\n",
       "      <td>13</td>\n",
       "      <td>10</td>\n",
       "      <td>Phineas</td>\n",
       "      <td>None</td>\n",
       "      <td>None</td>\n",
       "      <td>None</td>\n",
       "      <td>None</td>\n",
       "    </tr>\n",
       "    <tr>\n",
       "      <th>1</th>\n",
       "      <td>892177421306343426</td>\n",
       "      <td>NaN</td>\n",
       "      <td>NaN</td>\n",
       "      <td>2017-08-01 00:17:27 +0000</td>\n",
       "      <td>&lt;a href=\"http://twitter.com/download/iphone\" r...</td>\n",
       "      <td>This is Tilly. She's just checking pup on you....</td>\n",
       "      <td>NaN</td>\n",
       "      <td>NaN</td>\n",
       "      <td>NaN</td>\n",
       "      <td>https://twitter.com/dog_rates/status/892177421...</td>\n",
       "      <td>13</td>\n",
       "      <td>10</td>\n",
       "      <td>Tilly</td>\n",
       "      <td>None</td>\n",
       "      <td>None</td>\n",
       "      <td>None</td>\n",
       "      <td>None</td>\n",
       "    </tr>\n",
       "    <tr>\n",
       "      <th>2</th>\n",
       "      <td>891815181378084864</td>\n",
       "      <td>NaN</td>\n",
       "      <td>NaN</td>\n",
       "      <td>2017-07-31 00:18:03 +0000</td>\n",
       "      <td>&lt;a href=\"http://twitter.com/download/iphone\" r...</td>\n",
       "      <td>This is Archie. He is a rare Norwegian Pouncin...</td>\n",
       "      <td>NaN</td>\n",
       "      <td>NaN</td>\n",
       "      <td>NaN</td>\n",
       "      <td>https://twitter.com/dog_rates/status/891815181...</td>\n",
       "      <td>12</td>\n",
       "      <td>10</td>\n",
       "      <td>Archie</td>\n",
       "      <td>None</td>\n",
       "      <td>None</td>\n",
       "      <td>None</td>\n",
       "      <td>None</td>\n",
       "    </tr>\n",
       "    <tr>\n",
       "      <th>3</th>\n",
       "      <td>891689557279858688</td>\n",
       "      <td>NaN</td>\n",
       "      <td>NaN</td>\n",
       "      <td>2017-07-30 15:58:51 +0000</td>\n",
       "      <td>&lt;a href=\"http://twitter.com/download/iphone\" r...</td>\n",
       "      <td>This is Darla. She commenced a snooze mid meal...</td>\n",
       "      <td>NaN</td>\n",
       "      <td>NaN</td>\n",
       "      <td>NaN</td>\n",
       "      <td>https://twitter.com/dog_rates/status/891689557...</td>\n",
       "      <td>13</td>\n",
       "      <td>10</td>\n",
       "      <td>Darla</td>\n",
       "      <td>None</td>\n",
       "      <td>None</td>\n",
       "      <td>None</td>\n",
       "      <td>None</td>\n",
       "    </tr>\n",
       "    <tr>\n",
       "      <th>4</th>\n",
       "      <td>891327558926688256</td>\n",
       "      <td>NaN</td>\n",
       "      <td>NaN</td>\n",
       "      <td>2017-07-29 16:00:24 +0000</td>\n",
       "      <td>&lt;a href=\"http://twitter.com/download/iphone\" r...</td>\n",
       "      <td>This is Franklin. He would like you to stop ca...</td>\n",
       "      <td>NaN</td>\n",
       "      <td>NaN</td>\n",
       "      <td>NaN</td>\n",
       "      <td>https://twitter.com/dog_rates/status/891327558...</td>\n",
       "      <td>12</td>\n",
       "      <td>10</td>\n",
       "      <td>Franklin</td>\n",
       "      <td>None</td>\n",
       "      <td>None</td>\n",
       "      <td>None</td>\n",
       "      <td>None</td>\n",
       "    </tr>\n",
       "    <tr>\n",
       "      <th>...</th>\n",
       "      <td>...</td>\n",
       "      <td>...</td>\n",
       "      <td>...</td>\n",
       "      <td>...</td>\n",
       "      <td>...</td>\n",
       "      <td>...</td>\n",
       "      <td>...</td>\n",
       "      <td>...</td>\n",
       "      <td>...</td>\n",
       "      <td>...</td>\n",
       "      <td>...</td>\n",
       "      <td>...</td>\n",
       "      <td>...</td>\n",
       "      <td>...</td>\n",
       "      <td>...</td>\n",
       "      <td>...</td>\n",
       "      <td>...</td>\n",
       "    </tr>\n",
       "    <tr>\n",
       "      <th>2351</th>\n",
       "      <td>666049248165822465</td>\n",
       "      <td>NaN</td>\n",
       "      <td>NaN</td>\n",
       "      <td>2015-11-16 00:24:50 +0000</td>\n",
       "      <td>&lt;a href=\"http://twitter.com/download/iphone\" r...</td>\n",
       "      <td>Here we have a 1949 1st generation vulpix. Enj...</td>\n",
       "      <td>NaN</td>\n",
       "      <td>NaN</td>\n",
       "      <td>NaN</td>\n",
       "      <td>https://twitter.com/dog_rates/status/666049248...</td>\n",
       "      <td>5</td>\n",
       "      <td>10</td>\n",
       "      <td>None</td>\n",
       "      <td>None</td>\n",
       "      <td>None</td>\n",
       "      <td>None</td>\n",
       "      <td>None</td>\n",
       "    </tr>\n",
       "    <tr>\n",
       "      <th>2352</th>\n",
       "      <td>666044226329800704</td>\n",
       "      <td>NaN</td>\n",
       "      <td>NaN</td>\n",
       "      <td>2015-11-16 00:04:52 +0000</td>\n",
       "      <td>&lt;a href=\"http://twitter.com/download/iphone\" r...</td>\n",
       "      <td>This is a purebred Piers Morgan. Loves to Netf...</td>\n",
       "      <td>NaN</td>\n",
       "      <td>NaN</td>\n",
       "      <td>NaN</td>\n",
       "      <td>https://twitter.com/dog_rates/status/666044226...</td>\n",
       "      <td>6</td>\n",
       "      <td>10</td>\n",
       "      <td>a</td>\n",
       "      <td>None</td>\n",
       "      <td>None</td>\n",
       "      <td>None</td>\n",
       "      <td>None</td>\n",
       "    </tr>\n",
       "    <tr>\n",
       "      <th>2353</th>\n",
       "      <td>666033412701032449</td>\n",
       "      <td>NaN</td>\n",
       "      <td>NaN</td>\n",
       "      <td>2015-11-15 23:21:54 +0000</td>\n",
       "      <td>&lt;a href=\"http://twitter.com/download/iphone\" r...</td>\n",
       "      <td>Here is a very happy pup. Big fan of well-main...</td>\n",
       "      <td>NaN</td>\n",
       "      <td>NaN</td>\n",
       "      <td>NaN</td>\n",
       "      <td>https://twitter.com/dog_rates/status/666033412...</td>\n",
       "      <td>9</td>\n",
       "      <td>10</td>\n",
       "      <td>a</td>\n",
       "      <td>None</td>\n",
       "      <td>None</td>\n",
       "      <td>None</td>\n",
       "      <td>None</td>\n",
       "    </tr>\n",
       "    <tr>\n",
       "      <th>2354</th>\n",
       "      <td>666029285002620928</td>\n",
       "      <td>NaN</td>\n",
       "      <td>NaN</td>\n",
       "      <td>2015-11-15 23:05:30 +0000</td>\n",
       "      <td>&lt;a href=\"http://twitter.com/download/iphone\" r...</td>\n",
       "      <td>This is a western brown Mitsubishi terrier. Up...</td>\n",
       "      <td>NaN</td>\n",
       "      <td>NaN</td>\n",
       "      <td>NaN</td>\n",
       "      <td>https://twitter.com/dog_rates/status/666029285...</td>\n",
       "      <td>7</td>\n",
       "      <td>10</td>\n",
       "      <td>a</td>\n",
       "      <td>None</td>\n",
       "      <td>None</td>\n",
       "      <td>None</td>\n",
       "      <td>None</td>\n",
       "    </tr>\n",
       "    <tr>\n",
       "      <th>2355</th>\n",
       "      <td>666020888022790149</td>\n",
       "      <td>NaN</td>\n",
       "      <td>NaN</td>\n",
       "      <td>2015-11-15 22:32:08 +0000</td>\n",
       "      <td>&lt;a href=\"http://twitter.com/download/iphone\" r...</td>\n",
       "      <td>Here we have a Japanese Irish Setter. Lost eye...</td>\n",
       "      <td>NaN</td>\n",
       "      <td>NaN</td>\n",
       "      <td>NaN</td>\n",
       "      <td>https://twitter.com/dog_rates/status/666020888...</td>\n",
       "      <td>8</td>\n",
       "      <td>10</td>\n",
       "      <td>None</td>\n",
       "      <td>None</td>\n",
       "      <td>None</td>\n",
       "      <td>None</td>\n",
       "      <td>None</td>\n",
       "    </tr>\n",
       "  </tbody>\n",
       "</table>\n",
       "<p>2356 rows × 17 columns</p>\n",
       "</div>"
      ],
      "text/plain": [
       "                tweet_id  in_reply_to_status_id  in_reply_to_user_id  \\\n",
       "0     892420643555336193                    NaN                  NaN   \n",
       "1     892177421306343426                    NaN                  NaN   \n",
       "2     891815181378084864                    NaN                  NaN   \n",
       "3     891689557279858688                    NaN                  NaN   \n",
       "4     891327558926688256                    NaN                  NaN   \n",
       "...                  ...                    ...                  ...   \n",
       "2351  666049248165822465                    NaN                  NaN   \n",
       "2352  666044226329800704                    NaN                  NaN   \n",
       "2353  666033412701032449                    NaN                  NaN   \n",
       "2354  666029285002620928                    NaN                  NaN   \n",
       "2355  666020888022790149                    NaN                  NaN   \n",
       "\n",
       "                      timestamp  \\\n",
       "0     2017-08-01 16:23:56 +0000   \n",
       "1     2017-08-01 00:17:27 +0000   \n",
       "2     2017-07-31 00:18:03 +0000   \n",
       "3     2017-07-30 15:58:51 +0000   \n",
       "4     2017-07-29 16:00:24 +0000   \n",
       "...                         ...   \n",
       "2351  2015-11-16 00:24:50 +0000   \n",
       "2352  2015-11-16 00:04:52 +0000   \n",
       "2353  2015-11-15 23:21:54 +0000   \n",
       "2354  2015-11-15 23:05:30 +0000   \n",
       "2355  2015-11-15 22:32:08 +0000   \n",
       "\n",
       "                                                 source  \\\n",
       "0     <a href=\"http://twitter.com/download/iphone\" r...   \n",
       "1     <a href=\"http://twitter.com/download/iphone\" r...   \n",
       "2     <a href=\"http://twitter.com/download/iphone\" r...   \n",
       "3     <a href=\"http://twitter.com/download/iphone\" r...   \n",
       "4     <a href=\"http://twitter.com/download/iphone\" r...   \n",
       "...                                                 ...   \n",
       "2351  <a href=\"http://twitter.com/download/iphone\" r...   \n",
       "2352  <a href=\"http://twitter.com/download/iphone\" r...   \n",
       "2353  <a href=\"http://twitter.com/download/iphone\" r...   \n",
       "2354  <a href=\"http://twitter.com/download/iphone\" r...   \n",
       "2355  <a href=\"http://twitter.com/download/iphone\" r...   \n",
       "\n",
       "                                                   text  retweeted_status_id  \\\n",
       "0     This is Phineas. He's a mystical boy. Only eve...                  NaN   \n",
       "1     This is Tilly. She's just checking pup on you....                  NaN   \n",
       "2     This is Archie. He is a rare Norwegian Pouncin...                  NaN   \n",
       "3     This is Darla. She commenced a snooze mid meal...                  NaN   \n",
       "4     This is Franklin. He would like you to stop ca...                  NaN   \n",
       "...                                                 ...                  ...   \n",
       "2351  Here we have a 1949 1st generation vulpix. Enj...                  NaN   \n",
       "2352  This is a purebred Piers Morgan. Loves to Netf...                  NaN   \n",
       "2353  Here is a very happy pup. Big fan of well-main...                  NaN   \n",
       "2354  This is a western brown Mitsubishi terrier. Up...                  NaN   \n",
       "2355  Here we have a Japanese Irish Setter. Lost eye...                  NaN   \n",
       "\n",
       "      retweeted_status_user_id retweeted_status_timestamp  \\\n",
       "0                          NaN                        NaN   \n",
       "1                          NaN                        NaN   \n",
       "2                          NaN                        NaN   \n",
       "3                          NaN                        NaN   \n",
       "4                          NaN                        NaN   \n",
       "...                        ...                        ...   \n",
       "2351                       NaN                        NaN   \n",
       "2352                       NaN                        NaN   \n",
       "2353                       NaN                        NaN   \n",
       "2354                       NaN                        NaN   \n",
       "2355                       NaN                        NaN   \n",
       "\n",
       "                                          expanded_urls  rating_numerator  \\\n",
       "0     https://twitter.com/dog_rates/status/892420643...                13   \n",
       "1     https://twitter.com/dog_rates/status/892177421...                13   \n",
       "2     https://twitter.com/dog_rates/status/891815181...                12   \n",
       "3     https://twitter.com/dog_rates/status/891689557...                13   \n",
       "4     https://twitter.com/dog_rates/status/891327558...                12   \n",
       "...                                                 ...               ...   \n",
       "2351  https://twitter.com/dog_rates/status/666049248...                 5   \n",
       "2352  https://twitter.com/dog_rates/status/666044226...                 6   \n",
       "2353  https://twitter.com/dog_rates/status/666033412...                 9   \n",
       "2354  https://twitter.com/dog_rates/status/666029285...                 7   \n",
       "2355  https://twitter.com/dog_rates/status/666020888...                 8   \n",
       "\n",
       "      rating_denominator      name doggo floofer pupper puppo  \n",
       "0                     10   Phineas  None    None   None  None  \n",
       "1                     10     Tilly  None    None   None  None  \n",
       "2                     10    Archie  None    None   None  None  \n",
       "3                     10     Darla  None    None   None  None  \n",
       "4                     10  Franklin  None    None   None  None  \n",
       "...                  ...       ...   ...     ...    ...   ...  \n",
       "2351                  10      None  None    None   None  None  \n",
       "2352                  10         a  None    None   None  None  \n",
       "2353                  10         a  None    None   None  None  \n",
       "2354                  10         a  None    None   None  None  \n",
       "2355                  10      None  None    None   None  None  \n",
       "\n",
       "[2356 rows x 17 columns]"
      ]
     },
     "execution_count": 2,
     "metadata": {},
     "output_type": "execute_result"
    }
   ],
   "source": [
    "#load twitter_archive_enhanced.csv\n",
    "twitter_archive = pd.read_csv('twitter-archive-enhanced.csv')\n",
    "twitter_archive"
   ]
  },
  {
   "cell_type": "markdown",
   "id": "38c6ead3",
   "metadata": {},
   "source": [
    "1b.image_prediction.tsv"
   ]
  },
  {
   "cell_type": "code",
   "execution_count": 3,
   "id": "f5447cfb",
   "metadata": {},
   "outputs": [
    {
     "data": {
      "text/html": [
       "<div>\n",
       "<style scoped>\n",
       "    .dataframe tbody tr th:only-of-type {\n",
       "        vertical-align: middle;\n",
       "    }\n",
       "\n",
       "    .dataframe tbody tr th {\n",
       "        vertical-align: top;\n",
       "    }\n",
       "\n",
       "    .dataframe thead th {\n",
       "        text-align: right;\n",
       "    }\n",
       "</style>\n",
       "<table border=\"1\" class=\"dataframe\">\n",
       "  <thead>\n",
       "    <tr style=\"text-align: right;\">\n",
       "      <th></th>\n",
       "      <th>tweet_id</th>\n",
       "      <th>jpg_url</th>\n",
       "      <th>img_num</th>\n",
       "      <th>p1</th>\n",
       "      <th>p1_conf</th>\n",
       "      <th>p1_dog</th>\n",
       "      <th>p2</th>\n",
       "      <th>p2_conf</th>\n",
       "      <th>p2_dog</th>\n",
       "      <th>p3</th>\n",
       "      <th>p3_conf</th>\n",
       "      <th>p3_dog</th>\n",
       "    </tr>\n",
       "  </thead>\n",
       "  <tbody>\n",
       "    <tr>\n",
       "      <th>0</th>\n",
       "      <td>666020888022790149</td>\n",
       "      <td>https://pbs.twimg.com/media/CT4udn0WwAA0aMy.jpg</td>\n",
       "      <td>1</td>\n",
       "      <td>Welsh_springer_spaniel</td>\n",
       "      <td>0.465074</td>\n",
       "      <td>True</td>\n",
       "      <td>collie</td>\n",
       "      <td>0.156665</td>\n",
       "      <td>True</td>\n",
       "      <td>Shetland_sheepdog</td>\n",
       "      <td>0.061428</td>\n",
       "      <td>True</td>\n",
       "    </tr>\n",
       "    <tr>\n",
       "      <th>1</th>\n",
       "      <td>666029285002620928</td>\n",
       "      <td>https://pbs.twimg.com/media/CT42GRgUYAA5iDo.jpg</td>\n",
       "      <td>1</td>\n",
       "      <td>redbone</td>\n",
       "      <td>0.506826</td>\n",
       "      <td>True</td>\n",
       "      <td>miniature_pinscher</td>\n",
       "      <td>0.074192</td>\n",
       "      <td>True</td>\n",
       "      <td>Rhodesian_ridgeback</td>\n",
       "      <td>0.072010</td>\n",
       "      <td>True</td>\n",
       "    </tr>\n",
       "    <tr>\n",
       "      <th>2</th>\n",
       "      <td>666033412701032449</td>\n",
       "      <td>https://pbs.twimg.com/media/CT4521TWwAEvMyu.jpg</td>\n",
       "      <td>1</td>\n",
       "      <td>German_shepherd</td>\n",
       "      <td>0.596461</td>\n",
       "      <td>True</td>\n",
       "      <td>malinois</td>\n",
       "      <td>0.138584</td>\n",
       "      <td>True</td>\n",
       "      <td>bloodhound</td>\n",
       "      <td>0.116197</td>\n",
       "      <td>True</td>\n",
       "    </tr>\n",
       "    <tr>\n",
       "      <th>3</th>\n",
       "      <td>666044226329800704</td>\n",
       "      <td>https://pbs.twimg.com/media/CT5Dr8HUEAA-lEu.jpg</td>\n",
       "      <td>1</td>\n",
       "      <td>Rhodesian_ridgeback</td>\n",
       "      <td>0.408143</td>\n",
       "      <td>True</td>\n",
       "      <td>redbone</td>\n",
       "      <td>0.360687</td>\n",
       "      <td>True</td>\n",
       "      <td>miniature_pinscher</td>\n",
       "      <td>0.222752</td>\n",
       "      <td>True</td>\n",
       "    </tr>\n",
       "    <tr>\n",
       "      <th>4</th>\n",
       "      <td>666049248165822465</td>\n",
       "      <td>https://pbs.twimg.com/media/CT5IQmsXIAAKY4A.jpg</td>\n",
       "      <td>1</td>\n",
       "      <td>miniature_pinscher</td>\n",
       "      <td>0.560311</td>\n",
       "      <td>True</td>\n",
       "      <td>Rottweiler</td>\n",
       "      <td>0.243682</td>\n",
       "      <td>True</td>\n",
       "      <td>Doberman</td>\n",
       "      <td>0.154629</td>\n",
       "      <td>True</td>\n",
       "    </tr>\n",
       "    <tr>\n",
       "      <th>5</th>\n",
       "      <td>666050758794694657</td>\n",
       "      <td>https://pbs.twimg.com/media/CT5Jof1WUAEuVxN.jpg</td>\n",
       "      <td>1</td>\n",
       "      <td>Bernese_mountain_dog</td>\n",
       "      <td>0.651137</td>\n",
       "      <td>True</td>\n",
       "      <td>English_springer</td>\n",
       "      <td>0.263788</td>\n",
       "      <td>True</td>\n",
       "      <td>Greater_Swiss_Mountain_dog</td>\n",
       "      <td>0.016199</td>\n",
       "      <td>True</td>\n",
       "    </tr>\n",
       "    <tr>\n",
       "      <th>6</th>\n",
       "      <td>666051853826850816</td>\n",
       "      <td>https://pbs.twimg.com/media/CT5KoJ1WoAAJash.jpg</td>\n",
       "      <td>1</td>\n",
       "      <td>box_turtle</td>\n",
       "      <td>0.933012</td>\n",
       "      <td>False</td>\n",
       "      <td>mud_turtle</td>\n",
       "      <td>0.045885</td>\n",
       "      <td>False</td>\n",
       "      <td>terrapin</td>\n",
       "      <td>0.017885</td>\n",
       "      <td>False</td>\n",
       "    </tr>\n",
       "    <tr>\n",
       "      <th>7</th>\n",
       "      <td>666055525042405380</td>\n",
       "      <td>https://pbs.twimg.com/media/CT5N9tpXIAAifs1.jpg</td>\n",
       "      <td>1</td>\n",
       "      <td>chow</td>\n",
       "      <td>0.692517</td>\n",
       "      <td>True</td>\n",
       "      <td>Tibetan_mastiff</td>\n",
       "      <td>0.058279</td>\n",
       "      <td>True</td>\n",
       "      <td>fur_coat</td>\n",
       "      <td>0.054449</td>\n",
       "      <td>False</td>\n",
       "    </tr>\n",
       "    <tr>\n",
       "      <th>8</th>\n",
       "      <td>666057090499244032</td>\n",
       "      <td>https://pbs.twimg.com/media/CT5PY90WoAAQGLo.jpg</td>\n",
       "      <td>1</td>\n",
       "      <td>shopping_cart</td>\n",
       "      <td>0.962465</td>\n",
       "      <td>False</td>\n",
       "      <td>shopping_basket</td>\n",
       "      <td>0.014594</td>\n",
       "      <td>False</td>\n",
       "      <td>golden_retriever</td>\n",
       "      <td>0.007959</td>\n",
       "      <td>True</td>\n",
       "    </tr>\n",
       "    <tr>\n",
       "      <th>9</th>\n",
       "      <td>666058600524156928</td>\n",
       "      <td>https://pbs.twimg.com/media/CT5Qw94XAAA_2dP.jpg</td>\n",
       "      <td>1</td>\n",
       "      <td>miniature_poodle</td>\n",
       "      <td>0.201493</td>\n",
       "      <td>True</td>\n",
       "      <td>komondor</td>\n",
       "      <td>0.192305</td>\n",
       "      <td>True</td>\n",
       "      <td>soft-coated_wheaten_terrier</td>\n",
       "      <td>0.082086</td>\n",
       "      <td>True</td>\n",
       "    </tr>\n",
       "  </tbody>\n",
       "</table>\n",
       "</div>"
      ],
      "text/plain": [
       "             tweet_id                                          jpg_url  \\\n",
       "0  666020888022790149  https://pbs.twimg.com/media/CT4udn0WwAA0aMy.jpg   \n",
       "1  666029285002620928  https://pbs.twimg.com/media/CT42GRgUYAA5iDo.jpg   \n",
       "2  666033412701032449  https://pbs.twimg.com/media/CT4521TWwAEvMyu.jpg   \n",
       "3  666044226329800704  https://pbs.twimg.com/media/CT5Dr8HUEAA-lEu.jpg   \n",
       "4  666049248165822465  https://pbs.twimg.com/media/CT5IQmsXIAAKY4A.jpg   \n",
       "5  666050758794694657  https://pbs.twimg.com/media/CT5Jof1WUAEuVxN.jpg   \n",
       "6  666051853826850816  https://pbs.twimg.com/media/CT5KoJ1WoAAJash.jpg   \n",
       "7  666055525042405380  https://pbs.twimg.com/media/CT5N9tpXIAAifs1.jpg   \n",
       "8  666057090499244032  https://pbs.twimg.com/media/CT5PY90WoAAQGLo.jpg   \n",
       "9  666058600524156928  https://pbs.twimg.com/media/CT5Qw94XAAA_2dP.jpg   \n",
       "\n",
       "   img_num                      p1   p1_conf  p1_dog                  p2  \\\n",
       "0        1  Welsh_springer_spaniel  0.465074    True              collie   \n",
       "1        1                 redbone  0.506826    True  miniature_pinscher   \n",
       "2        1         German_shepherd  0.596461    True            malinois   \n",
       "3        1     Rhodesian_ridgeback  0.408143    True             redbone   \n",
       "4        1      miniature_pinscher  0.560311    True          Rottweiler   \n",
       "5        1    Bernese_mountain_dog  0.651137    True    English_springer   \n",
       "6        1              box_turtle  0.933012   False          mud_turtle   \n",
       "7        1                    chow  0.692517    True     Tibetan_mastiff   \n",
       "8        1           shopping_cart  0.962465   False     shopping_basket   \n",
       "9        1        miniature_poodle  0.201493    True            komondor   \n",
       "\n",
       "    p2_conf  p2_dog                           p3   p3_conf  p3_dog  \n",
       "0  0.156665    True            Shetland_sheepdog  0.061428    True  \n",
       "1  0.074192    True          Rhodesian_ridgeback  0.072010    True  \n",
       "2  0.138584    True                   bloodhound  0.116197    True  \n",
       "3  0.360687    True           miniature_pinscher  0.222752    True  \n",
       "4  0.243682    True                     Doberman  0.154629    True  \n",
       "5  0.263788    True   Greater_Swiss_Mountain_dog  0.016199    True  \n",
       "6  0.045885   False                     terrapin  0.017885   False  \n",
       "7  0.058279    True                     fur_coat  0.054449   False  \n",
       "8  0.014594   False             golden_retriever  0.007959    True  \n",
       "9  0.192305    True  soft-coated_wheaten_terrier  0.082086    True  "
      ]
     },
     "execution_count": 3,
     "metadata": {},
     "output_type": "execute_result"
    }
   ],
   "source": [
    "#load tsv file\n",
    "#getting the URL\n",
    "url = 'https://d17h27t6h515a5.cloudfront.net/topher/2017/August/599fd2ad_image-predictions/image-predictions.tsv'\n",
    "\n",
    "response = requests.get(url)\n",
    "\n",
    "#View raw data\n",
    "response.content\n",
    "\n",
    "#Save the tsv file to the computer\n",
    "\n",
    "with open ('image-predictions.tsv', mode='wb') as file:\n",
    "    file.write(response.content)\n",
    "    \n",
    "image_predict = pd.read_csv('image-predictions.tsv',sep=\"\\t\")\n",
    "\n",
    "#Lets Test\n",
    "image_predict.head(10)\n",
    "\n"
   ]
  },
  {
   "cell_type": "markdown",
   "id": "f46f4ed2",
   "metadata": {},
   "source": [
    "1c.tweet_json.txt"
   ]
  },
  {
   "cell_type": "code",
   "execution_count": 4,
   "id": "67ab2e04",
   "metadata": {
    "scrolled": true
   },
   "outputs": [],
   "source": [
    "tweets_list=[]\n",
    "with open ('tweet_json.txt')as f:\n",
    "    for line in f:\n",
    "        tweets_list.append(json.loads(line))\n",
    "json_data=pd.DataFrame(tweets_list,columns=['id','retweet_count','favorite_count'])\n"
   ]
  },
  {
   "cell_type": "code",
   "execution_count": 5,
   "id": "6f0cef5b",
   "metadata": {},
   "outputs": [
    {
     "data": {
      "text/html": [
       "<div>\n",
       "<style scoped>\n",
       "    .dataframe tbody tr th:only-of-type {\n",
       "        vertical-align: middle;\n",
       "    }\n",
       "\n",
       "    .dataframe tbody tr th {\n",
       "        vertical-align: top;\n",
       "    }\n",
       "\n",
       "    .dataframe thead th {\n",
       "        text-align: right;\n",
       "    }\n",
       "</style>\n",
       "<table border=\"1\" class=\"dataframe\">\n",
       "  <thead>\n",
       "    <tr style=\"text-align: right;\">\n",
       "      <th></th>\n",
       "      <th>id</th>\n",
       "      <th>retweet_count</th>\n",
       "      <th>favorite_count</th>\n",
       "    </tr>\n",
       "  </thead>\n",
       "  <tbody>\n",
       "    <tr>\n",
       "      <th>0</th>\n",
       "      <td>892420643555336193</td>\n",
       "      <td>8853</td>\n",
       "      <td>39467</td>\n",
       "    </tr>\n",
       "    <tr>\n",
       "      <th>1</th>\n",
       "      <td>892177421306343426</td>\n",
       "      <td>6514</td>\n",
       "      <td>33819</td>\n",
       "    </tr>\n",
       "    <tr>\n",
       "      <th>2</th>\n",
       "      <td>891815181378084864</td>\n",
       "      <td>4328</td>\n",
       "      <td>25461</td>\n",
       "    </tr>\n",
       "    <tr>\n",
       "      <th>3</th>\n",
       "      <td>891689557279858688</td>\n",
       "      <td>8964</td>\n",
       "      <td>42908</td>\n",
       "    </tr>\n",
       "    <tr>\n",
       "      <th>4</th>\n",
       "      <td>891327558926688256</td>\n",
       "      <td>9774</td>\n",
       "      <td>41048</td>\n",
       "    </tr>\n",
       "    <tr>\n",
       "      <th>5</th>\n",
       "      <td>891087950875897856</td>\n",
       "      <td>3261</td>\n",
       "      <td>20562</td>\n",
       "    </tr>\n",
       "    <tr>\n",
       "      <th>6</th>\n",
       "      <td>890971913173991426</td>\n",
       "      <td>2158</td>\n",
       "      <td>12041</td>\n",
       "    </tr>\n",
       "    <tr>\n",
       "      <th>7</th>\n",
       "      <td>890729181411237888</td>\n",
       "      <td>16716</td>\n",
       "      <td>56848</td>\n",
       "    </tr>\n",
       "    <tr>\n",
       "      <th>8</th>\n",
       "      <td>890609185150312448</td>\n",
       "      <td>4429</td>\n",
       "      <td>28226</td>\n",
       "    </tr>\n",
       "    <tr>\n",
       "      <th>9</th>\n",
       "      <td>890240255349198849</td>\n",
       "      <td>7711</td>\n",
       "      <td>32467</td>\n",
       "    </tr>\n",
       "  </tbody>\n",
       "</table>\n",
       "</div>"
      ],
      "text/plain": [
       "                   id  retweet_count  favorite_count\n",
       "0  892420643555336193           8853           39467\n",
       "1  892177421306343426           6514           33819\n",
       "2  891815181378084864           4328           25461\n",
       "3  891689557279858688           8964           42908\n",
       "4  891327558926688256           9774           41048\n",
       "5  891087950875897856           3261           20562\n",
       "6  890971913173991426           2158           12041\n",
       "7  890729181411237888          16716           56848\n",
       "8  890609185150312448           4429           28226\n",
       "9  890240255349198849           7711           32467"
      ]
     },
     "execution_count": 5,
     "metadata": {},
     "output_type": "execute_result"
    }
   ],
   "source": [
    "json_data.head(10)"
   ]
  },
  {
   "cell_type": "code",
   "execution_count": null,
   "id": "e20374a1",
   "metadata": {},
   "outputs": [],
   "source": []
  },
  {
   "cell_type": "markdown",
   "id": "3f18e1b2",
   "metadata": {},
   "source": [
    "## Assessing ##"
   ]
  },
  {
   "cell_type": "markdown",
   "id": "39a6d878",
   "metadata": {},
   "source": [
    "Visual assessing"
   ]
  },
  {
   "cell_type": "code",
   "execution_count": 6,
   "id": "bbe6f304",
   "metadata": {
    "scrolled": true
   },
   "outputs": [
    {
     "data": {
      "text/html": [
       "<div>\n",
       "<style scoped>\n",
       "    .dataframe tbody tr th:only-of-type {\n",
       "        vertical-align: middle;\n",
       "    }\n",
       "\n",
       "    .dataframe tbody tr th {\n",
       "        vertical-align: top;\n",
       "    }\n",
       "\n",
       "    .dataframe thead th {\n",
       "        text-align: right;\n",
       "    }\n",
       "</style>\n",
       "<table border=\"1\" class=\"dataframe\">\n",
       "  <thead>\n",
       "    <tr style=\"text-align: right;\">\n",
       "      <th></th>\n",
       "      <th>tweet_id</th>\n",
       "      <th>in_reply_to_status_id</th>\n",
       "      <th>in_reply_to_user_id</th>\n",
       "      <th>timestamp</th>\n",
       "      <th>source</th>\n",
       "      <th>text</th>\n",
       "      <th>retweeted_status_id</th>\n",
       "      <th>retweeted_status_user_id</th>\n",
       "      <th>retweeted_status_timestamp</th>\n",
       "      <th>expanded_urls</th>\n",
       "      <th>rating_numerator</th>\n",
       "      <th>rating_denominator</th>\n",
       "      <th>name</th>\n",
       "      <th>doggo</th>\n",
       "      <th>floofer</th>\n",
       "      <th>pupper</th>\n",
       "      <th>puppo</th>\n",
       "    </tr>\n",
       "  </thead>\n",
       "  <tbody>\n",
       "    <tr>\n",
       "      <th>0</th>\n",
       "      <td>892420643555336193</td>\n",
       "      <td>NaN</td>\n",
       "      <td>NaN</td>\n",
       "      <td>2017-08-01 16:23:56 +0000</td>\n",
       "      <td>&lt;a href=\"http://twitter.com/download/iphone\" r...</td>\n",
       "      <td>This is Phineas. He's a mystical boy. Only eve...</td>\n",
       "      <td>NaN</td>\n",
       "      <td>NaN</td>\n",
       "      <td>NaN</td>\n",
       "      <td>https://twitter.com/dog_rates/status/892420643...</td>\n",
       "      <td>13</td>\n",
       "      <td>10</td>\n",
       "      <td>Phineas</td>\n",
       "      <td>None</td>\n",
       "      <td>None</td>\n",
       "      <td>None</td>\n",
       "      <td>None</td>\n",
       "    </tr>\n",
       "    <tr>\n",
       "      <th>1</th>\n",
       "      <td>892177421306343426</td>\n",
       "      <td>NaN</td>\n",
       "      <td>NaN</td>\n",
       "      <td>2017-08-01 00:17:27 +0000</td>\n",
       "      <td>&lt;a href=\"http://twitter.com/download/iphone\" r...</td>\n",
       "      <td>This is Tilly. She's just checking pup on you....</td>\n",
       "      <td>NaN</td>\n",
       "      <td>NaN</td>\n",
       "      <td>NaN</td>\n",
       "      <td>https://twitter.com/dog_rates/status/892177421...</td>\n",
       "      <td>13</td>\n",
       "      <td>10</td>\n",
       "      <td>Tilly</td>\n",
       "      <td>None</td>\n",
       "      <td>None</td>\n",
       "      <td>None</td>\n",
       "      <td>None</td>\n",
       "    </tr>\n",
       "    <tr>\n",
       "      <th>2</th>\n",
       "      <td>891815181378084864</td>\n",
       "      <td>NaN</td>\n",
       "      <td>NaN</td>\n",
       "      <td>2017-07-31 00:18:03 +0000</td>\n",
       "      <td>&lt;a href=\"http://twitter.com/download/iphone\" r...</td>\n",
       "      <td>This is Archie. He is a rare Norwegian Pouncin...</td>\n",
       "      <td>NaN</td>\n",
       "      <td>NaN</td>\n",
       "      <td>NaN</td>\n",
       "      <td>https://twitter.com/dog_rates/status/891815181...</td>\n",
       "      <td>12</td>\n",
       "      <td>10</td>\n",
       "      <td>Archie</td>\n",
       "      <td>None</td>\n",
       "      <td>None</td>\n",
       "      <td>None</td>\n",
       "      <td>None</td>\n",
       "    </tr>\n",
       "    <tr>\n",
       "      <th>3</th>\n",
       "      <td>891689557279858688</td>\n",
       "      <td>NaN</td>\n",
       "      <td>NaN</td>\n",
       "      <td>2017-07-30 15:58:51 +0000</td>\n",
       "      <td>&lt;a href=\"http://twitter.com/download/iphone\" r...</td>\n",
       "      <td>This is Darla. She commenced a snooze mid meal...</td>\n",
       "      <td>NaN</td>\n",
       "      <td>NaN</td>\n",
       "      <td>NaN</td>\n",
       "      <td>https://twitter.com/dog_rates/status/891689557...</td>\n",
       "      <td>13</td>\n",
       "      <td>10</td>\n",
       "      <td>Darla</td>\n",
       "      <td>None</td>\n",
       "      <td>None</td>\n",
       "      <td>None</td>\n",
       "      <td>None</td>\n",
       "    </tr>\n",
       "    <tr>\n",
       "      <th>4</th>\n",
       "      <td>891327558926688256</td>\n",
       "      <td>NaN</td>\n",
       "      <td>NaN</td>\n",
       "      <td>2017-07-29 16:00:24 +0000</td>\n",
       "      <td>&lt;a href=\"http://twitter.com/download/iphone\" r...</td>\n",
       "      <td>This is Franklin. He would like you to stop ca...</td>\n",
       "      <td>NaN</td>\n",
       "      <td>NaN</td>\n",
       "      <td>NaN</td>\n",
       "      <td>https://twitter.com/dog_rates/status/891327558...</td>\n",
       "      <td>12</td>\n",
       "      <td>10</td>\n",
       "      <td>Franklin</td>\n",
       "      <td>None</td>\n",
       "      <td>None</td>\n",
       "      <td>None</td>\n",
       "      <td>None</td>\n",
       "    </tr>\n",
       "    <tr>\n",
       "      <th>...</th>\n",
       "      <td>...</td>\n",
       "      <td>...</td>\n",
       "      <td>...</td>\n",
       "      <td>...</td>\n",
       "      <td>...</td>\n",
       "      <td>...</td>\n",
       "      <td>...</td>\n",
       "      <td>...</td>\n",
       "      <td>...</td>\n",
       "      <td>...</td>\n",
       "      <td>...</td>\n",
       "      <td>...</td>\n",
       "      <td>...</td>\n",
       "      <td>...</td>\n",
       "      <td>...</td>\n",
       "      <td>...</td>\n",
       "      <td>...</td>\n",
       "    </tr>\n",
       "    <tr>\n",
       "      <th>95</th>\n",
       "      <td>873697596434513921</td>\n",
       "      <td>NaN</td>\n",
       "      <td>NaN</td>\n",
       "      <td>2017-06-11 00:25:14 +0000</td>\n",
       "      <td>&lt;a href=\"http://twitter.com/download/iphone\" r...</td>\n",
       "      <td>RT @dog_rates: This is Walter. He won't start ...</td>\n",
       "      <td>8.688804e+17</td>\n",
       "      <td>4.196984e+09</td>\n",
       "      <td>2017-05-28 17:23:24 +0000</td>\n",
       "      <td>https://twitter.com/dog_rates/status/868880397...</td>\n",
       "      <td>14</td>\n",
       "      <td>10</td>\n",
       "      <td>Walter</td>\n",
       "      <td>None</td>\n",
       "      <td>None</td>\n",
       "      <td>None</td>\n",
       "      <td>None</td>\n",
       "    </tr>\n",
       "    <tr>\n",
       "      <th>96</th>\n",
       "      <td>873580283840344065</td>\n",
       "      <td>NaN</td>\n",
       "      <td>NaN</td>\n",
       "      <td>2017-06-10 16:39:04 +0000</td>\n",
       "      <td>&lt;a href=\"http://twitter.com/download/iphone\" r...</td>\n",
       "      <td>We usually don't rate Deck-bound Saskatoon Bla...</td>\n",
       "      <td>NaN</td>\n",
       "      <td>NaN</td>\n",
       "      <td>NaN</td>\n",
       "      <td>https://twitter.com/dog_rates/status/873580283...</td>\n",
       "      <td>13</td>\n",
       "      <td>10</td>\n",
       "      <td>None</td>\n",
       "      <td>None</td>\n",
       "      <td>None</td>\n",
       "      <td>None</td>\n",
       "      <td>None</td>\n",
       "    </tr>\n",
       "    <tr>\n",
       "      <th>97</th>\n",
       "      <td>873337748698140672</td>\n",
       "      <td>NaN</td>\n",
       "      <td>NaN</td>\n",
       "      <td>2017-06-10 00:35:19 +0000</td>\n",
       "      <td>&lt;a href=\"http://twitter.com/download/iphone\" r...</td>\n",
       "      <td>RT @dog_rates: This is Sierra. She's one preci...</td>\n",
       "      <td>8.732138e+17</td>\n",
       "      <td>4.196984e+09</td>\n",
       "      <td>2017-06-09 16:22:42 +0000</td>\n",
       "      <td>https://www.gofundme.com/help-my-baby-sierra-g...</td>\n",
       "      <td>12</td>\n",
       "      <td>10</td>\n",
       "      <td>Sierra</td>\n",
       "      <td>None</td>\n",
       "      <td>None</td>\n",
       "      <td>pupper</td>\n",
       "      <td>None</td>\n",
       "    </tr>\n",
       "    <tr>\n",
       "      <th>98</th>\n",
       "      <td>873213775632977920</td>\n",
       "      <td>NaN</td>\n",
       "      <td>NaN</td>\n",
       "      <td>2017-06-09 16:22:42 +0000</td>\n",
       "      <td>&lt;a href=\"http://twitter.com/download/iphone\" r...</td>\n",
       "      <td>This is Sierra. She's one precious pupper. Abs...</td>\n",
       "      <td>NaN</td>\n",
       "      <td>NaN</td>\n",
       "      <td>NaN</td>\n",
       "      <td>https://www.gofundme.com/help-my-baby-sierra-g...</td>\n",
       "      <td>12</td>\n",
       "      <td>10</td>\n",
       "      <td>Sierra</td>\n",
       "      <td>None</td>\n",
       "      <td>None</td>\n",
       "      <td>pupper</td>\n",
       "      <td>None</td>\n",
       "    </tr>\n",
       "    <tr>\n",
       "      <th>99</th>\n",
       "      <td>872967104147763200</td>\n",
       "      <td>NaN</td>\n",
       "      <td>NaN</td>\n",
       "      <td>2017-06-09 00:02:31 +0000</td>\n",
       "      <td>&lt;a href=\"http://twitter.com/download/iphone\" r...</td>\n",
       "      <td>Here's a very large dog. He has a date later. ...</td>\n",
       "      <td>NaN</td>\n",
       "      <td>NaN</td>\n",
       "      <td>NaN</td>\n",
       "      <td>https://twitter.com/dog_rates/status/872967104...</td>\n",
       "      <td>12</td>\n",
       "      <td>10</td>\n",
       "      <td>None</td>\n",
       "      <td>doggo</td>\n",
       "      <td>None</td>\n",
       "      <td>None</td>\n",
       "      <td>None</td>\n",
       "    </tr>\n",
       "  </tbody>\n",
       "</table>\n",
       "<p>100 rows × 17 columns</p>\n",
       "</div>"
      ],
      "text/plain": [
       "              tweet_id  in_reply_to_status_id  in_reply_to_user_id  \\\n",
       "0   892420643555336193                    NaN                  NaN   \n",
       "1   892177421306343426                    NaN                  NaN   \n",
       "2   891815181378084864                    NaN                  NaN   \n",
       "3   891689557279858688                    NaN                  NaN   \n",
       "4   891327558926688256                    NaN                  NaN   \n",
       "..                 ...                    ...                  ...   \n",
       "95  873697596434513921                    NaN                  NaN   \n",
       "96  873580283840344065                    NaN                  NaN   \n",
       "97  873337748698140672                    NaN                  NaN   \n",
       "98  873213775632977920                    NaN                  NaN   \n",
       "99  872967104147763200                    NaN                  NaN   \n",
       "\n",
       "                    timestamp  \\\n",
       "0   2017-08-01 16:23:56 +0000   \n",
       "1   2017-08-01 00:17:27 +0000   \n",
       "2   2017-07-31 00:18:03 +0000   \n",
       "3   2017-07-30 15:58:51 +0000   \n",
       "4   2017-07-29 16:00:24 +0000   \n",
       "..                        ...   \n",
       "95  2017-06-11 00:25:14 +0000   \n",
       "96  2017-06-10 16:39:04 +0000   \n",
       "97  2017-06-10 00:35:19 +0000   \n",
       "98  2017-06-09 16:22:42 +0000   \n",
       "99  2017-06-09 00:02:31 +0000   \n",
       "\n",
       "                                               source  \\\n",
       "0   <a href=\"http://twitter.com/download/iphone\" r...   \n",
       "1   <a href=\"http://twitter.com/download/iphone\" r...   \n",
       "2   <a href=\"http://twitter.com/download/iphone\" r...   \n",
       "3   <a href=\"http://twitter.com/download/iphone\" r...   \n",
       "4   <a href=\"http://twitter.com/download/iphone\" r...   \n",
       "..                                                ...   \n",
       "95  <a href=\"http://twitter.com/download/iphone\" r...   \n",
       "96  <a href=\"http://twitter.com/download/iphone\" r...   \n",
       "97  <a href=\"http://twitter.com/download/iphone\" r...   \n",
       "98  <a href=\"http://twitter.com/download/iphone\" r...   \n",
       "99  <a href=\"http://twitter.com/download/iphone\" r...   \n",
       "\n",
       "                                                 text  retweeted_status_id  \\\n",
       "0   This is Phineas. He's a mystical boy. Only eve...                  NaN   \n",
       "1   This is Tilly. She's just checking pup on you....                  NaN   \n",
       "2   This is Archie. He is a rare Norwegian Pouncin...                  NaN   \n",
       "3   This is Darla. She commenced a snooze mid meal...                  NaN   \n",
       "4   This is Franklin. He would like you to stop ca...                  NaN   \n",
       "..                                                ...                  ...   \n",
       "95  RT @dog_rates: This is Walter. He won't start ...         8.688804e+17   \n",
       "96  We usually don't rate Deck-bound Saskatoon Bla...                  NaN   \n",
       "97  RT @dog_rates: This is Sierra. She's one preci...         8.732138e+17   \n",
       "98  This is Sierra. She's one precious pupper. Abs...                  NaN   \n",
       "99  Here's a very large dog. He has a date later. ...                  NaN   \n",
       "\n",
       "    retweeted_status_user_id retweeted_status_timestamp  \\\n",
       "0                        NaN                        NaN   \n",
       "1                        NaN                        NaN   \n",
       "2                        NaN                        NaN   \n",
       "3                        NaN                        NaN   \n",
       "4                        NaN                        NaN   \n",
       "..                       ...                        ...   \n",
       "95              4.196984e+09  2017-05-28 17:23:24 +0000   \n",
       "96                       NaN                        NaN   \n",
       "97              4.196984e+09  2017-06-09 16:22:42 +0000   \n",
       "98                       NaN                        NaN   \n",
       "99                       NaN                        NaN   \n",
       "\n",
       "                                        expanded_urls  rating_numerator  \\\n",
       "0   https://twitter.com/dog_rates/status/892420643...                13   \n",
       "1   https://twitter.com/dog_rates/status/892177421...                13   \n",
       "2   https://twitter.com/dog_rates/status/891815181...                12   \n",
       "3   https://twitter.com/dog_rates/status/891689557...                13   \n",
       "4   https://twitter.com/dog_rates/status/891327558...                12   \n",
       "..                                                ...               ...   \n",
       "95  https://twitter.com/dog_rates/status/868880397...                14   \n",
       "96  https://twitter.com/dog_rates/status/873580283...                13   \n",
       "97  https://www.gofundme.com/help-my-baby-sierra-g...                12   \n",
       "98  https://www.gofundme.com/help-my-baby-sierra-g...                12   \n",
       "99  https://twitter.com/dog_rates/status/872967104...                12   \n",
       "\n",
       "    rating_denominator      name  doggo floofer  pupper puppo  \n",
       "0                   10   Phineas   None    None    None  None  \n",
       "1                   10     Tilly   None    None    None  None  \n",
       "2                   10    Archie   None    None    None  None  \n",
       "3                   10     Darla   None    None    None  None  \n",
       "4                   10  Franklin   None    None    None  None  \n",
       "..                 ...       ...    ...     ...     ...   ...  \n",
       "95                  10    Walter   None    None    None  None  \n",
       "96                  10      None   None    None    None  None  \n",
       "97                  10    Sierra   None    None  pupper  None  \n",
       "98                  10    Sierra   None    None  pupper  None  \n",
       "99                  10      None  doggo    None    None  None  \n",
       "\n",
       "[100 rows x 17 columns]"
      ]
     },
     "execution_count": 6,
     "metadata": {},
     "output_type": "execute_result"
    }
   ],
   "source": [
    "twitter_archive.head(100)"
   ]
  },
  {
   "cell_type": "code",
   "execution_count": 7,
   "id": "61898d67",
   "metadata": {},
   "outputs": [
    {
     "data": {
      "text/html": [
       "<div>\n",
       "<style scoped>\n",
       "    .dataframe tbody tr th:only-of-type {\n",
       "        vertical-align: middle;\n",
       "    }\n",
       "\n",
       "    .dataframe tbody tr th {\n",
       "        vertical-align: top;\n",
       "    }\n",
       "\n",
       "    .dataframe thead th {\n",
       "        text-align: right;\n",
       "    }\n",
       "</style>\n",
       "<table border=\"1\" class=\"dataframe\">\n",
       "  <thead>\n",
       "    <tr style=\"text-align: right;\">\n",
       "      <th></th>\n",
       "      <th>tweet_id</th>\n",
       "      <th>jpg_url</th>\n",
       "      <th>img_num</th>\n",
       "      <th>p1</th>\n",
       "      <th>p1_conf</th>\n",
       "      <th>p1_dog</th>\n",
       "      <th>p2</th>\n",
       "      <th>p2_conf</th>\n",
       "      <th>p2_dog</th>\n",
       "      <th>p3</th>\n",
       "      <th>p3_conf</th>\n",
       "      <th>p3_dog</th>\n",
       "    </tr>\n",
       "  </thead>\n",
       "  <tbody>\n",
       "    <tr>\n",
       "      <th>0</th>\n",
       "      <td>666020888022790149</td>\n",
       "      <td>https://pbs.twimg.com/media/CT4udn0WwAA0aMy.jpg</td>\n",
       "      <td>1</td>\n",
       "      <td>Welsh_springer_spaniel</td>\n",
       "      <td>0.465074</td>\n",
       "      <td>True</td>\n",
       "      <td>collie</td>\n",
       "      <td>0.156665</td>\n",
       "      <td>True</td>\n",
       "      <td>Shetland_sheepdog</td>\n",
       "      <td>0.061428</td>\n",
       "      <td>True</td>\n",
       "    </tr>\n",
       "    <tr>\n",
       "      <th>1</th>\n",
       "      <td>666029285002620928</td>\n",
       "      <td>https://pbs.twimg.com/media/CT42GRgUYAA5iDo.jpg</td>\n",
       "      <td>1</td>\n",
       "      <td>redbone</td>\n",
       "      <td>0.506826</td>\n",
       "      <td>True</td>\n",
       "      <td>miniature_pinscher</td>\n",
       "      <td>0.074192</td>\n",
       "      <td>True</td>\n",
       "      <td>Rhodesian_ridgeback</td>\n",
       "      <td>0.072010</td>\n",
       "      <td>True</td>\n",
       "    </tr>\n",
       "    <tr>\n",
       "      <th>2</th>\n",
       "      <td>666033412701032449</td>\n",
       "      <td>https://pbs.twimg.com/media/CT4521TWwAEvMyu.jpg</td>\n",
       "      <td>1</td>\n",
       "      <td>German_shepherd</td>\n",
       "      <td>0.596461</td>\n",
       "      <td>True</td>\n",
       "      <td>malinois</td>\n",
       "      <td>0.138584</td>\n",
       "      <td>True</td>\n",
       "      <td>bloodhound</td>\n",
       "      <td>0.116197</td>\n",
       "      <td>True</td>\n",
       "    </tr>\n",
       "    <tr>\n",
       "      <th>3</th>\n",
       "      <td>666044226329800704</td>\n",
       "      <td>https://pbs.twimg.com/media/CT5Dr8HUEAA-lEu.jpg</td>\n",
       "      <td>1</td>\n",
       "      <td>Rhodesian_ridgeback</td>\n",
       "      <td>0.408143</td>\n",
       "      <td>True</td>\n",
       "      <td>redbone</td>\n",
       "      <td>0.360687</td>\n",
       "      <td>True</td>\n",
       "      <td>miniature_pinscher</td>\n",
       "      <td>0.222752</td>\n",
       "      <td>True</td>\n",
       "    </tr>\n",
       "    <tr>\n",
       "      <th>4</th>\n",
       "      <td>666049248165822465</td>\n",
       "      <td>https://pbs.twimg.com/media/CT5IQmsXIAAKY4A.jpg</td>\n",
       "      <td>1</td>\n",
       "      <td>miniature_pinscher</td>\n",
       "      <td>0.560311</td>\n",
       "      <td>True</td>\n",
       "      <td>Rottweiler</td>\n",
       "      <td>0.243682</td>\n",
       "      <td>True</td>\n",
       "      <td>Doberman</td>\n",
       "      <td>0.154629</td>\n",
       "      <td>True</td>\n",
       "    </tr>\n",
       "    <tr>\n",
       "      <th>5</th>\n",
       "      <td>666050758794694657</td>\n",
       "      <td>https://pbs.twimg.com/media/CT5Jof1WUAEuVxN.jpg</td>\n",
       "      <td>1</td>\n",
       "      <td>Bernese_mountain_dog</td>\n",
       "      <td>0.651137</td>\n",
       "      <td>True</td>\n",
       "      <td>English_springer</td>\n",
       "      <td>0.263788</td>\n",
       "      <td>True</td>\n",
       "      <td>Greater_Swiss_Mountain_dog</td>\n",
       "      <td>0.016199</td>\n",
       "      <td>True</td>\n",
       "    </tr>\n",
       "    <tr>\n",
       "      <th>6</th>\n",
       "      <td>666051853826850816</td>\n",
       "      <td>https://pbs.twimg.com/media/CT5KoJ1WoAAJash.jpg</td>\n",
       "      <td>1</td>\n",
       "      <td>box_turtle</td>\n",
       "      <td>0.933012</td>\n",
       "      <td>False</td>\n",
       "      <td>mud_turtle</td>\n",
       "      <td>0.045885</td>\n",
       "      <td>False</td>\n",
       "      <td>terrapin</td>\n",
       "      <td>0.017885</td>\n",
       "      <td>False</td>\n",
       "    </tr>\n",
       "    <tr>\n",
       "      <th>7</th>\n",
       "      <td>666055525042405380</td>\n",
       "      <td>https://pbs.twimg.com/media/CT5N9tpXIAAifs1.jpg</td>\n",
       "      <td>1</td>\n",
       "      <td>chow</td>\n",
       "      <td>0.692517</td>\n",
       "      <td>True</td>\n",
       "      <td>Tibetan_mastiff</td>\n",
       "      <td>0.058279</td>\n",
       "      <td>True</td>\n",
       "      <td>fur_coat</td>\n",
       "      <td>0.054449</td>\n",
       "      <td>False</td>\n",
       "    </tr>\n",
       "    <tr>\n",
       "      <th>8</th>\n",
       "      <td>666057090499244032</td>\n",
       "      <td>https://pbs.twimg.com/media/CT5PY90WoAAQGLo.jpg</td>\n",
       "      <td>1</td>\n",
       "      <td>shopping_cart</td>\n",
       "      <td>0.962465</td>\n",
       "      <td>False</td>\n",
       "      <td>shopping_basket</td>\n",
       "      <td>0.014594</td>\n",
       "      <td>False</td>\n",
       "      <td>golden_retriever</td>\n",
       "      <td>0.007959</td>\n",
       "      <td>True</td>\n",
       "    </tr>\n",
       "    <tr>\n",
       "      <th>9</th>\n",
       "      <td>666058600524156928</td>\n",
       "      <td>https://pbs.twimg.com/media/CT5Qw94XAAA_2dP.jpg</td>\n",
       "      <td>1</td>\n",
       "      <td>miniature_poodle</td>\n",
       "      <td>0.201493</td>\n",
       "      <td>True</td>\n",
       "      <td>komondor</td>\n",
       "      <td>0.192305</td>\n",
       "      <td>True</td>\n",
       "      <td>soft-coated_wheaten_terrier</td>\n",
       "      <td>0.082086</td>\n",
       "      <td>True</td>\n",
       "    </tr>\n",
       "  </tbody>\n",
       "</table>\n",
       "</div>"
      ],
      "text/plain": [
       "             tweet_id                                          jpg_url  \\\n",
       "0  666020888022790149  https://pbs.twimg.com/media/CT4udn0WwAA0aMy.jpg   \n",
       "1  666029285002620928  https://pbs.twimg.com/media/CT42GRgUYAA5iDo.jpg   \n",
       "2  666033412701032449  https://pbs.twimg.com/media/CT4521TWwAEvMyu.jpg   \n",
       "3  666044226329800704  https://pbs.twimg.com/media/CT5Dr8HUEAA-lEu.jpg   \n",
       "4  666049248165822465  https://pbs.twimg.com/media/CT5IQmsXIAAKY4A.jpg   \n",
       "5  666050758794694657  https://pbs.twimg.com/media/CT5Jof1WUAEuVxN.jpg   \n",
       "6  666051853826850816  https://pbs.twimg.com/media/CT5KoJ1WoAAJash.jpg   \n",
       "7  666055525042405380  https://pbs.twimg.com/media/CT5N9tpXIAAifs1.jpg   \n",
       "8  666057090499244032  https://pbs.twimg.com/media/CT5PY90WoAAQGLo.jpg   \n",
       "9  666058600524156928  https://pbs.twimg.com/media/CT5Qw94XAAA_2dP.jpg   \n",
       "\n",
       "   img_num                      p1   p1_conf  p1_dog                  p2  \\\n",
       "0        1  Welsh_springer_spaniel  0.465074    True              collie   \n",
       "1        1                 redbone  0.506826    True  miniature_pinscher   \n",
       "2        1         German_shepherd  0.596461    True            malinois   \n",
       "3        1     Rhodesian_ridgeback  0.408143    True             redbone   \n",
       "4        1      miniature_pinscher  0.560311    True          Rottweiler   \n",
       "5        1    Bernese_mountain_dog  0.651137    True    English_springer   \n",
       "6        1              box_turtle  0.933012   False          mud_turtle   \n",
       "7        1                    chow  0.692517    True     Tibetan_mastiff   \n",
       "8        1           shopping_cart  0.962465   False     shopping_basket   \n",
       "9        1        miniature_poodle  0.201493    True            komondor   \n",
       "\n",
       "    p2_conf  p2_dog                           p3   p3_conf  p3_dog  \n",
       "0  0.156665    True            Shetland_sheepdog  0.061428    True  \n",
       "1  0.074192    True          Rhodesian_ridgeback  0.072010    True  \n",
       "2  0.138584    True                   bloodhound  0.116197    True  \n",
       "3  0.360687    True           miniature_pinscher  0.222752    True  \n",
       "4  0.243682    True                     Doberman  0.154629    True  \n",
       "5  0.263788    True   Greater_Swiss_Mountain_dog  0.016199    True  \n",
       "6  0.045885   False                     terrapin  0.017885   False  \n",
       "7  0.058279    True                     fur_coat  0.054449   False  \n",
       "8  0.014594   False             golden_retriever  0.007959    True  \n",
       "9  0.192305    True  soft-coated_wheaten_terrier  0.082086    True  "
      ]
     },
     "execution_count": 7,
     "metadata": {},
     "output_type": "execute_result"
    }
   ],
   "source": [
    "image_predict.head(10)"
   ]
  },
  {
   "cell_type": "code",
   "execution_count": 8,
   "id": "19bcb064",
   "metadata": {},
   "outputs": [
    {
     "data": {
      "text/html": [
       "<div>\n",
       "<style scoped>\n",
       "    .dataframe tbody tr th:only-of-type {\n",
       "        vertical-align: middle;\n",
       "    }\n",
       "\n",
       "    .dataframe tbody tr th {\n",
       "        vertical-align: top;\n",
       "    }\n",
       "\n",
       "    .dataframe thead th {\n",
       "        text-align: right;\n",
       "    }\n",
       "</style>\n",
       "<table border=\"1\" class=\"dataframe\">\n",
       "  <thead>\n",
       "    <tr style=\"text-align: right;\">\n",
       "      <th></th>\n",
       "      <th>id</th>\n",
       "      <th>retweet_count</th>\n",
       "      <th>favorite_count</th>\n",
       "    </tr>\n",
       "  </thead>\n",
       "  <tbody>\n",
       "    <tr>\n",
       "      <th>0</th>\n",
       "      <td>892420643555336193</td>\n",
       "      <td>8853</td>\n",
       "      <td>39467</td>\n",
       "    </tr>\n",
       "    <tr>\n",
       "      <th>1</th>\n",
       "      <td>892177421306343426</td>\n",
       "      <td>6514</td>\n",
       "      <td>33819</td>\n",
       "    </tr>\n",
       "    <tr>\n",
       "      <th>2</th>\n",
       "      <td>891815181378084864</td>\n",
       "      <td>4328</td>\n",
       "      <td>25461</td>\n",
       "    </tr>\n",
       "    <tr>\n",
       "      <th>3</th>\n",
       "      <td>891689557279858688</td>\n",
       "      <td>8964</td>\n",
       "      <td>42908</td>\n",
       "    </tr>\n",
       "    <tr>\n",
       "      <th>4</th>\n",
       "      <td>891327558926688256</td>\n",
       "      <td>9774</td>\n",
       "      <td>41048</td>\n",
       "    </tr>\n",
       "    <tr>\n",
       "      <th>5</th>\n",
       "      <td>891087950875897856</td>\n",
       "      <td>3261</td>\n",
       "      <td>20562</td>\n",
       "    </tr>\n",
       "    <tr>\n",
       "      <th>6</th>\n",
       "      <td>890971913173991426</td>\n",
       "      <td>2158</td>\n",
       "      <td>12041</td>\n",
       "    </tr>\n",
       "    <tr>\n",
       "      <th>7</th>\n",
       "      <td>890729181411237888</td>\n",
       "      <td>16716</td>\n",
       "      <td>56848</td>\n",
       "    </tr>\n",
       "    <tr>\n",
       "      <th>8</th>\n",
       "      <td>890609185150312448</td>\n",
       "      <td>4429</td>\n",
       "      <td>28226</td>\n",
       "    </tr>\n",
       "    <tr>\n",
       "      <th>9</th>\n",
       "      <td>890240255349198849</td>\n",
       "      <td>7711</td>\n",
       "      <td>32467</td>\n",
       "    </tr>\n",
       "  </tbody>\n",
       "</table>\n",
       "</div>"
      ],
      "text/plain": [
       "                   id  retweet_count  favorite_count\n",
       "0  892420643555336193           8853           39467\n",
       "1  892177421306343426           6514           33819\n",
       "2  891815181378084864           4328           25461\n",
       "3  891689557279858688           8964           42908\n",
       "4  891327558926688256           9774           41048\n",
       "5  891087950875897856           3261           20562\n",
       "6  890971913173991426           2158           12041\n",
       "7  890729181411237888          16716           56848\n",
       "8  890609185150312448           4429           28226\n",
       "9  890240255349198849           7711           32467"
      ]
     },
     "execution_count": 8,
     "metadata": {},
     "output_type": "execute_result"
    }
   ],
   "source": [
    "json_data.head(10)"
   ]
  },
  {
   "cell_type": "markdown",
   "id": "1c393712",
   "metadata": {},
   "source": [
    "programatic assessing"
   ]
  },
  {
   "cell_type": "code",
   "execution_count": 9,
   "id": "95fea7ea",
   "metadata": {},
   "outputs": [
    {
     "data": {
      "text/plain": [
       "(2356, 17)"
      ]
     },
     "execution_count": 9,
     "metadata": {},
     "output_type": "execute_result"
    }
   ],
   "source": [
    "twitter_archive.shape"
   ]
  },
  {
   "cell_type": "code",
   "execution_count": 10,
   "id": "91cabe7a",
   "metadata": {},
   "outputs": [
    {
     "name": "stdout",
     "output_type": "stream",
     "text": [
      "<class 'pandas.core.frame.DataFrame'>\n",
      "RangeIndex: 2356 entries, 0 to 2355\n",
      "Data columns (total 17 columns):\n",
      " #   Column                      Non-Null Count  Dtype  \n",
      "---  ------                      --------------  -----  \n",
      " 0   tweet_id                    2356 non-null   int64  \n",
      " 1   in_reply_to_status_id       78 non-null     float64\n",
      " 2   in_reply_to_user_id         78 non-null     float64\n",
      " 3   timestamp                   2356 non-null   object \n",
      " 4   source                      2356 non-null   object \n",
      " 5   text                        2356 non-null   object \n",
      " 6   retweeted_status_id         181 non-null    float64\n",
      " 7   retweeted_status_user_id    181 non-null    float64\n",
      " 8   retweeted_status_timestamp  181 non-null    object \n",
      " 9   expanded_urls               2297 non-null   object \n",
      " 10  rating_numerator            2356 non-null   int64  \n",
      " 11  rating_denominator          2356 non-null   int64  \n",
      " 12  name                        2356 non-null   object \n",
      " 13  doggo                       2356 non-null   object \n",
      " 14  floofer                     2356 non-null   object \n",
      " 15  pupper                      2356 non-null   object \n",
      " 16  puppo                       2356 non-null   object \n",
      "dtypes: float64(4), int64(3), object(10)\n",
      "memory usage: 313.0+ KB\n"
     ]
    }
   ],
   "source": [
    "twitter_archive.info()"
   ]
  },
  {
   "cell_type": "code",
   "execution_count": 11,
   "id": "6d06ff0e",
   "metadata": {},
   "outputs": [
    {
     "data": {
      "text/plain": [
       "0"
      ]
     },
     "execution_count": 11,
     "metadata": {},
     "output_type": "execute_result"
    }
   ],
   "source": [
    "twitter_archive.duplicated().sum()"
   ]
  },
  {
   "cell_type": "code",
   "execution_count": 12,
   "id": "743053ca",
   "metadata": {
    "scrolled": true
   },
   "outputs": [
    {
     "data": {
      "text/html": [
       "<div>\n",
       "<style scoped>\n",
       "    .dataframe tbody tr th:only-of-type {\n",
       "        vertical-align: middle;\n",
       "    }\n",
       "\n",
       "    .dataframe tbody tr th {\n",
       "        vertical-align: top;\n",
       "    }\n",
       "\n",
       "    .dataframe thead th {\n",
       "        text-align: right;\n",
       "    }\n",
       "</style>\n",
       "<table border=\"1\" class=\"dataframe\">\n",
       "  <thead>\n",
       "    <tr style=\"text-align: right;\">\n",
       "      <th></th>\n",
       "      <th>tweet_id</th>\n",
       "      <th>in_reply_to_status_id</th>\n",
       "      <th>in_reply_to_user_id</th>\n",
       "      <th>retweeted_status_id</th>\n",
       "      <th>retweeted_status_user_id</th>\n",
       "      <th>rating_numerator</th>\n",
       "      <th>rating_denominator</th>\n",
       "    </tr>\n",
       "  </thead>\n",
       "  <tbody>\n",
       "    <tr>\n",
       "      <th>count</th>\n",
       "      <td>2.356000e+03</td>\n",
       "      <td>7.800000e+01</td>\n",
       "      <td>7.800000e+01</td>\n",
       "      <td>1.810000e+02</td>\n",
       "      <td>1.810000e+02</td>\n",
       "      <td>2356.000000</td>\n",
       "      <td>2356.000000</td>\n",
       "    </tr>\n",
       "    <tr>\n",
       "      <th>mean</th>\n",
       "      <td>7.427716e+17</td>\n",
       "      <td>7.455079e+17</td>\n",
       "      <td>2.014171e+16</td>\n",
       "      <td>7.720400e+17</td>\n",
       "      <td>1.241698e+16</td>\n",
       "      <td>13.126486</td>\n",
       "      <td>10.455433</td>\n",
       "    </tr>\n",
       "    <tr>\n",
       "      <th>std</th>\n",
       "      <td>6.856705e+16</td>\n",
       "      <td>7.582492e+16</td>\n",
       "      <td>1.252797e+17</td>\n",
       "      <td>6.236928e+16</td>\n",
       "      <td>9.599254e+16</td>\n",
       "      <td>45.876648</td>\n",
       "      <td>6.745237</td>\n",
       "    </tr>\n",
       "    <tr>\n",
       "      <th>min</th>\n",
       "      <td>6.660209e+17</td>\n",
       "      <td>6.658147e+17</td>\n",
       "      <td>1.185634e+07</td>\n",
       "      <td>6.661041e+17</td>\n",
       "      <td>7.832140e+05</td>\n",
       "      <td>0.000000</td>\n",
       "      <td>0.000000</td>\n",
       "    </tr>\n",
       "    <tr>\n",
       "      <th>25%</th>\n",
       "      <td>6.783989e+17</td>\n",
       "      <td>6.757419e+17</td>\n",
       "      <td>3.086374e+08</td>\n",
       "      <td>7.186315e+17</td>\n",
       "      <td>4.196984e+09</td>\n",
       "      <td>10.000000</td>\n",
       "      <td>10.000000</td>\n",
       "    </tr>\n",
       "    <tr>\n",
       "      <th>50%</th>\n",
       "      <td>7.196279e+17</td>\n",
       "      <td>7.038708e+17</td>\n",
       "      <td>4.196984e+09</td>\n",
       "      <td>7.804657e+17</td>\n",
       "      <td>4.196984e+09</td>\n",
       "      <td>11.000000</td>\n",
       "      <td>10.000000</td>\n",
       "    </tr>\n",
       "    <tr>\n",
       "      <th>75%</th>\n",
       "      <td>7.993373e+17</td>\n",
       "      <td>8.257804e+17</td>\n",
       "      <td>4.196984e+09</td>\n",
       "      <td>8.203146e+17</td>\n",
       "      <td>4.196984e+09</td>\n",
       "      <td>12.000000</td>\n",
       "      <td>10.000000</td>\n",
       "    </tr>\n",
       "    <tr>\n",
       "      <th>max</th>\n",
       "      <td>8.924206e+17</td>\n",
       "      <td>8.862664e+17</td>\n",
       "      <td>8.405479e+17</td>\n",
       "      <td>8.874740e+17</td>\n",
       "      <td>7.874618e+17</td>\n",
       "      <td>1776.000000</td>\n",
       "      <td>170.000000</td>\n",
       "    </tr>\n",
       "  </tbody>\n",
       "</table>\n",
       "</div>"
      ],
      "text/plain": [
       "           tweet_id  in_reply_to_status_id  in_reply_to_user_id  \\\n",
       "count  2.356000e+03           7.800000e+01         7.800000e+01   \n",
       "mean   7.427716e+17           7.455079e+17         2.014171e+16   \n",
       "std    6.856705e+16           7.582492e+16         1.252797e+17   \n",
       "min    6.660209e+17           6.658147e+17         1.185634e+07   \n",
       "25%    6.783989e+17           6.757419e+17         3.086374e+08   \n",
       "50%    7.196279e+17           7.038708e+17         4.196984e+09   \n",
       "75%    7.993373e+17           8.257804e+17         4.196984e+09   \n",
       "max    8.924206e+17           8.862664e+17         8.405479e+17   \n",
       "\n",
       "       retweeted_status_id  retweeted_status_user_id  rating_numerator  \\\n",
       "count         1.810000e+02              1.810000e+02       2356.000000   \n",
       "mean          7.720400e+17              1.241698e+16         13.126486   \n",
       "std           6.236928e+16              9.599254e+16         45.876648   \n",
       "min           6.661041e+17              7.832140e+05          0.000000   \n",
       "25%           7.186315e+17              4.196984e+09         10.000000   \n",
       "50%           7.804657e+17              4.196984e+09         11.000000   \n",
       "75%           8.203146e+17              4.196984e+09         12.000000   \n",
       "max           8.874740e+17              7.874618e+17       1776.000000   \n",
       "\n",
       "       rating_denominator  \n",
       "count         2356.000000  \n",
       "mean            10.455433  \n",
       "std              6.745237  \n",
       "min              0.000000  \n",
       "25%             10.000000  \n",
       "50%             10.000000  \n",
       "75%             10.000000  \n",
       "max            170.000000  "
      ]
     },
     "execution_count": 12,
     "metadata": {},
     "output_type": "execute_result"
    }
   ],
   "source": [
    "twitter_archive.describe()"
   ]
  },
  {
   "cell_type": "code",
   "execution_count": 13,
   "id": "e48bc572",
   "metadata": {},
   "outputs": [
    {
     "name": "stdout",
     "output_type": "stream",
     "text": [
      "<class 'pandas.core.frame.DataFrame'>\n",
      "RangeIndex: 2075 entries, 0 to 2074\n",
      "Data columns (total 12 columns):\n",
      " #   Column    Non-Null Count  Dtype  \n",
      "---  ------    --------------  -----  \n",
      " 0   tweet_id  2075 non-null   int64  \n",
      " 1   jpg_url   2075 non-null   object \n",
      " 2   img_num   2075 non-null   int64  \n",
      " 3   p1        2075 non-null   object \n",
      " 4   p1_conf   2075 non-null   float64\n",
      " 5   p1_dog    2075 non-null   bool   \n",
      " 6   p2        2075 non-null   object \n",
      " 7   p2_conf   2075 non-null   float64\n",
      " 8   p2_dog    2075 non-null   bool   \n",
      " 9   p3        2075 non-null   object \n",
      " 10  p3_conf   2075 non-null   float64\n",
      " 11  p3_dog    2075 non-null   bool   \n",
      "dtypes: bool(3), float64(3), int64(2), object(4)\n",
      "memory usage: 152.1+ KB\n"
     ]
    }
   ],
   "source": [
    "image_predict.info()"
   ]
  },
  {
   "cell_type": "code",
   "execution_count": 14,
   "id": "13d025c3",
   "metadata": {},
   "outputs": [
    {
     "name": "stdout",
     "output_type": "stream",
     "text": [
      "<class 'pandas.core.frame.DataFrame'>\n",
      "RangeIndex: 2354 entries, 0 to 2353\n",
      "Data columns (total 3 columns):\n",
      " #   Column          Non-Null Count  Dtype\n",
      "---  ------          --------------  -----\n",
      " 0   id              2354 non-null   int64\n",
      " 1   retweet_count   2354 non-null   int64\n",
      " 2   favorite_count  2354 non-null   int64\n",
      "dtypes: int64(3)\n",
      "memory usage: 55.3 KB\n"
     ]
    }
   ],
   "source": [
    "json_data.info()"
   ]
  },
  {
   "cell_type": "code",
   "execution_count": 15,
   "id": "d3fa1051",
   "metadata": {},
   "outputs": [
    {
     "data": {
      "text/html": [
       "<div>\n",
       "<style scoped>\n",
       "    .dataframe tbody tr th:only-of-type {\n",
       "        vertical-align: middle;\n",
       "    }\n",
       "\n",
       "    .dataframe tbody tr th {\n",
       "        vertical-align: top;\n",
       "    }\n",
       "\n",
       "    .dataframe thead th {\n",
       "        text-align: right;\n",
       "    }\n",
       "</style>\n",
       "<table border=\"1\" class=\"dataframe\">\n",
       "  <thead>\n",
       "    <tr style=\"text-align: right;\">\n",
       "      <th></th>\n",
       "      <th>id</th>\n",
       "      <th>retweet_count</th>\n",
       "      <th>favorite_count</th>\n",
       "    </tr>\n",
       "  </thead>\n",
       "  <tbody>\n",
       "    <tr>\n",
       "      <th>count</th>\n",
       "      <td>2.354000e+03</td>\n",
       "      <td>2354.000000</td>\n",
       "      <td>2354.000000</td>\n",
       "    </tr>\n",
       "    <tr>\n",
       "      <th>mean</th>\n",
       "      <td>7.426978e+17</td>\n",
       "      <td>3164.797366</td>\n",
       "      <td>8080.968564</td>\n",
       "    </tr>\n",
       "    <tr>\n",
       "      <th>std</th>\n",
       "      <td>6.852812e+16</td>\n",
       "      <td>5284.770364</td>\n",
       "      <td>11814.771334</td>\n",
       "    </tr>\n",
       "    <tr>\n",
       "      <th>min</th>\n",
       "      <td>6.660209e+17</td>\n",
       "      <td>0.000000</td>\n",
       "      <td>0.000000</td>\n",
       "    </tr>\n",
       "    <tr>\n",
       "      <th>25%</th>\n",
       "      <td>6.783975e+17</td>\n",
       "      <td>624.500000</td>\n",
       "      <td>1415.000000</td>\n",
       "    </tr>\n",
       "    <tr>\n",
       "      <th>50%</th>\n",
       "      <td>7.194596e+17</td>\n",
       "      <td>1473.500000</td>\n",
       "      <td>3603.500000</td>\n",
       "    </tr>\n",
       "    <tr>\n",
       "      <th>75%</th>\n",
       "      <td>7.993058e+17</td>\n",
       "      <td>3652.000000</td>\n",
       "      <td>10122.250000</td>\n",
       "    </tr>\n",
       "    <tr>\n",
       "      <th>max</th>\n",
       "      <td>8.924206e+17</td>\n",
       "      <td>79515.000000</td>\n",
       "      <td>132810.000000</td>\n",
       "    </tr>\n",
       "  </tbody>\n",
       "</table>\n",
       "</div>"
      ],
      "text/plain": [
       "                 id  retweet_count  favorite_count\n",
       "count  2.354000e+03    2354.000000     2354.000000\n",
       "mean   7.426978e+17    3164.797366     8080.968564\n",
       "std    6.852812e+16    5284.770364    11814.771334\n",
       "min    6.660209e+17       0.000000        0.000000\n",
       "25%    6.783975e+17     624.500000     1415.000000\n",
       "50%    7.194596e+17    1473.500000     3603.500000\n",
       "75%    7.993058e+17    3652.000000    10122.250000\n",
       "max    8.924206e+17   79515.000000   132810.000000"
      ]
     },
     "execution_count": 15,
     "metadata": {},
     "output_type": "execute_result"
    }
   ],
   "source": [
    "json_data.describe()"
   ]
  },
  {
   "cell_type": "code",
   "execution_count": 16,
   "id": "01be351a",
   "metadata": {},
   "outputs": [
    {
     "data": {
      "text/plain": [
       "(2075, 12)"
      ]
     },
     "execution_count": 16,
     "metadata": {},
     "output_type": "execute_result"
    }
   ],
   "source": [
    "image_predict.shape"
   ]
  },
  {
   "cell_type": "code",
   "execution_count": 17,
   "id": "23a01ade",
   "metadata": {},
   "outputs": [
    {
     "data": {
      "text/plain": [
       "66"
      ]
     },
     "execution_count": 17,
     "metadata": {},
     "output_type": "execute_result"
    }
   ],
   "source": [
    "sum(image_predict['jpg_url'].duplicated())"
   ]
  },
  {
   "cell_type": "code",
   "execution_count": 18,
   "id": "807b6e39",
   "metadata": {},
   "outputs": [
    {
     "data": {
      "text/plain": [
       "None        745\n",
       "a            55\n",
       "Charlie      12\n",
       "Cooper       11\n",
       "Lucy         11\n",
       "Oliver       11\n",
       "Tucker       10\n",
       "Penny        10\n",
       "Lola         10\n",
       "Winston       9\n",
       "Bo            9\n",
       "Sadie         8\n",
       "the           8\n",
       "Daisy         7\n",
       "Buddy         7\n",
       "Toby          7\n",
       "an            7\n",
       "Bailey        7\n",
       "Leo           6\n",
       "Oscar         6\n",
       "Stanley       6\n",
       "Rusty         6\n",
       "Bella         6\n",
       "Dave          6\n",
       "Jack          6\n",
       "Koda          6\n",
       "Scout         6\n",
       "Jax           6\n",
       "Milo          6\n",
       "Louis         5\n",
       "Phil          5\n",
       "Sammy         5\n",
       "Gus           5\n",
       "Chester       5\n",
       "Alfie         5\n",
       "Sunny         5\n",
       "Bentley       5\n",
       "very          5\n",
       "Oakley        5\n",
       "Finn          5\n",
       "George        5\n",
       "Larry         5\n",
       "Clarence      4\n",
       "Loki          4\n",
       "Walter        4\n",
       "Reggie        4\n",
       "Hank          4\n",
       "Scooter       4\n",
       "Duke          4\n",
       "quite         4\n",
       "Reginald      4\n",
       "Maggie        4\n",
       "Luna          4\n",
       "Maddie        4\n",
       "Dexter        4\n",
       "Jerry         4\n",
       "Carl          4\n",
       "Ruby          4\n",
       "Riley         4\n",
       "Clark         4\n",
       "Name: name, dtype: int64"
      ]
     },
     "execution_count": 18,
     "metadata": {},
     "output_type": "execute_result"
    }
   ],
   "source": [
    "twitter_archive.name.value_counts().head(60)\n"
   ]
  },
  {
   "cell_type": "markdown",
   "id": "aeea3b9c",
   "metadata": {},
   "source": [
    "## Cleaning ##"
   ]
  },
  {
   "cell_type": "code",
   "execution_count": 19,
   "id": "9174d378",
   "metadata": {},
   "outputs": [],
   "source": [
    "#make a copy of the three collected dataframes for cleaning phase\n",
    "twitter_archive_clean = twitter_archive.copy()\n",
    "image_predict_clean = image_predict.copy()\n",
    "json_data_clean = json_data.copy()"
   ]
  },
  {
   "cell_type": "markdown",
   "id": "ccead2ae",
   "metadata": {},
   "source": [
    "**Define**"
   ]
  },
  {
   "cell_type": "markdown",
   "id": "bc02932a",
   "metadata": {},
   "source": [
    "Tidiness issue: rename id in json-data to tweet_id"
   ]
  },
  {
   "cell_type": "markdown",
   "id": "b176766e",
   "metadata": {},
   "source": [
    "**code**"
   ]
  },
  {
   "cell_type": "code",
   "execution_count": 20,
   "id": "c71b637d",
   "metadata": {},
   "outputs": [],
   "source": [
    "json_data_clean.rename(columns = {'id':'tweet_id'}, inplace = True)\n"
   ]
  },
  {
   "cell_type": "markdown",
   "id": "42cd83e5",
   "metadata": {},
   "source": [
    "**test**"
   ]
  },
  {
   "cell_type": "code",
   "execution_count": 21,
   "id": "3f153434",
   "metadata": {
    "scrolled": true
   },
   "outputs": [
    {
     "name": "stdout",
     "output_type": "stream",
     "text": [
      "<class 'pandas.core.frame.DataFrame'>\n",
      "RangeIndex: 2354 entries, 0 to 2353\n",
      "Data columns (total 3 columns):\n",
      " #   Column          Non-Null Count  Dtype\n",
      "---  ------          --------------  -----\n",
      " 0   tweet_id        2354 non-null   int64\n",
      " 1   retweet_count   2354 non-null   int64\n",
      " 2   favorite_count  2354 non-null   int64\n",
      "dtypes: int64(3)\n",
      "memory usage: 55.3 KB\n"
     ]
    }
   ],
   "source": [
    "json_data_clean.info()"
   ]
  },
  {
   "cell_type": "code",
   "execution_count": 22,
   "id": "00fa628a",
   "metadata": {},
   "outputs": [],
   "source": [
    "#merge tweets_data_clean with twitter_clean\n",
    "twitter_archive_clean= pd.merge(twitter_archive_clean, json_data_clean, \n",
    "                         on = 'tweet_id', how = 'left')"
   ]
  },
  {
   "cell_type": "code",
   "execution_count": 23,
   "id": "27494fd1",
   "metadata": {},
   "outputs": [
    {
     "data": {
      "text/html": [
       "<div>\n",
       "<style scoped>\n",
       "    .dataframe tbody tr th:only-of-type {\n",
       "        vertical-align: middle;\n",
       "    }\n",
       "\n",
       "    .dataframe tbody tr th {\n",
       "        vertical-align: top;\n",
       "    }\n",
       "\n",
       "    .dataframe thead th {\n",
       "        text-align: right;\n",
       "    }\n",
       "</style>\n",
       "<table border=\"1\" class=\"dataframe\">\n",
       "  <thead>\n",
       "    <tr style=\"text-align: right;\">\n",
       "      <th></th>\n",
       "      <th>tweet_id</th>\n",
       "      <th>in_reply_to_status_id</th>\n",
       "      <th>in_reply_to_user_id</th>\n",
       "      <th>timestamp</th>\n",
       "      <th>source</th>\n",
       "      <th>text</th>\n",
       "      <th>retweeted_status_id</th>\n",
       "      <th>retweeted_status_user_id</th>\n",
       "      <th>retweeted_status_timestamp</th>\n",
       "      <th>expanded_urls</th>\n",
       "      <th>rating_numerator</th>\n",
       "      <th>rating_denominator</th>\n",
       "      <th>name</th>\n",
       "      <th>doggo</th>\n",
       "      <th>floofer</th>\n",
       "      <th>pupper</th>\n",
       "      <th>puppo</th>\n",
       "      <th>retweet_count</th>\n",
       "      <th>favorite_count</th>\n",
       "    </tr>\n",
       "  </thead>\n",
       "  <tbody>\n",
       "    <tr>\n",
       "      <th>0</th>\n",
       "      <td>892420643555336193</td>\n",
       "      <td>NaN</td>\n",
       "      <td>NaN</td>\n",
       "      <td>2017-08-01 16:23:56 +0000</td>\n",
       "      <td>&lt;a href=\"http://twitter.com/download/iphone\" r...</td>\n",
       "      <td>This is Phineas. He's a mystical boy. Only eve...</td>\n",
       "      <td>NaN</td>\n",
       "      <td>NaN</td>\n",
       "      <td>NaN</td>\n",
       "      <td>https://twitter.com/dog_rates/status/892420643...</td>\n",
       "      <td>13</td>\n",
       "      <td>10</td>\n",
       "      <td>Phineas</td>\n",
       "      <td>None</td>\n",
       "      <td>None</td>\n",
       "      <td>None</td>\n",
       "      <td>None</td>\n",
       "      <td>8853.0</td>\n",
       "      <td>39467.0</td>\n",
       "    </tr>\n",
       "    <tr>\n",
       "      <th>1</th>\n",
       "      <td>892177421306343426</td>\n",
       "      <td>NaN</td>\n",
       "      <td>NaN</td>\n",
       "      <td>2017-08-01 00:17:27 +0000</td>\n",
       "      <td>&lt;a href=\"http://twitter.com/download/iphone\" r...</td>\n",
       "      <td>This is Tilly. She's just checking pup on you....</td>\n",
       "      <td>NaN</td>\n",
       "      <td>NaN</td>\n",
       "      <td>NaN</td>\n",
       "      <td>https://twitter.com/dog_rates/status/892177421...</td>\n",
       "      <td>13</td>\n",
       "      <td>10</td>\n",
       "      <td>Tilly</td>\n",
       "      <td>None</td>\n",
       "      <td>None</td>\n",
       "      <td>None</td>\n",
       "      <td>None</td>\n",
       "      <td>6514.0</td>\n",
       "      <td>33819.0</td>\n",
       "    </tr>\n",
       "    <tr>\n",
       "      <th>2</th>\n",
       "      <td>891815181378084864</td>\n",
       "      <td>NaN</td>\n",
       "      <td>NaN</td>\n",
       "      <td>2017-07-31 00:18:03 +0000</td>\n",
       "      <td>&lt;a href=\"http://twitter.com/download/iphone\" r...</td>\n",
       "      <td>This is Archie. He is a rare Norwegian Pouncin...</td>\n",
       "      <td>NaN</td>\n",
       "      <td>NaN</td>\n",
       "      <td>NaN</td>\n",
       "      <td>https://twitter.com/dog_rates/status/891815181...</td>\n",
       "      <td>12</td>\n",
       "      <td>10</td>\n",
       "      <td>Archie</td>\n",
       "      <td>None</td>\n",
       "      <td>None</td>\n",
       "      <td>None</td>\n",
       "      <td>None</td>\n",
       "      <td>4328.0</td>\n",
       "      <td>25461.0</td>\n",
       "    </tr>\n",
       "    <tr>\n",
       "      <th>3</th>\n",
       "      <td>891689557279858688</td>\n",
       "      <td>NaN</td>\n",
       "      <td>NaN</td>\n",
       "      <td>2017-07-30 15:58:51 +0000</td>\n",
       "      <td>&lt;a href=\"http://twitter.com/download/iphone\" r...</td>\n",
       "      <td>This is Darla. She commenced a snooze mid meal...</td>\n",
       "      <td>NaN</td>\n",
       "      <td>NaN</td>\n",
       "      <td>NaN</td>\n",
       "      <td>https://twitter.com/dog_rates/status/891689557...</td>\n",
       "      <td>13</td>\n",
       "      <td>10</td>\n",
       "      <td>Darla</td>\n",
       "      <td>None</td>\n",
       "      <td>None</td>\n",
       "      <td>None</td>\n",
       "      <td>None</td>\n",
       "      <td>8964.0</td>\n",
       "      <td>42908.0</td>\n",
       "    </tr>\n",
       "    <tr>\n",
       "      <th>4</th>\n",
       "      <td>891327558926688256</td>\n",
       "      <td>NaN</td>\n",
       "      <td>NaN</td>\n",
       "      <td>2017-07-29 16:00:24 +0000</td>\n",
       "      <td>&lt;a href=\"http://twitter.com/download/iphone\" r...</td>\n",
       "      <td>This is Franklin. He would like you to stop ca...</td>\n",
       "      <td>NaN</td>\n",
       "      <td>NaN</td>\n",
       "      <td>NaN</td>\n",
       "      <td>https://twitter.com/dog_rates/status/891327558...</td>\n",
       "      <td>12</td>\n",
       "      <td>10</td>\n",
       "      <td>Franklin</td>\n",
       "      <td>None</td>\n",
       "      <td>None</td>\n",
       "      <td>None</td>\n",
       "      <td>None</td>\n",
       "      <td>9774.0</td>\n",
       "      <td>41048.0</td>\n",
       "    </tr>\n",
       "    <tr>\n",
       "      <th>...</th>\n",
       "      <td>...</td>\n",
       "      <td>...</td>\n",
       "      <td>...</td>\n",
       "      <td>...</td>\n",
       "      <td>...</td>\n",
       "      <td>...</td>\n",
       "      <td>...</td>\n",
       "      <td>...</td>\n",
       "      <td>...</td>\n",
       "      <td>...</td>\n",
       "      <td>...</td>\n",
       "      <td>...</td>\n",
       "      <td>...</td>\n",
       "      <td>...</td>\n",
       "      <td>...</td>\n",
       "      <td>...</td>\n",
       "      <td>...</td>\n",
       "      <td>...</td>\n",
       "      <td>...</td>\n",
       "    </tr>\n",
       "    <tr>\n",
       "      <th>2351</th>\n",
       "      <td>666049248165822465</td>\n",
       "      <td>NaN</td>\n",
       "      <td>NaN</td>\n",
       "      <td>2015-11-16 00:24:50 +0000</td>\n",
       "      <td>&lt;a href=\"http://twitter.com/download/iphone\" r...</td>\n",
       "      <td>Here we have a 1949 1st generation vulpix. Enj...</td>\n",
       "      <td>NaN</td>\n",
       "      <td>NaN</td>\n",
       "      <td>NaN</td>\n",
       "      <td>https://twitter.com/dog_rates/status/666049248...</td>\n",
       "      <td>5</td>\n",
       "      <td>10</td>\n",
       "      <td>None</td>\n",
       "      <td>None</td>\n",
       "      <td>None</td>\n",
       "      <td>None</td>\n",
       "      <td>None</td>\n",
       "      <td>41.0</td>\n",
       "      <td>111.0</td>\n",
       "    </tr>\n",
       "    <tr>\n",
       "      <th>2352</th>\n",
       "      <td>666044226329800704</td>\n",
       "      <td>NaN</td>\n",
       "      <td>NaN</td>\n",
       "      <td>2015-11-16 00:04:52 +0000</td>\n",
       "      <td>&lt;a href=\"http://twitter.com/download/iphone\" r...</td>\n",
       "      <td>This is a purebred Piers Morgan. Loves to Netf...</td>\n",
       "      <td>NaN</td>\n",
       "      <td>NaN</td>\n",
       "      <td>NaN</td>\n",
       "      <td>https://twitter.com/dog_rates/status/666044226...</td>\n",
       "      <td>6</td>\n",
       "      <td>10</td>\n",
       "      <td>a</td>\n",
       "      <td>None</td>\n",
       "      <td>None</td>\n",
       "      <td>None</td>\n",
       "      <td>None</td>\n",
       "      <td>147.0</td>\n",
       "      <td>311.0</td>\n",
       "    </tr>\n",
       "    <tr>\n",
       "      <th>2353</th>\n",
       "      <td>666033412701032449</td>\n",
       "      <td>NaN</td>\n",
       "      <td>NaN</td>\n",
       "      <td>2015-11-15 23:21:54 +0000</td>\n",
       "      <td>&lt;a href=\"http://twitter.com/download/iphone\" r...</td>\n",
       "      <td>Here is a very happy pup. Big fan of well-main...</td>\n",
       "      <td>NaN</td>\n",
       "      <td>NaN</td>\n",
       "      <td>NaN</td>\n",
       "      <td>https://twitter.com/dog_rates/status/666033412...</td>\n",
       "      <td>9</td>\n",
       "      <td>10</td>\n",
       "      <td>a</td>\n",
       "      <td>None</td>\n",
       "      <td>None</td>\n",
       "      <td>None</td>\n",
       "      <td>None</td>\n",
       "      <td>47.0</td>\n",
       "      <td>128.0</td>\n",
       "    </tr>\n",
       "    <tr>\n",
       "      <th>2354</th>\n",
       "      <td>666029285002620928</td>\n",
       "      <td>NaN</td>\n",
       "      <td>NaN</td>\n",
       "      <td>2015-11-15 23:05:30 +0000</td>\n",
       "      <td>&lt;a href=\"http://twitter.com/download/iphone\" r...</td>\n",
       "      <td>This is a western brown Mitsubishi terrier. Up...</td>\n",
       "      <td>NaN</td>\n",
       "      <td>NaN</td>\n",
       "      <td>NaN</td>\n",
       "      <td>https://twitter.com/dog_rates/status/666029285...</td>\n",
       "      <td>7</td>\n",
       "      <td>10</td>\n",
       "      <td>a</td>\n",
       "      <td>None</td>\n",
       "      <td>None</td>\n",
       "      <td>None</td>\n",
       "      <td>None</td>\n",
       "      <td>48.0</td>\n",
       "      <td>132.0</td>\n",
       "    </tr>\n",
       "    <tr>\n",
       "      <th>2355</th>\n",
       "      <td>666020888022790149</td>\n",
       "      <td>NaN</td>\n",
       "      <td>NaN</td>\n",
       "      <td>2015-11-15 22:32:08 +0000</td>\n",
       "      <td>&lt;a href=\"http://twitter.com/download/iphone\" r...</td>\n",
       "      <td>Here we have a Japanese Irish Setter. Lost eye...</td>\n",
       "      <td>NaN</td>\n",
       "      <td>NaN</td>\n",
       "      <td>NaN</td>\n",
       "      <td>https://twitter.com/dog_rates/status/666020888...</td>\n",
       "      <td>8</td>\n",
       "      <td>10</td>\n",
       "      <td>None</td>\n",
       "      <td>None</td>\n",
       "      <td>None</td>\n",
       "      <td>None</td>\n",
       "      <td>None</td>\n",
       "      <td>532.0</td>\n",
       "      <td>2535.0</td>\n",
       "    </tr>\n",
       "  </tbody>\n",
       "</table>\n",
       "<p>2356 rows × 19 columns</p>\n",
       "</div>"
      ],
      "text/plain": [
       "                tweet_id  in_reply_to_status_id  in_reply_to_user_id  \\\n",
       "0     892420643555336193                    NaN                  NaN   \n",
       "1     892177421306343426                    NaN                  NaN   \n",
       "2     891815181378084864                    NaN                  NaN   \n",
       "3     891689557279858688                    NaN                  NaN   \n",
       "4     891327558926688256                    NaN                  NaN   \n",
       "...                  ...                    ...                  ...   \n",
       "2351  666049248165822465                    NaN                  NaN   \n",
       "2352  666044226329800704                    NaN                  NaN   \n",
       "2353  666033412701032449                    NaN                  NaN   \n",
       "2354  666029285002620928                    NaN                  NaN   \n",
       "2355  666020888022790149                    NaN                  NaN   \n",
       "\n",
       "                      timestamp  \\\n",
       "0     2017-08-01 16:23:56 +0000   \n",
       "1     2017-08-01 00:17:27 +0000   \n",
       "2     2017-07-31 00:18:03 +0000   \n",
       "3     2017-07-30 15:58:51 +0000   \n",
       "4     2017-07-29 16:00:24 +0000   \n",
       "...                         ...   \n",
       "2351  2015-11-16 00:24:50 +0000   \n",
       "2352  2015-11-16 00:04:52 +0000   \n",
       "2353  2015-11-15 23:21:54 +0000   \n",
       "2354  2015-11-15 23:05:30 +0000   \n",
       "2355  2015-11-15 22:32:08 +0000   \n",
       "\n",
       "                                                 source  \\\n",
       "0     <a href=\"http://twitter.com/download/iphone\" r...   \n",
       "1     <a href=\"http://twitter.com/download/iphone\" r...   \n",
       "2     <a href=\"http://twitter.com/download/iphone\" r...   \n",
       "3     <a href=\"http://twitter.com/download/iphone\" r...   \n",
       "4     <a href=\"http://twitter.com/download/iphone\" r...   \n",
       "...                                                 ...   \n",
       "2351  <a href=\"http://twitter.com/download/iphone\" r...   \n",
       "2352  <a href=\"http://twitter.com/download/iphone\" r...   \n",
       "2353  <a href=\"http://twitter.com/download/iphone\" r...   \n",
       "2354  <a href=\"http://twitter.com/download/iphone\" r...   \n",
       "2355  <a href=\"http://twitter.com/download/iphone\" r...   \n",
       "\n",
       "                                                   text  retweeted_status_id  \\\n",
       "0     This is Phineas. He's a mystical boy. Only eve...                  NaN   \n",
       "1     This is Tilly. She's just checking pup on you....                  NaN   \n",
       "2     This is Archie. He is a rare Norwegian Pouncin...                  NaN   \n",
       "3     This is Darla. She commenced a snooze mid meal...                  NaN   \n",
       "4     This is Franklin. He would like you to stop ca...                  NaN   \n",
       "...                                                 ...                  ...   \n",
       "2351  Here we have a 1949 1st generation vulpix. Enj...                  NaN   \n",
       "2352  This is a purebred Piers Morgan. Loves to Netf...                  NaN   \n",
       "2353  Here is a very happy pup. Big fan of well-main...                  NaN   \n",
       "2354  This is a western brown Mitsubishi terrier. Up...                  NaN   \n",
       "2355  Here we have a Japanese Irish Setter. Lost eye...                  NaN   \n",
       "\n",
       "      retweeted_status_user_id retweeted_status_timestamp  \\\n",
       "0                          NaN                        NaN   \n",
       "1                          NaN                        NaN   \n",
       "2                          NaN                        NaN   \n",
       "3                          NaN                        NaN   \n",
       "4                          NaN                        NaN   \n",
       "...                        ...                        ...   \n",
       "2351                       NaN                        NaN   \n",
       "2352                       NaN                        NaN   \n",
       "2353                       NaN                        NaN   \n",
       "2354                       NaN                        NaN   \n",
       "2355                       NaN                        NaN   \n",
       "\n",
       "                                          expanded_urls  rating_numerator  \\\n",
       "0     https://twitter.com/dog_rates/status/892420643...                13   \n",
       "1     https://twitter.com/dog_rates/status/892177421...                13   \n",
       "2     https://twitter.com/dog_rates/status/891815181...                12   \n",
       "3     https://twitter.com/dog_rates/status/891689557...                13   \n",
       "4     https://twitter.com/dog_rates/status/891327558...                12   \n",
       "...                                                 ...               ...   \n",
       "2351  https://twitter.com/dog_rates/status/666049248...                 5   \n",
       "2352  https://twitter.com/dog_rates/status/666044226...                 6   \n",
       "2353  https://twitter.com/dog_rates/status/666033412...                 9   \n",
       "2354  https://twitter.com/dog_rates/status/666029285...                 7   \n",
       "2355  https://twitter.com/dog_rates/status/666020888...                 8   \n",
       "\n",
       "      rating_denominator      name doggo floofer pupper puppo  retweet_count  \\\n",
       "0                     10   Phineas  None    None   None  None         8853.0   \n",
       "1                     10     Tilly  None    None   None  None         6514.0   \n",
       "2                     10    Archie  None    None   None  None         4328.0   \n",
       "3                     10     Darla  None    None   None  None         8964.0   \n",
       "4                     10  Franklin  None    None   None  None         9774.0   \n",
       "...                  ...       ...   ...     ...    ...   ...            ...   \n",
       "2351                  10      None  None    None   None  None           41.0   \n",
       "2352                  10         a  None    None   None  None          147.0   \n",
       "2353                  10         a  None    None   None  None           47.0   \n",
       "2354                  10         a  None    None   None  None           48.0   \n",
       "2355                  10      None  None    None   None  None          532.0   \n",
       "\n",
       "      favorite_count  \n",
       "0            39467.0  \n",
       "1            33819.0  \n",
       "2            25461.0  \n",
       "3            42908.0  \n",
       "4            41048.0  \n",
       "...              ...  \n",
       "2351           111.0  \n",
       "2352           311.0  \n",
       "2353           128.0  \n",
       "2354           132.0  \n",
       "2355          2535.0  \n",
       "\n",
       "[2356 rows x 19 columns]"
      ]
     },
     "execution_count": 23,
     "metadata": {},
     "output_type": "execute_result"
    }
   ],
   "source": [
    "twitter_archive_clean"
   ]
  },
  {
   "cell_type": "markdown",
   "id": "3225e2cd",
   "metadata": {},
   "source": [
    "**Define** "
   ]
  },
  {
   "cell_type": "markdown",
   "id": "d5f9b1e4",
   "metadata": {},
   "source": [
    "Quality issue:redundant retweets rows"
   ]
  },
  {
   "cell_type": "markdown",
   "id": "7c67fc35",
   "metadata": {},
   "source": [
    "**code**"
   ]
  },
  {
   "cell_type": "code",
   "execution_count": 24,
   "id": "fc392513",
   "metadata": {},
   "outputs": [],
   "source": [
    "# only orignal tweets will be kept (no retweets)\n",
    "twitter_clean= twitter_archive_clean[twitter_archive_clean['retweeted_status_id'].isnull()]\n",
    "\n",
    "# drop retweet related columns\n",
    "twitter_clean = twitter_clean.drop(['retweeted_status_id', 'retweeted_status_user_id','retweeted_status_timestamp'], \n",
    "                       axis=1)"
   ]
  },
  {
   "cell_type": "markdown",
   "id": "5157b9f8",
   "metadata": {},
   "source": [
    "**Test**"
   ]
  },
  {
   "cell_type": "code",
   "execution_count": 25,
   "id": "50befb87",
   "metadata": {
    "scrolled": false
   },
   "outputs": [
    {
     "name": "stdout",
     "output_type": "stream",
     "text": [
      "<class 'pandas.core.frame.DataFrame'>\n",
      "Int64Index: 2175 entries, 0 to 2355\n",
      "Data columns (total 16 columns):\n",
      " #   Column                 Non-Null Count  Dtype  \n",
      "---  ------                 --------------  -----  \n",
      " 0   tweet_id               2175 non-null   int64  \n",
      " 1   in_reply_to_status_id  78 non-null     float64\n",
      " 2   in_reply_to_user_id    78 non-null     float64\n",
      " 3   timestamp              2175 non-null   object \n",
      " 4   source                 2175 non-null   object \n",
      " 5   text                   2175 non-null   object \n",
      " 6   expanded_urls          2117 non-null   object \n",
      " 7   rating_numerator       2175 non-null   int64  \n",
      " 8   rating_denominator     2175 non-null   int64  \n",
      " 9   name                   2175 non-null   object \n",
      " 10  doggo                  2175 non-null   object \n",
      " 11  floofer                2175 non-null   object \n",
      " 12  pupper                 2175 non-null   object \n",
      " 13  puppo                  2175 non-null   object \n",
      " 14  retweet_count          2175 non-null   float64\n",
      " 15  favorite_count         2175 non-null   float64\n",
      "dtypes: float64(4), int64(3), object(9)\n",
      "memory usage: 288.9+ KB\n"
     ]
    }
   ],
   "source": [
    "twitter_clean.info()"
   ]
  },
  {
   "cell_type": "markdown",
   "id": "56a3d996",
   "metadata": {},
   "source": [
    "**Define** "
   ]
  },
  {
   "cell_type": "markdown",
   "id": "3db55aef",
   "metadata": {},
   "source": [
    "Quality issue:redundant reply rows"
   ]
  },
  {
   "cell_type": "code",
   "execution_count": 26,
   "id": "0d888608",
   "metadata": {},
   "outputs": [],
   "source": [
    "# only orignal tweets will be kept (no retweets)\n",
    "twitter_clean= twitter_clean[twitter_clean['in_reply_to_status_id'].isnull()]\n",
    "\n",
    "# drop reply related columns\n",
    "twitter_clean = twitter_clean.drop(['in_reply_to_user_id', \n",
    "                       'in_reply_to_status_id'], \n",
    "                       axis=1)\n",
    "\n"
   ]
  },
  {
   "cell_type": "markdown",
   "id": "515c38f0",
   "metadata": {},
   "source": [
    "**test**"
   ]
  },
  {
   "cell_type": "code",
   "execution_count": 27,
   "id": "96ac24b0",
   "metadata": {
    "scrolled": true
   },
   "outputs": [
    {
     "name": "stdout",
     "output_type": "stream",
     "text": [
      "<class 'pandas.core.frame.DataFrame'>\n",
      "Int64Index: 2097 entries, 0 to 2355\n",
      "Data columns (total 14 columns):\n",
      " #   Column              Non-Null Count  Dtype  \n",
      "---  ------              --------------  -----  \n",
      " 0   tweet_id            2097 non-null   int64  \n",
      " 1   timestamp           2097 non-null   object \n",
      " 2   source              2097 non-null   object \n",
      " 3   text                2097 non-null   object \n",
      " 4   expanded_urls       2094 non-null   object \n",
      " 5   rating_numerator    2097 non-null   int64  \n",
      " 6   rating_denominator  2097 non-null   int64  \n",
      " 7   name                2097 non-null   object \n",
      " 8   doggo               2097 non-null   object \n",
      " 9   floofer             2097 non-null   object \n",
      " 10  pupper              2097 non-null   object \n",
      " 11  puppo               2097 non-null   object \n",
      " 12  retweet_count       2097 non-null   float64\n",
      " 13  favorite_count      2097 non-null   float64\n",
      "dtypes: float64(2), int64(3), object(9)\n",
      "memory usage: 245.7+ KB\n"
     ]
    }
   ],
   "source": [
    "twitter_clean.info()"
   ]
  },
  {
   "cell_type": "markdown",
   "id": "37736450",
   "metadata": {},
   "source": [
    "**Define**"
   ]
  },
  {
   "cell_type": "markdown",
   "id": "c0e52424",
   "metadata": {},
   "source": [
    "Quality issue:change dtype of twitter_id and id to string "
   ]
  },
  {
   "cell_type": "code",
   "execution_count": 28,
   "id": "38b61afd",
   "metadata": {
    "scrolled": true
   },
   "outputs": [],
   "source": [
    "twitter_clean['tweet_id'] = twitter_clean['tweet_id'].astype(str)"
   ]
  },
  {
   "cell_type": "code",
   "execution_count": 29,
   "id": "bec4d9d6",
   "metadata": {},
   "outputs": [],
   "source": [
    "image_predict_clean['tweet_id'] = image_predict_clean['tweet_id'].astype(str)"
   ]
  },
  {
   "cell_type": "code",
   "execution_count": 30,
   "id": "78372d85",
   "metadata": {},
   "outputs": [
    {
     "name": "stdout",
     "output_type": "stream",
     "text": [
      "<class 'pandas.core.frame.DataFrame'>\n",
      "RangeIndex: 2075 entries, 0 to 2074\n",
      "Data columns (total 12 columns):\n",
      " #   Column    Non-Null Count  Dtype  \n",
      "---  ------    --------------  -----  \n",
      " 0   tweet_id  2075 non-null   object \n",
      " 1   jpg_url   2075 non-null   object \n",
      " 2   img_num   2075 non-null   int64  \n",
      " 3   p1        2075 non-null   object \n",
      " 4   p1_conf   2075 non-null   float64\n",
      " 5   p1_dog    2075 non-null   bool   \n",
      " 6   p2        2075 non-null   object \n",
      " 7   p2_conf   2075 non-null   float64\n",
      " 8   p2_dog    2075 non-null   bool   \n",
      " 9   p3        2075 non-null   object \n",
      " 10  p3_conf   2075 non-null   float64\n",
      " 11  p3_dog    2075 non-null   bool   \n",
      "dtypes: bool(3), float64(3), int64(1), object(5)\n",
      "memory usage: 152.1+ KB\n"
     ]
    }
   ],
   "source": [
    "image_predict_clean.info()"
   ]
  },
  {
   "cell_type": "code",
   "execution_count": 31,
   "id": "f46c52ce",
   "metadata": {},
   "outputs": [
    {
     "name": "stdout",
     "output_type": "stream",
     "text": [
      "<class 'pandas.core.frame.DataFrame'>\n",
      "Int64Index: 2097 entries, 0 to 2355\n",
      "Data columns (total 14 columns):\n",
      " #   Column              Non-Null Count  Dtype  \n",
      "---  ------              --------------  -----  \n",
      " 0   tweet_id            2097 non-null   object \n",
      " 1   timestamp           2097 non-null   object \n",
      " 2   source              2097 non-null   object \n",
      " 3   text                2097 non-null   object \n",
      " 4   expanded_urls       2094 non-null   object \n",
      " 5   rating_numerator    2097 non-null   int64  \n",
      " 6   rating_denominator  2097 non-null   int64  \n",
      " 7   name                2097 non-null   object \n",
      " 8   doggo               2097 non-null   object \n",
      " 9   floofer             2097 non-null   object \n",
      " 10  pupper              2097 non-null   object \n",
      " 11  puppo               2097 non-null   object \n",
      " 12  retweet_count       2097 non-null   float64\n",
      " 13  favorite_count      2097 non-null   float64\n",
      "dtypes: float64(2), int64(2), object(10)\n",
      "memory usage: 245.7+ KB\n"
     ]
    }
   ],
   "source": [
    "twitter_clean.info()"
   ]
  },
  {
   "cell_type": "markdown",
   "id": "3cb8e092",
   "metadata": {},
   "source": [
    "**Define**"
   ]
  },
  {
   "cell_type": "markdown",
   "id": "363ff3f2",
   "metadata": {},
   "source": [
    "Quality issue:change dtype of timestamp time"
   ]
  },
  {
   "cell_type": "markdown",
   "id": "c3810262",
   "metadata": {},
   "source": [
    "**code**"
   ]
  },
  {
   "cell_type": "code",
   "execution_count": 32,
   "id": "635977b7",
   "metadata": {},
   "outputs": [],
   "source": [
    "# change the 'timestamp' column to a datetime \n",
    "twitter_clean['timestamp'] = pd.to_datetime(twitter_clean['timestamp'])"
   ]
  },
  {
   "cell_type": "markdown",
   "id": "e3461a0d",
   "metadata": {},
   "source": [
    "**test**"
   ]
  },
  {
   "cell_type": "code",
   "execution_count": 33,
   "id": "082b9143",
   "metadata": {},
   "outputs": [
    {
     "data": {
      "text/plain": [
       "datetime64[ns, UTC]"
      ]
     },
     "execution_count": 33,
     "metadata": {},
     "output_type": "execute_result"
    }
   ],
   "source": [
    "twitter_clean['timestamp'].dtype"
   ]
  },
  {
   "cell_type": "code",
   "execution_count": 34,
   "id": "95d03de9",
   "metadata": {},
   "outputs": [],
   "source": [
    "#test if there is a data before August 1st, 2017 \n",
    "twitter_clean = twitter_clean[twitter_clean['timestamp'] <= '2017-08-01']"
   ]
  },
  {
   "cell_type": "code",
   "execution_count": 35,
   "id": "f531fc61",
   "metadata": {},
   "outputs": [
    {
     "name": "stdout",
     "output_type": "stream",
     "text": [
      "<class 'pandas.core.frame.DataFrame'>\n",
      "Int64Index: 2095 entries, 2 to 2355\n",
      "Data columns (total 14 columns):\n",
      " #   Column              Non-Null Count  Dtype              \n",
      "---  ------              --------------  -----              \n",
      " 0   tweet_id            2095 non-null   object             \n",
      " 1   timestamp           2095 non-null   datetime64[ns, UTC]\n",
      " 2   source              2095 non-null   object             \n",
      " 3   text                2095 non-null   object             \n",
      " 4   expanded_urls       2092 non-null   object             \n",
      " 5   rating_numerator    2095 non-null   int64              \n",
      " 6   rating_denominator  2095 non-null   int64              \n",
      " 7   name                2095 non-null   object             \n",
      " 8   doggo               2095 non-null   object             \n",
      " 9   floofer             2095 non-null   object             \n",
      " 10  pupper              2095 non-null   object             \n",
      " 11  puppo               2095 non-null   object             \n",
      " 12  retweet_count       2095 non-null   float64            \n",
      " 13  favorite_count      2095 non-null   float64            \n",
      "dtypes: datetime64[ns, UTC](1), float64(2), int64(2), object(9)\n",
      "memory usage: 245.5+ KB\n"
     ]
    }
   ],
   "source": [
    "twitter_clean.info()"
   ]
  },
  {
   "cell_type": "markdown",
   "id": "0f7e9bc3",
   "metadata": {},
   "source": [
    "**Define**"
   ]
  },
  {
   "cell_type": "markdown",
   "id": "7a914cf8",
   "metadata": {},
   "source": [
    "Quality issue:Wrong names and 'None' name"
   ]
  },
  {
   "cell_type": "markdown",
   "id": "08cfc990",
   "metadata": {},
   "source": [
    "**code**"
   ]
  },
  {
   "cell_type": "code",
   "execution_count": 36,
   "id": "0ab97881",
   "metadata": {},
   "outputs": [
    {
     "name": "stdout",
     "output_type": "stream",
     "text": [
      "['such', 'a', 'quite', 'not', 'one', 'incredibly', 'very', 'my', 'his', 'an', 'actually', 'just', 'getting', 'mad', 'this', 'unacceptable', 'all', 'old', 'infuriating', 'the', 'by', 'officially', 'life', 'light', 'space']\n"
     ]
    }
   ],
   "source": [
    "# find names that start with a lowercase letter and put them in list\n",
    "low_names = []\n",
    "for l in twitter_clean['name']:\n",
    "    if l[0].islower() and l not in low_names:\n",
    "        low_names.append(l)\n",
    "        \n",
    "print(low_names)\n"
   ]
  },
  {
   "cell_type": "code",
   "execution_count": 37,
   "id": "431e115f",
   "metadata": {},
   "outputs": [],
   "source": [
    "# replace previously names start with a lowercase letter with 'NaN'\n",
    "twitter_clean['name'].replace(low_names, np.nan, inplace = True)\n",
    "\n",
    "# Also replace 'None' with NaN\n",
    "twitter_clean['name'].replace('None', np.nan, inplace = True)"
   ]
  },
  {
   "cell_type": "markdown",
   "id": "5ad81f1a",
   "metadata": {},
   "source": [
    "**test**"
   ]
  },
  {
   "cell_type": "code",
   "execution_count": 38,
   "id": "5102254e",
   "metadata": {
    "scrolled": true
   },
   "outputs": [
    {
     "data": {
      "text/plain": [
       "False"
      ]
     },
     "execution_count": 38,
     "metadata": {},
     "output_type": "execute_result"
    }
   ],
   "source": [
    "low_names[0] in twitter_clean['name']\n"
   ]
  },
  {
   "cell_type": "code",
   "execution_count": 39,
   "id": "5ad8a2e4",
   "metadata": {},
   "outputs": [
    {
     "name": "stdout",
     "output_type": "stream",
     "text": [
      "<class 'pandas.core.frame.DataFrame'>\n",
      "Int64Index: 2095 entries, 2 to 2355\n",
      "Data columns (total 14 columns):\n",
      " #   Column              Non-Null Count  Dtype              \n",
      "---  ------              --------------  -----              \n",
      " 0   tweet_id            2095 non-null   object             \n",
      " 1   timestamp           2095 non-null   datetime64[ns, UTC]\n",
      " 2   source              2095 non-null   object             \n",
      " 3   text                2095 non-null   object             \n",
      " 4   expanded_urls       2092 non-null   object             \n",
      " 5   rating_numerator    2095 non-null   int64              \n",
      " 6   rating_denominator  2095 non-null   int64              \n",
      " 7   name                1388 non-null   object             \n",
      " 8   doggo               2095 non-null   object             \n",
      " 9   floofer             2095 non-null   object             \n",
      " 10  pupper              2095 non-null   object             \n",
      " 11  puppo               2095 non-null   object             \n",
      " 12  retweet_count       2095 non-null   float64            \n",
      " 13  favorite_count      2095 non-null   float64            \n",
      "dtypes: datetime64[ns, UTC](1), float64(2), int64(2), object(9)\n",
      "memory usage: 310.0+ KB\n"
     ]
    }
   ],
   "source": [
    "twitter_clean.info()"
   ]
  },
  {
   "cell_type": "code",
   "execution_count": 40,
   "id": "93d37412",
   "metadata": {},
   "outputs": [
    {
     "data": {
      "text/plain": [
       "Lucy        11\n",
       "Charlie     11\n",
       "Cooper      10\n",
       "Oliver      10\n",
       "Penny        9\n",
       "Tucker       9\n",
       "Lola         8\n",
       "Winston      8\n",
       "Sadie        8\n",
       "Toby         7\n",
       "Daisy        7\n",
       "Koda         6\n",
       "Stanley      6\n",
       "Bailey       6\n",
       "Bo           6\n",
       "Jax          6\n",
       "Bella        6\n",
       "Oscar        6\n",
       "Dave         5\n",
       "Scout        5\n",
       "Buddy        5\n",
       "Leo          5\n",
       "Bentley      5\n",
       "Louis        5\n",
       "Chester      5\n",
       "Rusty        5\n",
       "Milo         5\n",
       "Archie       4\n",
       "Chip         4\n",
       "Alfie        4\n",
       "Brody        4\n",
       "Reggie       4\n",
       "Derek        4\n",
       "Scooter      4\n",
       "Finn         4\n",
       "Sammy        4\n",
       "Duke         4\n",
       "Boomer       4\n",
       "Clarence     4\n",
       "Jerry        4\n",
       "Maggie       4\n",
       "Phil         4\n",
       "Jack         4\n",
       "Sophie       4\n",
       "Bear         4\n",
       "Winnie       4\n",
       "Clark        4\n",
       "Larry        4\n",
       "Jeffrey      4\n",
       "Gus          4\n",
       "Oakley       4\n",
       "George       4\n",
       "Dexter       4\n",
       "Gary         4\n",
       "Cassie       4\n",
       "Malcolm      3\n",
       "Olive        3\n",
       "Loki         3\n",
       "Wyatt        3\n",
       "Otis         3\n",
       "Name: name, dtype: int64"
      ]
     },
     "execution_count": 40,
     "metadata": {},
     "output_type": "execute_result"
    }
   ],
   "source": [
    "twitter_clean.name.value_counts().head(60)\n"
   ]
  },
  {
   "cell_type": "markdown",
   "id": "6e9ae688",
   "metadata": {},
   "source": [
    "**Define**"
   ]
  },
  {
   "cell_type": "markdown",
   "id": "64554ae7",
   "metadata": {},
   "source": [
    "Quality issue : replace (_) with () in p1,p2and p3"
   ]
  },
  {
   "cell_type": "markdown",
   "id": "83b914c7",
   "metadata": {},
   "source": [
    "**code**"
   ]
  },
  {
   "cell_type": "code",
   "execution_count": 41,
   "id": "9696a2a3",
   "metadata": {},
   "outputs": [],
   "source": [
    "# replace underscores with spaces in image_prediction_clean(p1, p2, and p3)\n",
    "image_predict_clean['p1'].replace('_', ' ',  inplace = True)\n",
    "image_predict_clean['p2'].replace('_', ' ',  inplace = True)\n",
    "image_predict_clean['p3'].replace('_', ' ',  inplace = True)"
   ]
  },
  {
   "cell_type": "markdown",
   "id": "6101f558",
   "metadata": {},
   "source": [
    "**test**"
   ]
  },
  {
   "cell_type": "code",
   "execution_count": 42,
   "id": "4006c7f8",
   "metadata": {
    "scrolled": true
   },
   "outputs": [
    {
     "data": {
      "text/html": [
       "<div>\n",
       "<style scoped>\n",
       "    .dataframe tbody tr th:only-of-type {\n",
       "        vertical-align: middle;\n",
       "    }\n",
       "\n",
       "    .dataframe tbody tr th {\n",
       "        vertical-align: top;\n",
       "    }\n",
       "\n",
       "    .dataframe thead th {\n",
       "        text-align: right;\n",
       "    }\n",
       "</style>\n",
       "<table border=\"1\" class=\"dataframe\">\n",
       "  <thead>\n",
       "    <tr style=\"text-align: right;\">\n",
       "      <th></th>\n",
       "      <th>tweet_id</th>\n",
       "      <th>jpg_url</th>\n",
       "      <th>img_num</th>\n",
       "      <th>p1</th>\n",
       "      <th>p1_conf</th>\n",
       "      <th>p1_dog</th>\n",
       "      <th>p2</th>\n",
       "      <th>p2_conf</th>\n",
       "      <th>p2_dog</th>\n",
       "      <th>p3</th>\n",
       "      <th>p3_conf</th>\n",
       "      <th>p3_dog</th>\n",
       "    </tr>\n",
       "  </thead>\n",
       "  <tbody>\n",
       "    <tr>\n",
       "      <th>0</th>\n",
       "      <td>666020888022790149</td>\n",
       "      <td>https://pbs.twimg.com/media/CT4udn0WwAA0aMy.jpg</td>\n",
       "      <td>1</td>\n",
       "      <td>Welsh_springer_spaniel</td>\n",
       "      <td>0.465074</td>\n",
       "      <td>True</td>\n",
       "      <td>collie</td>\n",
       "      <td>0.156665</td>\n",
       "      <td>True</td>\n",
       "      <td>Shetland_sheepdog</td>\n",
       "      <td>0.061428</td>\n",
       "      <td>True</td>\n",
       "    </tr>\n",
       "    <tr>\n",
       "      <th>1</th>\n",
       "      <td>666029285002620928</td>\n",
       "      <td>https://pbs.twimg.com/media/CT42GRgUYAA5iDo.jpg</td>\n",
       "      <td>1</td>\n",
       "      <td>redbone</td>\n",
       "      <td>0.506826</td>\n",
       "      <td>True</td>\n",
       "      <td>miniature_pinscher</td>\n",
       "      <td>0.074192</td>\n",
       "      <td>True</td>\n",
       "      <td>Rhodesian_ridgeback</td>\n",
       "      <td>0.072010</td>\n",
       "      <td>True</td>\n",
       "    </tr>\n",
       "    <tr>\n",
       "      <th>2</th>\n",
       "      <td>666033412701032449</td>\n",
       "      <td>https://pbs.twimg.com/media/CT4521TWwAEvMyu.jpg</td>\n",
       "      <td>1</td>\n",
       "      <td>German_shepherd</td>\n",
       "      <td>0.596461</td>\n",
       "      <td>True</td>\n",
       "      <td>malinois</td>\n",
       "      <td>0.138584</td>\n",
       "      <td>True</td>\n",
       "      <td>bloodhound</td>\n",
       "      <td>0.116197</td>\n",
       "      <td>True</td>\n",
       "    </tr>\n",
       "    <tr>\n",
       "      <th>3</th>\n",
       "      <td>666044226329800704</td>\n",
       "      <td>https://pbs.twimg.com/media/CT5Dr8HUEAA-lEu.jpg</td>\n",
       "      <td>1</td>\n",
       "      <td>Rhodesian_ridgeback</td>\n",
       "      <td>0.408143</td>\n",
       "      <td>True</td>\n",
       "      <td>redbone</td>\n",
       "      <td>0.360687</td>\n",
       "      <td>True</td>\n",
       "      <td>miniature_pinscher</td>\n",
       "      <td>0.222752</td>\n",
       "      <td>True</td>\n",
       "    </tr>\n",
       "    <tr>\n",
       "      <th>4</th>\n",
       "      <td>666049248165822465</td>\n",
       "      <td>https://pbs.twimg.com/media/CT5IQmsXIAAKY4A.jpg</td>\n",
       "      <td>1</td>\n",
       "      <td>miniature_pinscher</td>\n",
       "      <td>0.560311</td>\n",
       "      <td>True</td>\n",
       "      <td>Rottweiler</td>\n",
       "      <td>0.243682</td>\n",
       "      <td>True</td>\n",
       "      <td>Doberman</td>\n",
       "      <td>0.154629</td>\n",
       "      <td>True</td>\n",
       "    </tr>\n",
       "  </tbody>\n",
       "</table>\n",
       "</div>"
      ],
      "text/plain": [
       "             tweet_id                                          jpg_url  \\\n",
       "0  666020888022790149  https://pbs.twimg.com/media/CT4udn0WwAA0aMy.jpg   \n",
       "1  666029285002620928  https://pbs.twimg.com/media/CT42GRgUYAA5iDo.jpg   \n",
       "2  666033412701032449  https://pbs.twimg.com/media/CT4521TWwAEvMyu.jpg   \n",
       "3  666044226329800704  https://pbs.twimg.com/media/CT5Dr8HUEAA-lEu.jpg   \n",
       "4  666049248165822465  https://pbs.twimg.com/media/CT5IQmsXIAAKY4A.jpg   \n",
       "\n",
       "   img_num                      p1   p1_conf  p1_dog                  p2  \\\n",
       "0        1  Welsh_springer_spaniel  0.465074    True              collie   \n",
       "1        1                 redbone  0.506826    True  miniature_pinscher   \n",
       "2        1         German_shepherd  0.596461    True            malinois   \n",
       "3        1     Rhodesian_ridgeback  0.408143    True             redbone   \n",
       "4        1      miniature_pinscher  0.560311    True          Rottweiler   \n",
       "\n",
       "    p2_conf  p2_dog                   p3   p3_conf  p3_dog  \n",
       "0  0.156665    True    Shetland_sheepdog  0.061428    True  \n",
       "1  0.074192    True  Rhodesian_ridgeback  0.072010    True  \n",
       "2  0.138584    True           bloodhound  0.116197    True  \n",
       "3  0.360687    True   miniature_pinscher  0.222752    True  \n",
       "4  0.243682    True             Doberman  0.154629    True  "
      ]
     },
     "execution_count": 42,
     "metadata": {},
     "output_type": "execute_result"
    }
   ],
   "source": [
    "image_predict_clean.head()"
   ]
  },
  {
   "cell_type": "code",
   "execution_count": 43,
   "id": "8cb83fc9",
   "metadata": {
    "scrolled": true
   },
   "outputs": [
    {
     "data": {
      "text/plain": [
       "0       Welsh_springer_spaniel\n",
       "1                      redbone\n",
       "2              German_shepherd\n",
       "3          Rhodesian_ridgeback\n",
       "4           miniature_pinscher\n",
       "                 ...          \n",
       "2070                    basset\n",
       "2071               paper_towel\n",
       "2072                 Chihuahua\n",
       "2073                 Chihuahua\n",
       "2074                    orange\n",
       "Name: p1, Length: 2075, dtype: object"
      ]
     },
     "execution_count": 43,
     "metadata": {},
     "output_type": "execute_result"
    }
   ],
   "source": [
    "image_predict_clean['p1']"
   ]
  },
  {
   "cell_type": "markdown",
   "id": "1a29c34b",
   "metadata": {},
   "source": [
    "**Define**"
   ]
  },
  {
   "cell_type": "markdown",
   "id": "c847795d",
   "metadata": {},
   "source": [
    "Tidiness issue : merge the whole stages to one column stage then delete them"
   ]
  },
  {
   "cell_type": "markdown",
   "id": "092cf077",
   "metadata": {},
   "source": [
    "**code**"
   ]
  },
  {
   "cell_type": "code",
   "execution_count": 44,
   "id": "bf012024",
   "metadata": {},
   "outputs": [],
   "source": [
    "#first create stage column as none then combine stage columns\n",
    "twitter_clean['stage']=None\n",
    "twitter_clean['stage'] = twitter_clean.doggo + twitter_clean.floofer + twitter_clean.pupper + twitter_clean.puppo"
   ]
  },
  {
   "cell_type": "code",
   "execution_count": 45,
   "id": "875f9a12",
   "metadata": {
    "scrolled": true
   },
   "outputs": [
    {
     "data": {
      "text/plain": [
       "NoneNoneNoneNone        1759\n",
       "NoneNonepupperNone       221\n",
       "doggoNoneNoneNone         72\n",
       "NoneNoneNonepuppo         23\n",
       "NoneflooferNoneNone        9\n",
       "doggoNonepupperNone        9\n",
       "doggoNoneNonepuppo         1\n",
       "doggoflooferNoneNone       1\n",
       "Name: stage, dtype: int64"
      ]
     },
     "execution_count": 45,
     "metadata": {},
     "output_type": "execute_result"
    }
   ],
   "source": [
    "twitter_clean['stage'].value_counts()"
   ]
  },
  {
   "cell_type": "code",
   "execution_count": 46,
   "id": "00e612c0",
   "metadata": {},
   "outputs": [],
   "source": [
    "#then we split the combined stage and replace none with space\n",
    "twitter_clean['stage'] = twitter_clean['stage'].map(lambda x: x.replace(\"None\",\"\"))\n"
   ]
  },
  {
   "cell_type": "code",
   "execution_count": 47,
   "id": "8c3ed7d3",
   "metadata": {
    "scrolled": true
   },
   "outputs": [
    {
     "data": {
      "text/plain": [
       "                1759\n",
       "pupper           221\n",
       "doggo             72\n",
       "puppo             23\n",
       "floofer            9\n",
       "doggopupper        9\n",
       "doggopuppo         1\n",
       "doggofloofer       1\n",
       "Name: stage, dtype: int64"
      ]
     },
     "execution_count": 47,
     "metadata": {},
     "output_type": "execute_result"
    }
   ],
   "source": [
    "twitter_clean['stage'].value_counts()"
   ]
  },
  {
   "cell_type": "code",
   "execution_count": 48,
   "id": "0082aacc",
   "metadata": {},
   "outputs": [],
   "source": [
    "#after that we split the combined stage by comma\n",
    "twitter_clean.loc[twitter_clean.stage == 'doggopupper', 'stage'] = 'doggo, pupper'\n",
    "twitter_clean.loc[twitter_clean.stage == 'doggopuppo', 'stage'] = 'doggo, puppo'\n",
    "twitter_clean.loc[twitter_clean.stage == 'doggofloofer', 'stage'] = 'doggo, floofer'"
   ]
  },
  {
   "cell_type": "code",
   "execution_count": 49,
   "id": "2ddc0b06",
   "metadata": {
    "scrolled": true
   },
   "outputs": [
    {
     "data": {
      "text/plain": [
       "                  1759\n",
       "pupper             221\n",
       "doggo               72\n",
       "puppo               23\n",
       "floofer              9\n",
       "doggo, pupper        9\n",
       "doggo, puppo         1\n",
       "doggo, floofer       1\n",
       "Name: stage, dtype: int64"
      ]
     },
     "execution_count": 49,
     "metadata": {},
     "output_type": "execute_result"
    }
   ],
   "source": [
    "twitter_clean['stage'].value_counts()"
   ]
  },
  {
   "cell_type": "code",
   "execution_count": 50,
   "id": "bdaaa36e",
   "metadata": {},
   "outputs": [],
   "source": [
    "#drop the old stages\n",
    "twitter_clean.drop(['doggo', 'floofer', 'pupper', 'puppo'], axis =1, inplace=True)\n",
    "\n",
    "\n",
    "#  Use nan to fill the empty spaces\n",
    "twitter_clean['stage'] = twitter_clean['stage'].replace('', np.nan)\n"
   ]
  },
  {
   "cell_type": "markdown",
   "id": "58bf9d44",
   "metadata": {},
   "source": [
    "**test**"
   ]
  },
  {
   "cell_type": "code",
   "execution_count": 51,
   "id": "bb5dbaaa",
   "metadata": {},
   "outputs": [
    {
     "data": {
      "text/plain": [
       "pupper            221\n",
       "doggo              72\n",
       "puppo              23\n",
       "floofer             9\n",
       "doggo, pupper       9\n",
       "doggo, puppo        1\n",
       "doggo, floofer      1\n",
       "Name: stage, dtype: int64"
      ]
     },
     "execution_count": 51,
     "metadata": {},
     "output_type": "execute_result"
    }
   ],
   "source": [
    "twitter_clean['stage'].value_counts()"
   ]
  },
  {
   "cell_type": "code",
   "execution_count": 52,
   "id": "f1fd483d",
   "metadata": {
    "scrolled": false
   },
   "outputs": [
    {
     "data": {
      "text/html": [
       "<div>\n",
       "<style scoped>\n",
       "    .dataframe tbody tr th:only-of-type {\n",
       "        vertical-align: middle;\n",
       "    }\n",
       "\n",
       "    .dataframe tbody tr th {\n",
       "        vertical-align: top;\n",
       "    }\n",
       "\n",
       "    .dataframe thead th {\n",
       "        text-align: right;\n",
       "    }\n",
       "</style>\n",
       "<table border=\"1\" class=\"dataframe\">\n",
       "  <thead>\n",
       "    <tr style=\"text-align: right;\">\n",
       "      <th></th>\n",
       "      <th>tweet_id</th>\n",
       "      <th>timestamp</th>\n",
       "      <th>source</th>\n",
       "      <th>text</th>\n",
       "      <th>expanded_urls</th>\n",
       "      <th>rating_numerator</th>\n",
       "      <th>rating_denominator</th>\n",
       "      <th>name</th>\n",
       "      <th>retweet_count</th>\n",
       "      <th>favorite_count</th>\n",
       "      <th>stage</th>\n",
       "    </tr>\n",
       "  </thead>\n",
       "  <tbody>\n",
       "    <tr>\n",
       "      <th>2346</th>\n",
       "      <td>666058600524156928</td>\n",
       "      <td>2015-11-16 01:01:59+00:00</td>\n",
       "      <td>&lt;a href=\"http://twitter.com/download/iphone\" r...</td>\n",
       "      <td>Here is the Rand Paul of retrievers folks! He'...</td>\n",
       "      <td>https://twitter.com/dog_rates/status/666058600...</td>\n",
       "      <td>8</td>\n",
       "      <td>10</td>\n",
       "      <td>NaN</td>\n",
       "      <td>61.0</td>\n",
       "      <td>115.0</td>\n",
       "      <td>NaN</td>\n",
       "    </tr>\n",
       "    <tr>\n",
       "      <th>2347</th>\n",
       "      <td>666057090499244032</td>\n",
       "      <td>2015-11-16 00:55:59+00:00</td>\n",
       "      <td>&lt;a href=\"http://twitter.com/download/iphone\" r...</td>\n",
       "      <td>My oh my. This is a rare blond Canadian terrie...</td>\n",
       "      <td>https://twitter.com/dog_rates/status/666057090...</td>\n",
       "      <td>9</td>\n",
       "      <td>10</td>\n",
       "      <td>NaN</td>\n",
       "      <td>146.0</td>\n",
       "      <td>304.0</td>\n",
       "      <td>NaN</td>\n",
       "    </tr>\n",
       "    <tr>\n",
       "      <th>2348</th>\n",
       "      <td>666055525042405380</td>\n",
       "      <td>2015-11-16 00:49:46+00:00</td>\n",
       "      <td>&lt;a href=\"http://twitter.com/download/iphone\" r...</td>\n",
       "      <td>Here is a Siberian heavily armored polar bear ...</td>\n",
       "      <td>https://twitter.com/dog_rates/status/666055525...</td>\n",
       "      <td>10</td>\n",
       "      <td>10</td>\n",
       "      <td>NaN</td>\n",
       "      <td>261.0</td>\n",
       "      <td>448.0</td>\n",
       "      <td>NaN</td>\n",
       "    </tr>\n",
       "    <tr>\n",
       "      <th>2349</th>\n",
       "      <td>666051853826850816</td>\n",
       "      <td>2015-11-16 00:35:11+00:00</td>\n",
       "      <td>&lt;a href=\"http://twitter.com/download/iphone\" r...</td>\n",
       "      <td>This is an odd dog. Hard on the outside but lo...</td>\n",
       "      <td>https://twitter.com/dog_rates/status/666051853...</td>\n",
       "      <td>2</td>\n",
       "      <td>10</td>\n",
       "      <td>NaN</td>\n",
       "      <td>879.0</td>\n",
       "      <td>1253.0</td>\n",
       "      <td>NaN</td>\n",
       "    </tr>\n",
       "    <tr>\n",
       "      <th>2350</th>\n",
       "      <td>666050758794694657</td>\n",
       "      <td>2015-11-16 00:30:50+00:00</td>\n",
       "      <td>&lt;a href=\"http://twitter.com/download/iphone\" r...</td>\n",
       "      <td>This is a truly beautiful English Wilson Staff...</td>\n",
       "      <td>https://twitter.com/dog_rates/status/666050758...</td>\n",
       "      <td>10</td>\n",
       "      <td>10</td>\n",
       "      <td>NaN</td>\n",
       "      <td>60.0</td>\n",
       "      <td>136.0</td>\n",
       "      <td>NaN</td>\n",
       "    </tr>\n",
       "    <tr>\n",
       "      <th>2351</th>\n",
       "      <td>666049248165822465</td>\n",
       "      <td>2015-11-16 00:24:50+00:00</td>\n",
       "      <td>&lt;a href=\"http://twitter.com/download/iphone\" r...</td>\n",
       "      <td>Here we have a 1949 1st generation vulpix. Enj...</td>\n",
       "      <td>https://twitter.com/dog_rates/status/666049248...</td>\n",
       "      <td>5</td>\n",
       "      <td>10</td>\n",
       "      <td>NaN</td>\n",
       "      <td>41.0</td>\n",
       "      <td>111.0</td>\n",
       "      <td>NaN</td>\n",
       "    </tr>\n",
       "    <tr>\n",
       "      <th>2352</th>\n",
       "      <td>666044226329800704</td>\n",
       "      <td>2015-11-16 00:04:52+00:00</td>\n",
       "      <td>&lt;a href=\"http://twitter.com/download/iphone\" r...</td>\n",
       "      <td>This is a purebred Piers Morgan. Loves to Netf...</td>\n",
       "      <td>https://twitter.com/dog_rates/status/666044226...</td>\n",
       "      <td>6</td>\n",
       "      <td>10</td>\n",
       "      <td>NaN</td>\n",
       "      <td>147.0</td>\n",
       "      <td>311.0</td>\n",
       "      <td>NaN</td>\n",
       "    </tr>\n",
       "    <tr>\n",
       "      <th>2353</th>\n",
       "      <td>666033412701032449</td>\n",
       "      <td>2015-11-15 23:21:54+00:00</td>\n",
       "      <td>&lt;a href=\"http://twitter.com/download/iphone\" r...</td>\n",
       "      <td>Here is a very happy pup. Big fan of well-main...</td>\n",
       "      <td>https://twitter.com/dog_rates/status/666033412...</td>\n",
       "      <td>9</td>\n",
       "      <td>10</td>\n",
       "      <td>NaN</td>\n",
       "      <td>47.0</td>\n",
       "      <td>128.0</td>\n",
       "      <td>NaN</td>\n",
       "    </tr>\n",
       "    <tr>\n",
       "      <th>2354</th>\n",
       "      <td>666029285002620928</td>\n",
       "      <td>2015-11-15 23:05:30+00:00</td>\n",
       "      <td>&lt;a href=\"http://twitter.com/download/iphone\" r...</td>\n",
       "      <td>This is a western brown Mitsubishi terrier. Up...</td>\n",
       "      <td>https://twitter.com/dog_rates/status/666029285...</td>\n",
       "      <td>7</td>\n",
       "      <td>10</td>\n",
       "      <td>NaN</td>\n",
       "      <td>48.0</td>\n",
       "      <td>132.0</td>\n",
       "      <td>NaN</td>\n",
       "    </tr>\n",
       "    <tr>\n",
       "      <th>2355</th>\n",
       "      <td>666020888022790149</td>\n",
       "      <td>2015-11-15 22:32:08+00:00</td>\n",
       "      <td>&lt;a href=\"http://twitter.com/download/iphone\" r...</td>\n",
       "      <td>Here we have a Japanese Irish Setter. Lost eye...</td>\n",
       "      <td>https://twitter.com/dog_rates/status/666020888...</td>\n",
       "      <td>8</td>\n",
       "      <td>10</td>\n",
       "      <td>NaN</td>\n",
       "      <td>532.0</td>\n",
       "      <td>2535.0</td>\n",
       "      <td>NaN</td>\n",
       "    </tr>\n",
       "  </tbody>\n",
       "</table>\n",
       "</div>"
      ],
      "text/plain": [
       "                tweet_id                 timestamp  \\\n",
       "2346  666058600524156928 2015-11-16 01:01:59+00:00   \n",
       "2347  666057090499244032 2015-11-16 00:55:59+00:00   \n",
       "2348  666055525042405380 2015-11-16 00:49:46+00:00   \n",
       "2349  666051853826850816 2015-11-16 00:35:11+00:00   \n",
       "2350  666050758794694657 2015-11-16 00:30:50+00:00   \n",
       "2351  666049248165822465 2015-11-16 00:24:50+00:00   \n",
       "2352  666044226329800704 2015-11-16 00:04:52+00:00   \n",
       "2353  666033412701032449 2015-11-15 23:21:54+00:00   \n",
       "2354  666029285002620928 2015-11-15 23:05:30+00:00   \n",
       "2355  666020888022790149 2015-11-15 22:32:08+00:00   \n",
       "\n",
       "                                                 source  \\\n",
       "2346  <a href=\"http://twitter.com/download/iphone\" r...   \n",
       "2347  <a href=\"http://twitter.com/download/iphone\" r...   \n",
       "2348  <a href=\"http://twitter.com/download/iphone\" r...   \n",
       "2349  <a href=\"http://twitter.com/download/iphone\" r...   \n",
       "2350  <a href=\"http://twitter.com/download/iphone\" r...   \n",
       "2351  <a href=\"http://twitter.com/download/iphone\" r...   \n",
       "2352  <a href=\"http://twitter.com/download/iphone\" r...   \n",
       "2353  <a href=\"http://twitter.com/download/iphone\" r...   \n",
       "2354  <a href=\"http://twitter.com/download/iphone\" r...   \n",
       "2355  <a href=\"http://twitter.com/download/iphone\" r...   \n",
       "\n",
       "                                                   text  \\\n",
       "2346  Here is the Rand Paul of retrievers folks! He'...   \n",
       "2347  My oh my. This is a rare blond Canadian terrie...   \n",
       "2348  Here is a Siberian heavily armored polar bear ...   \n",
       "2349  This is an odd dog. Hard on the outside but lo...   \n",
       "2350  This is a truly beautiful English Wilson Staff...   \n",
       "2351  Here we have a 1949 1st generation vulpix. Enj...   \n",
       "2352  This is a purebred Piers Morgan. Loves to Netf...   \n",
       "2353  Here is a very happy pup. Big fan of well-main...   \n",
       "2354  This is a western brown Mitsubishi terrier. Up...   \n",
       "2355  Here we have a Japanese Irish Setter. Lost eye...   \n",
       "\n",
       "                                          expanded_urls  rating_numerator  \\\n",
       "2346  https://twitter.com/dog_rates/status/666058600...                 8   \n",
       "2347  https://twitter.com/dog_rates/status/666057090...                 9   \n",
       "2348  https://twitter.com/dog_rates/status/666055525...                10   \n",
       "2349  https://twitter.com/dog_rates/status/666051853...                 2   \n",
       "2350  https://twitter.com/dog_rates/status/666050758...                10   \n",
       "2351  https://twitter.com/dog_rates/status/666049248...                 5   \n",
       "2352  https://twitter.com/dog_rates/status/666044226...                 6   \n",
       "2353  https://twitter.com/dog_rates/status/666033412...                 9   \n",
       "2354  https://twitter.com/dog_rates/status/666029285...                 7   \n",
       "2355  https://twitter.com/dog_rates/status/666020888...                 8   \n",
       "\n",
       "      rating_denominator name  retweet_count  favorite_count stage  \n",
       "2346                  10  NaN           61.0           115.0   NaN  \n",
       "2347                  10  NaN          146.0           304.0   NaN  \n",
       "2348                  10  NaN          261.0           448.0   NaN  \n",
       "2349                  10  NaN          879.0          1253.0   NaN  \n",
       "2350                  10  NaN           60.0           136.0   NaN  \n",
       "2351                  10  NaN           41.0           111.0   NaN  \n",
       "2352                  10  NaN          147.0           311.0   NaN  \n",
       "2353                  10  NaN           47.0           128.0   NaN  \n",
       "2354                  10  NaN           48.0           132.0   NaN  \n",
       "2355                  10  NaN          532.0          2535.0   NaN  "
      ]
     },
     "execution_count": 52,
     "metadata": {},
     "output_type": "execute_result"
    }
   ],
   "source": [
    "twitter_clean.tail(10)"
   ]
  },
  {
   "cell_type": "code",
   "execution_count": 53,
   "id": "687c9efc",
   "metadata": {},
   "outputs": [
    {
     "data": {
      "text/plain": [
       "(2095, 11)"
      ]
     },
     "execution_count": 53,
     "metadata": {},
     "output_type": "execute_result"
    }
   ],
   "source": [
    "twitter_clean.shape"
   ]
  },
  {
   "cell_type": "markdown",
   "id": "45b3b417",
   "metadata": {},
   "source": [
    "**Define**"
   ]
  },
  {
   "cell_type": "markdown",
   "id": "9c37b052",
   "metadata": {},
   "source": [
    "Quality issue:extracted exact source "
   ]
  },
  {
   "cell_type": "markdown",
   "id": "8d8c1d75",
   "metadata": {},
   "source": [
    "**code**"
   ]
  },
  {
   "cell_type": "code",
   "execution_count": 54,
   "id": "c9affc85",
   "metadata": {},
   "outputs": [],
   "source": [
    "twitter_clean['source'] = twitter_clean['source'].str.extract('^<a.+>(.+)</a>$')"
   ]
  },
  {
   "cell_type": "markdown",
   "id": "32fa8929",
   "metadata": {},
   "source": [
    "**test**"
   ]
  },
  {
   "cell_type": "code",
   "execution_count": 55,
   "id": "335ab0d2",
   "metadata": {},
   "outputs": [
    {
     "data": {
      "text/plain": [
       "Twitter for iPhone     1962\n",
       "Vine - Make a Scene      91\n",
       "Twitter Web Client       31\n",
       "TweetDeck                11\n",
       "Name: source, dtype: int64"
      ]
     },
     "execution_count": 55,
     "metadata": {},
     "output_type": "execute_result"
    }
   ],
   "source": [
    "twitter_clean.source.value_counts()"
   ]
  },
  {
   "cell_type": "code",
   "execution_count": 56,
   "id": "382b3c9f",
   "metadata": {},
   "outputs": [
    {
     "data": {
      "text/html": [
       "<div>\n",
       "<style scoped>\n",
       "    .dataframe tbody tr th:only-of-type {\n",
       "        vertical-align: middle;\n",
       "    }\n",
       "\n",
       "    .dataframe tbody tr th {\n",
       "        vertical-align: top;\n",
       "    }\n",
       "\n",
       "    .dataframe thead th {\n",
       "        text-align: right;\n",
       "    }\n",
       "</style>\n",
       "<table border=\"1\" class=\"dataframe\">\n",
       "  <thead>\n",
       "    <tr style=\"text-align: right;\">\n",
       "      <th></th>\n",
       "      <th>tweet_id</th>\n",
       "      <th>timestamp</th>\n",
       "      <th>source</th>\n",
       "      <th>text</th>\n",
       "      <th>expanded_urls</th>\n",
       "      <th>rating_numerator</th>\n",
       "      <th>rating_denominator</th>\n",
       "      <th>name</th>\n",
       "      <th>retweet_count</th>\n",
       "      <th>favorite_count</th>\n",
       "      <th>stage</th>\n",
       "    </tr>\n",
       "  </thead>\n",
       "  <tbody>\n",
       "    <tr>\n",
       "      <th>2</th>\n",
       "      <td>891815181378084864</td>\n",
       "      <td>2017-07-31 00:18:03+00:00</td>\n",
       "      <td>Twitter for iPhone</td>\n",
       "      <td>This is Archie. He is a rare Norwegian Pouncin...</td>\n",
       "      <td>https://twitter.com/dog_rates/status/891815181...</td>\n",
       "      <td>12</td>\n",
       "      <td>10</td>\n",
       "      <td>Archie</td>\n",
       "      <td>4328.0</td>\n",
       "      <td>25461.0</td>\n",
       "      <td>NaN</td>\n",
       "    </tr>\n",
       "    <tr>\n",
       "      <th>3</th>\n",
       "      <td>891689557279858688</td>\n",
       "      <td>2017-07-30 15:58:51+00:00</td>\n",
       "      <td>Twitter for iPhone</td>\n",
       "      <td>This is Darla. She commenced a snooze mid meal...</td>\n",
       "      <td>https://twitter.com/dog_rates/status/891689557...</td>\n",
       "      <td>13</td>\n",
       "      <td>10</td>\n",
       "      <td>Darla</td>\n",
       "      <td>8964.0</td>\n",
       "      <td>42908.0</td>\n",
       "      <td>NaN</td>\n",
       "    </tr>\n",
       "    <tr>\n",
       "      <th>4</th>\n",
       "      <td>891327558926688256</td>\n",
       "      <td>2017-07-29 16:00:24+00:00</td>\n",
       "      <td>Twitter for iPhone</td>\n",
       "      <td>This is Franklin. He would like you to stop ca...</td>\n",
       "      <td>https://twitter.com/dog_rates/status/891327558...</td>\n",
       "      <td>12</td>\n",
       "      <td>10</td>\n",
       "      <td>Franklin</td>\n",
       "      <td>9774.0</td>\n",
       "      <td>41048.0</td>\n",
       "      <td>NaN</td>\n",
       "    </tr>\n",
       "    <tr>\n",
       "      <th>5</th>\n",
       "      <td>891087950875897856</td>\n",
       "      <td>2017-07-29 00:08:17+00:00</td>\n",
       "      <td>Twitter for iPhone</td>\n",
       "      <td>Here we have a majestic great white breaching ...</td>\n",
       "      <td>https://twitter.com/dog_rates/status/891087950...</td>\n",
       "      <td>13</td>\n",
       "      <td>10</td>\n",
       "      <td>NaN</td>\n",
       "      <td>3261.0</td>\n",
       "      <td>20562.0</td>\n",
       "      <td>NaN</td>\n",
       "    </tr>\n",
       "    <tr>\n",
       "      <th>6</th>\n",
       "      <td>890971913173991426</td>\n",
       "      <td>2017-07-28 16:27:12+00:00</td>\n",
       "      <td>Twitter for iPhone</td>\n",
       "      <td>Meet Jax. He enjoys ice cream so much he gets ...</td>\n",
       "      <td>https://gofundme.com/ydvmve-surgery-for-jax,ht...</td>\n",
       "      <td>13</td>\n",
       "      <td>10</td>\n",
       "      <td>Jax</td>\n",
       "      <td>2158.0</td>\n",
       "      <td>12041.0</td>\n",
       "      <td>NaN</td>\n",
       "    </tr>\n",
       "  </tbody>\n",
       "</table>\n",
       "</div>"
      ],
      "text/plain": [
       "             tweet_id                 timestamp              source  \\\n",
       "2  891815181378084864 2017-07-31 00:18:03+00:00  Twitter for iPhone   \n",
       "3  891689557279858688 2017-07-30 15:58:51+00:00  Twitter for iPhone   \n",
       "4  891327558926688256 2017-07-29 16:00:24+00:00  Twitter for iPhone   \n",
       "5  891087950875897856 2017-07-29 00:08:17+00:00  Twitter for iPhone   \n",
       "6  890971913173991426 2017-07-28 16:27:12+00:00  Twitter for iPhone   \n",
       "\n",
       "                                                text  \\\n",
       "2  This is Archie. He is a rare Norwegian Pouncin...   \n",
       "3  This is Darla. She commenced a snooze mid meal...   \n",
       "4  This is Franklin. He would like you to stop ca...   \n",
       "5  Here we have a majestic great white breaching ...   \n",
       "6  Meet Jax. He enjoys ice cream so much he gets ...   \n",
       "\n",
       "                                       expanded_urls  rating_numerator  \\\n",
       "2  https://twitter.com/dog_rates/status/891815181...                12   \n",
       "3  https://twitter.com/dog_rates/status/891689557...                13   \n",
       "4  https://twitter.com/dog_rates/status/891327558...                12   \n",
       "5  https://twitter.com/dog_rates/status/891087950...                13   \n",
       "6  https://gofundme.com/ydvmve-surgery-for-jax,ht...                13   \n",
       "\n",
       "   rating_denominator      name  retweet_count  favorite_count stage  \n",
       "2                  10    Archie         4328.0         25461.0   NaN  \n",
       "3                  10     Darla         8964.0         42908.0   NaN  \n",
       "4                  10  Franklin         9774.0         41048.0   NaN  \n",
       "5                  10       NaN         3261.0         20562.0   NaN  \n",
       "6                  10       Jax         2158.0         12041.0   NaN  "
      ]
     },
     "execution_count": 56,
     "metadata": {},
     "output_type": "execute_result"
    }
   ],
   "source": [
    "twitter_clean.head()"
   ]
  },
  {
   "cell_type": "code",
   "execution_count": 57,
   "id": "a910a4ba",
   "metadata": {
    "scrolled": true
   },
   "outputs": [
    {
     "name": "stdout",
     "output_type": "stream",
     "text": [
      "<class 'pandas.core.frame.DataFrame'>\n",
      "Int64Index: 2095 entries, 2 to 2355\n",
      "Data columns (total 11 columns):\n",
      " #   Column              Non-Null Count  Dtype              \n",
      "---  ------              --------------  -----              \n",
      " 0   tweet_id            2095 non-null   object             \n",
      " 1   timestamp           2095 non-null   datetime64[ns, UTC]\n",
      " 2   source              2095 non-null   object             \n",
      " 3   text                2095 non-null   object             \n",
      " 4   expanded_urls       2092 non-null   object             \n",
      " 5   rating_numerator    2095 non-null   int64              \n",
      " 6   rating_denominator  2095 non-null   int64              \n",
      " 7   name                1388 non-null   object             \n",
      " 8   retweet_count       2095 non-null   float64            \n",
      " 9   favorite_count      2095 non-null   float64            \n",
      " 10  stage               336 non-null    object             \n",
      "dtypes: datetime64[ns, UTC](1), float64(2), int64(2), object(6)\n",
      "memory usage: 260.9+ KB\n"
     ]
    }
   ],
   "source": [
    "twitter_clean.info()"
   ]
  },
  {
   "cell_type": "markdown",
   "id": "70366347",
   "metadata": {},
   "source": [
    "**Define**"
   ]
  },
  {
   "cell_type": "markdown",
   "id": "ad456cfd",
   "metadata": {},
   "source": [
    "Quality issue: correct the numerator"
   ]
  },
  {
   "cell_type": "markdown",
   "id": "35967a18",
   "metadata": {},
   "source": [
    "**code**"
   ]
  },
  {
   "cell_type": "code",
   "execution_count": 58,
   "id": "e1c67606",
   "metadata": {
    "scrolled": false
   },
   "outputs": [
    {
     "name": "stdout",
     "output_type": "stream",
     "text": [
      "[['883482846933004288' 5\n",
      "  'This is Bella. She hopes her smile made you smile. If not, she is also offering you her favorite monkey. 13.5/10 https://t.co/qjrljjt948']\n",
      " ['786709082849828864' 75\n",
      "  \"This is Logan, the Chow who lived. He solemnly swears he's up to lots of good. H*ckin magical af 9.75/10 https://t.co/yBO5wuqaPS\"]\n",
      " ['778027034220126208' 27\n",
      "  \"This is Sophie. She's a Jubilant Bush Pupper. Super h*ckin rare. Appears at random just to smile at the locals. 11.27/10 would smile back https://t.co/QFaUiIHxHq\"]\n",
      " ['680494726643068929' 26\n",
      "  'Here we have uncovered an entire battalion of holiday puppers. Average of 11.26/10 https://t.co/eNm2S6p9BD']]\n"
     ]
    },
    {
     "name": "stderr",
     "output_type": "stream",
     "text": [
      "C:\\Users\\Sara\\AppData\\Local\\Temp\\ipykernel_3440\\339198252.py:1: UserWarning: This pattern is interpreted as a regular expression, and has match groups. To actually get the groups, use str.extract.\n",
      "  decimal = twitter_clean[twitter_clean['text'].str.contains(r\"(\\d+\\.\\d*\\/\\d+)\")]\n"
     ]
    }
   ],
   "source": [
    "decimal = twitter_clean[twitter_clean['text'].str.contains(r\"(\\d+\\.\\d*\\/\\d+)\")]\n",
    "print(decimal[['tweet_id','rating_numerator', 'text']].values)"
   ]
  },
  {
   "cell_type": "code",
   "execution_count": 59,
   "id": "2d961936",
   "metadata": {
    "scrolled": true
   },
   "outputs": [
    {
     "data": {
      "text/plain": [
       "'Here we have uncovered an entire battalion of holiday puppers. Average of 11.26/10 https://t.co/eNm2S6p9BD'"
      ]
     },
     "execution_count": 59,
     "metadata": {},
     "output_type": "execute_result"
    }
   ],
   "source": [
    "twitter_clean.loc[1712,'text']"
   ]
  },
  {
   "cell_type": "code",
   "execution_count": 60,
   "id": "eaf54b34",
   "metadata": {},
   "outputs": [],
   "source": [
    "twitter_clean.loc[1712 , 'rating_numerator'] = 11.26\n",
    "twitter_clean.loc[1712 , 'rating_denominator'] = 10\n",
    "\n"
   ]
  },
  {
   "cell_type": "code",
   "execution_count": 61,
   "id": "38769e62",
   "metadata": {
    "scrolled": true
   },
   "outputs": [
    {
     "data": {
      "text/plain": [
       "tweet_id                                             680494726643068929\n",
       "timestamp                                     2015-12-25 21:06:00+00:00\n",
       "source                                               Twitter for iPhone\n",
       "text                  Here we have uncovered an entire battalion of ...\n",
       "expanded_urls         https://twitter.com/dog_rates/status/680494726...\n",
       "rating_numerator                                                  11.26\n",
       "rating_denominator                                                   10\n",
       "name                                                                NaN\n",
       "retweet_count                                                     542.0\n",
       "favorite_count                                                   1879.0\n",
       "stage                                                               NaN\n",
       "Name: 1712, dtype: object"
      ]
     },
     "execution_count": 61,
     "metadata": {},
     "output_type": "execute_result"
    }
   ],
   "source": [
    "twitter_clean.loc[1712,:]"
   ]
  },
  {
   "cell_type": "code",
   "execution_count": 62,
   "id": "f6fd37fc",
   "metadata": {},
   "outputs": [
    {
     "data": {
      "text/plain": [
       "\"This is Sophie. She's a Jubilant Bush Pupper. Super h*ckin rare. Appears at random just to smile at the locals. 11.27/10 would smile back https://t.co/QFaUiIHxHq\""
      ]
     },
     "execution_count": 62,
     "metadata": {},
     "output_type": "execute_result"
    }
   ],
   "source": [
    "twitter_clean.loc[763,'text']"
   ]
  },
  {
   "cell_type": "code",
   "execution_count": 63,
   "id": "50485937",
   "metadata": {},
   "outputs": [],
   "source": [
    "twitter_clean.loc[763 , 'rating_numerator'] = 11.27\n"
   ]
  },
  {
   "cell_type": "code",
   "execution_count": 64,
   "id": "dd163fc4",
   "metadata": {},
   "outputs": [
    {
     "data": {
      "text/plain": [
       "tweet_id                                             778027034220126208\n",
       "timestamp                                     2016-09-20 00:24:34+00:00\n",
       "source                                               Twitter for iPhone\n",
       "text                  This is Sophie. She's a Jubilant Bush Pupper. ...\n",
       "expanded_urls         https://twitter.com/dog_rates/status/778027034...\n",
       "rating_numerator                                                  11.27\n",
       "rating_denominator                                                   10\n",
       "name                                                             Sophie\n",
       "retweet_count                                                    1885.0\n",
       "favorite_count                                                   7320.0\n",
       "stage                                                            pupper\n",
       "Name: 763, dtype: object"
      ]
     },
     "execution_count": 64,
     "metadata": {},
     "output_type": "execute_result"
    }
   ],
   "source": [
    "twitter_clean.loc[763,:]"
   ]
  },
  {
   "cell_type": "code",
   "execution_count": 65,
   "id": "ccdeca3c",
   "metadata": {},
   "outputs": [
    {
     "data": {
      "text/plain": [
       "'This is Bella. She hopes her smile made you smile. If not, she is also offering you her favorite monkey. 13.5/10 https://t.co/qjrljjt948'"
      ]
     },
     "execution_count": 65,
     "metadata": {},
     "output_type": "execute_result"
    }
   ],
   "source": [
    "twitter_clean.loc[45,'text']"
   ]
  },
  {
   "cell_type": "code",
   "execution_count": 66,
   "id": "0f59580d",
   "metadata": {},
   "outputs": [],
   "source": [
    "twitter_clean.loc[45 , 'rating_numerator'] = 13.5\n",
    "twitter_clean.loc[45 , 'rating_denominator'] = 10"
   ]
  },
  {
   "cell_type": "code",
   "execution_count": 67,
   "id": "4a09d93e",
   "metadata": {},
   "outputs": [
    {
     "data": {
      "text/plain": [
       "tweet_id                                             883482846933004288\n",
       "timestamp                                     2017-07-08 00:28:19+00:00\n",
       "source                                               Twitter for iPhone\n",
       "text                  This is Bella. She hopes her smile made you sm...\n",
       "expanded_urls         https://twitter.com/dog_rates/status/883482846...\n",
       "rating_numerator                                                   13.5\n",
       "rating_denominator                                                   10\n",
       "name                                                              Bella\n",
       "retweet_count                                                   10407.0\n",
       "favorite_count                                                  46860.0\n",
       "stage                                                               NaN\n",
       "Name: 45, dtype: object"
      ]
     },
     "execution_count": 67,
     "metadata": {},
     "output_type": "execute_result"
    }
   ],
   "source": [
    "twitter_clean.loc[45,:]"
   ]
  },
  {
   "cell_type": "code",
   "execution_count": 68,
   "id": "2c4bd864",
   "metadata": {},
   "outputs": [
    {
     "data": {
      "text/plain": [
       "\"This is Logan, the Chow who lived. He solemnly swears he's up to lots of good. H*ckin magical af 9.75/10 https://t.co/yBO5wuqaPS\""
      ]
     },
     "execution_count": 68,
     "metadata": {},
     "output_type": "execute_result"
    }
   ],
   "source": [
    "twitter_clean.loc[695,'text']"
   ]
  },
  {
   "cell_type": "code",
   "execution_count": 69,
   "id": "4c07c67f",
   "metadata": {},
   "outputs": [],
   "source": [
    "twitter_clean.loc[695 , 'rating_numerator'] = 9.75"
   ]
  },
  {
   "cell_type": "code",
   "execution_count": 70,
   "id": "f8b11a2f",
   "metadata": {},
   "outputs": [
    {
     "data": {
      "text/plain": [
       "tweet_id                                             786709082849828864\n",
       "timestamp                                     2016-10-13 23:23:56+00:00\n",
       "source                                               Twitter for iPhone\n",
       "text                  This is Logan, the Chow who lived. He solemnly...\n",
       "expanded_urls         https://twitter.com/dog_rates/status/786709082...\n",
       "rating_numerator                                                   9.75\n",
       "rating_denominator                                                   10\n",
       "name                                                              Logan\n",
       "retweet_count                                                    7069.0\n",
       "favorite_count                                                  20296.0\n",
       "stage                                                               NaN\n",
       "Name: 695, dtype: object"
      ]
     },
     "execution_count": 70,
     "metadata": {},
     "output_type": "execute_result"
    }
   ],
   "source": [
    "twitter_clean.loc[695,:]"
   ]
  },
  {
   "cell_type": "code",
   "execution_count": 71,
   "id": "bddc38b9",
   "metadata": {},
   "outputs": [
    {
     "data": {
      "text/plain": [
       "(2095, 11)"
      ]
     },
     "execution_count": 71,
     "metadata": {},
     "output_type": "execute_result"
    }
   ],
   "source": [
    "twitter_clean.shape"
   ]
  },
  {
   "cell_type": "code",
   "execution_count": 72,
   "id": "7572b5fc",
   "metadata": {
    "scrolled": true
   },
   "outputs": [],
   "source": [
    "wrong_numerator= twitter_clean[twitter_clean['rating_numerator'] >= 15].index\n",
    "\n",
    "# Drop all tweets that have \"rating_numerator\" >=15 \n",
    "twitter_clean.drop(wrong_numerator , inplace = True )"
   ]
  },
  {
   "cell_type": "code",
   "execution_count": 73,
   "id": "b39e3ceb",
   "metadata": {},
   "outputs": [
    {
     "data": {
      "text/plain": [
       "(2080, 11)"
      ]
     },
     "execution_count": 73,
     "metadata": {},
     "output_type": "execute_result"
    }
   ],
   "source": [
    "twitter_clean.shape"
   ]
  },
  {
   "cell_type": "markdown",
   "id": "6354ad55",
   "metadata": {},
   "source": [
    "**test**"
   ]
  },
  {
   "cell_type": "code",
   "execution_count": 74,
   "id": "f13f5050",
   "metadata": {},
   "outputs": [
    {
     "data": {
      "text/html": [
       "<div>\n",
       "<style scoped>\n",
       "    .dataframe tbody tr th:only-of-type {\n",
       "        vertical-align: middle;\n",
       "    }\n",
       "\n",
       "    .dataframe tbody tr th {\n",
       "        vertical-align: top;\n",
       "    }\n",
       "\n",
       "    .dataframe thead th {\n",
       "        text-align: right;\n",
       "    }\n",
       "</style>\n",
       "<table border=\"1\" class=\"dataframe\">\n",
       "  <thead>\n",
       "    <tr style=\"text-align: right;\">\n",
       "      <th></th>\n",
       "      <th>tweet_id</th>\n",
       "      <th>timestamp</th>\n",
       "      <th>source</th>\n",
       "      <th>text</th>\n",
       "      <th>expanded_urls</th>\n",
       "      <th>rating_numerator</th>\n",
       "      <th>rating_denominator</th>\n",
       "      <th>name</th>\n",
       "      <th>retweet_count</th>\n",
       "      <th>favorite_count</th>\n",
       "      <th>stage</th>\n",
       "    </tr>\n",
       "  </thead>\n",
       "  <tbody>\n",
       "  </tbody>\n",
       "</table>\n",
       "</div>"
      ],
      "text/plain": [
       "Empty DataFrame\n",
       "Columns: [tweet_id, timestamp, source, text, expanded_urls, rating_numerator, rating_denominator, name, retweet_count, favorite_count, stage]\n",
       "Index: []"
      ]
     },
     "execution_count": 74,
     "metadata": {},
     "output_type": "execute_result"
    }
   ],
   "source": [
    "twitter_clean[twitter_clean['rating_numerator'] > 15]"
   ]
  },
  {
   "cell_type": "markdown",
   "id": "85ed5e71",
   "metadata": {},
   "source": [
    "**Define**"
   ]
  },
  {
   "cell_type": "markdown",
   "id": "0ab185f6",
   "metadata": {},
   "source": [
    "Quality issue:remove denomenator =! 10"
   ]
  },
  {
   "cell_type": "markdown",
   "id": "a8fa8fba",
   "metadata": {},
   "source": [
    "**code**"
   ]
  },
  {
   "cell_type": "code",
   "execution_count": 75,
   "id": "1172dfc5",
   "metadata": {},
   "outputs": [
    {
     "data": {
      "text/html": [
       "<div>\n",
       "<style scoped>\n",
       "    .dataframe tbody tr th:only-of-type {\n",
       "        vertical-align: middle;\n",
       "    }\n",
       "\n",
       "    .dataframe tbody tr th {\n",
       "        vertical-align: top;\n",
       "    }\n",
       "\n",
       "    .dataframe thead th {\n",
       "        text-align: right;\n",
       "    }\n",
       "</style>\n",
       "<table border=\"1\" class=\"dataframe\">\n",
       "  <thead>\n",
       "    <tr style=\"text-align: right;\">\n",
       "      <th></th>\n",
       "      <th>text</th>\n",
       "      <th>rating_numerator</th>\n",
       "      <th>rating_denominator</th>\n",
       "    </tr>\n",
       "  </thead>\n",
       "  <tbody>\n",
       "    <tr>\n",
       "      <th>1068</th>\n",
       "      <td>After so many requests, this is Bretagne. She ...</td>\n",
       "      <td>9.0</td>\n",
       "      <td>11</td>\n",
       "    </tr>\n",
       "    <tr>\n",
       "      <th>1165</th>\n",
       "      <td>Happy 4/20 from the squad! 13/10 for all https...</td>\n",
       "      <td>4.0</td>\n",
       "      <td>20</td>\n",
       "    </tr>\n",
       "    <tr>\n",
       "      <th>1662</th>\n",
       "      <td>This is Darrel. He just robbed a 7/11 and is i...</td>\n",
       "      <td>7.0</td>\n",
       "      <td>11</td>\n",
       "    </tr>\n",
       "    <tr>\n",
       "      <th>2335</th>\n",
       "      <td>This is an Albanian 3 1/2 legged  Episcopalian...</td>\n",
       "      <td>1.0</td>\n",
       "      <td>2</td>\n",
       "    </tr>\n",
       "  </tbody>\n",
       "</table>\n",
       "</div>"
      ],
      "text/plain": [
       "                                                   text  rating_numerator  \\\n",
       "1068  After so many requests, this is Bretagne. She ...               9.0   \n",
       "1165  Happy 4/20 from the squad! 13/10 for all https...               4.0   \n",
       "1662  This is Darrel. He just robbed a 7/11 and is i...               7.0   \n",
       "2335  This is an Albanian 3 1/2 legged  Episcopalian...               1.0   \n",
       "\n",
       "      rating_denominator  \n",
       "1068                  11  \n",
       "1165                  20  \n",
       "1662                  11  \n",
       "2335                   2  "
      ]
     },
     "execution_count": 75,
     "metadata": {},
     "output_type": "execute_result"
    }
   ],
   "source": [
    "twitter_clean[twitter_clean['rating_denominator'] != 10][['text','rating_numerator', 'rating_denominator' ]]"
   ]
  },
  {
   "cell_type": "code",
   "execution_count": 76,
   "id": "3f71680a",
   "metadata": {},
   "outputs": [],
   "source": [
    "wrong_denom= twitter_clean[twitter_clean['rating_denominator'] != 10].index\n",
    "\n",
    "# Drop all tweets that have \"rating_denominator\" != 10 \n",
    "twitter_clean.drop(wrong_denom , inplace = True )"
   ]
  },
  {
   "cell_type": "markdown",
   "id": "1a8f0a4b",
   "metadata": {},
   "source": [
    "**test**"
   ]
  },
  {
   "cell_type": "code",
   "execution_count": 77,
   "id": "47ea5d57",
   "metadata": {
    "scrolled": false
   },
   "outputs": [
    {
     "data": {
      "text/html": [
       "<div>\n",
       "<style scoped>\n",
       "    .dataframe tbody tr th:only-of-type {\n",
       "        vertical-align: middle;\n",
       "    }\n",
       "\n",
       "    .dataframe tbody tr th {\n",
       "        vertical-align: top;\n",
       "    }\n",
       "\n",
       "    .dataframe thead th {\n",
       "        text-align: right;\n",
       "    }\n",
       "</style>\n",
       "<table border=\"1\" class=\"dataframe\">\n",
       "  <thead>\n",
       "    <tr style=\"text-align: right;\">\n",
       "      <th></th>\n",
       "      <th>tweet_id</th>\n",
       "      <th>timestamp</th>\n",
       "      <th>source</th>\n",
       "      <th>text</th>\n",
       "      <th>expanded_urls</th>\n",
       "      <th>rating_numerator</th>\n",
       "      <th>rating_denominator</th>\n",
       "      <th>name</th>\n",
       "      <th>retweet_count</th>\n",
       "      <th>favorite_count</th>\n",
       "      <th>stage</th>\n",
       "    </tr>\n",
       "  </thead>\n",
       "  <tbody>\n",
       "  </tbody>\n",
       "</table>\n",
       "</div>"
      ],
      "text/plain": [
       "Empty DataFrame\n",
       "Columns: [tweet_id, timestamp, source, text, expanded_urls, rating_numerator, rating_denominator, name, retweet_count, favorite_count, stage]\n",
       "Index: []"
      ]
     },
     "execution_count": 77,
     "metadata": {},
     "output_type": "execute_result"
    }
   ],
   "source": [
    "twitter_clean[twitter_clean['rating_denominator'] != 10]"
   ]
  },
  {
   "cell_type": "markdown",
   "id": "ddaa9aae",
   "metadata": {},
   "source": [
    "**Define**"
   ]
  },
  {
   "cell_type": "markdown",
   "id": "12b630b1",
   "metadata": {},
   "source": [
    "Quality issue:inconsistent of (p1,p2 and p3)in their capitalization"
   ]
  },
  {
   "cell_type": "markdown",
   "id": "62ceb534",
   "metadata": {},
   "source": [
    "**code**"
   ]
  },
  {
   "cell_type": "code",
   "execution_count": 78,
   "id": "44fab997",
   "metadata": {},
   "outputs": [],
   "source": [
    "image_predict_clean['p1'] = image_predict_clean['p1'].str.lower()\n",
    "image_predict_clean['p2'] = image_predict_clean['p2'].str.lower()\n",
    "image_predict_clean['p3'] = image_predict_clean['p3'].str.lower()"
   ]
  },
  {
   "cell_type": "markdown",
   "id": "aca67167",
   "metadata": {},
   "source": [
    "**test**"
   ]
  },
  {
   "cell_type": "code",
   "execution_count": 79,
   "id": "c9aa76e4",
   "metadata": {},
   "outputs": [
    {
     "data": {
      "text/plain": [
       "array(['shetland_sheepdog', 'rhodesian_ridgeback', 'bloodhound',\n",
       "       'miniature_pinscher', 'doberman', 'greater_swiss_mountain_dog',\n",
       "       'terrapin', 'fur_coat', 'golden_retriever',\n",
       "       'soft-coated_wheaten_terrier', 'labrador_retriever', 'pekinese',\n",
       "       'ibizan_hound', 'french_bulldog', 'malinois', 'dandie_dinmont',\n",
       "       'borzoi', 'partridge', 'bookcase', 'basenji', 'miniature_poodle',\n",
       "       'great_grey_owl', 'groenendael', 'eskimo_dog', 'hamster', 'briard',\n",
       "       'papillon', 'flat-coated_retriever', 'gar', 'chihuahua',\n",
       "       'shih-tzu', 'pomeranian', 'dingo', 'power_drill', 'saluki',\n",
       "       'great_pyrenees', 'west_highland_white_terrier', 'collie',\n",
       "       'toy_poodle', 'vizsla', 'acorn', 'giant_schnauzer', 'teddy',\n",
       "       'common_iguana', 'wig', 'water_buffalo', 'coyote', 'seat_belt',\n",
       "       'kelpie', 'space_heater', 'brabancon_griffon', 'standard_poodle',\n",
       "       'beagle', 'irish_water_spaniel', 'bluetick', 'weimaraner',\n",
       "       'chesapeake_bay_retriever', 'toilet_tissue',\n",
       "       'black-and-tan_coonhound', 'kuvasz', 'christmas_stocking',\n",
       "       'badger', 'hen', 'staffordshire_bullterrier', 'yorkshire_terrier',\n",
       "       'lakeland_terrier', 'weasel', 'ski_mask', 'cocker_spaniel',\n",
       "       'australian_terrier', 'lampshade', 'oscilloscope', 'ram', 'jeep',\n",
       "       'ice_bear', 'african_grey', 'great_dane', 'curly-coated_retriever',\n",
       "       'doormat', 'african_chameleon', 'schipperke', 'muzzle',\n",
       "       'triceratops', 'newfoundland', 'band_aid', 'wood_rabbit',\n",
       "       'white_wolf', 'giant_panda', 'welsh_springer_spaniel',\n",
       "       'french_horn', 'toy_terrier', 'pembroke', 'cardigan', 'bassinet',\n",
       "       'pug', 'afghan_hound', 'american_staffordshire_terrier', 'whippet',\n",
       "       'english_setter', 'panpipe', 'crane', 'mouse', 'titi', 'angora',\n",
       "       'boston_bull', 'silky_terrier', 'japanese_spaniel', 'sandbar',\n",
       "       'balance_beam', 'black-footed_ferret', 'miniature_schnauzer',\n",
       "       'blenheim_spaniel', 'bathtub', 'saint_bernard', 'redbone',\n",
       "       'goldfish', 'norfolk_terrier', 'llama', 'koala', 'pillow',\n",
       "       'jersey', 'chow', 'minibus', 'malamute', 'bulletproof_vest',\n",
       "       'beach_wagon', 'cairn', 'plunger', 'paper_towel', 'wing',\n",
       "       'english_foxhound', 'brittany_spaniel', 'bolete', 'ashcan',\n",
       "       'box_turtle', 'guinea_pig', 'bison', 'bull_mastiff', 'racket',\n",
       "       'cardoon', 'tibetan_mastiff', 'window_screen', 'irish_terrier',\n",
       "       'agama', 'common_newt', 'car_wheel', 'gorilla', 'bagel', 'clumber',\n",
       "       'egyptian_cat', 'television', 'boxer', 'brown_bear', 'leafhopper',\n",
       "       'german_shepherd', 'border_collie', 'menu', 'wolf_spider',\n",
       "       'bathing_cap', 'stinkhorn', 'drumstick', 'mask',\n",
       "       'scottish_deerhound', 'shower_curtain', 'appenzeller',\n",
       "       'plastic_bag', 'swimming_trunks', 'prairie_chicken', 'red_wolf',\n",
       "       'maltese_dog', 'snail', 'gibbon', 'gordon_setter', 'black_swan',\n",
       "       'beacon', 'wool', 'cowboy_boot', 'rottweiler', 'poncho', 'swing',\n",
       "       'arctic_fox', 'bib', 'italian_greyhound', 'steam_locomotive',\n",
       "       'fountain', 'chickadee', 'abaya', 'border_terrier', 'bubble',\n",
       "       'chimpanzee', 'hammerhead', 'norwegian_elkhound',\n",
       "       'norwich_terrier', 'airedale', 'siamese_cat', 'sea_cucumber',\n",
       "       'seashore', 'nipple', 'moped', 'arabian_camel', 'crayfish',\n",
       "       'wallaby', 'wire-haired_fox_terrier', 'toilet_seat',\n",
       "       'old_english_sheepdog', 'pajama', 'walker_hound', 'shovel',\n",
       "       'bucket', 'sealyham_terrier', 'windsor_tie', 'siberian_husky',\n",
       "       'quill', 'persian_cat', 'european_fire_salamander',\n",
       "       'three-toed_sloth', 'swab', 'echidna', 'tennis_ball', 'lhasa',\n",
       "       'coral_reef', 'keeshond', 'mink', 'screw', 'basset', 'wreck',\n",
       "       'kimono', 'german_short-haired_pointer', 'joystick', 'microwave',\n",
       "       'tibetan_terrier', 'irish_wolfhound', 'samoyed', 'loggerhead',\n",
       "       'french_loaf', 'irish_setter', 'komondor', 'purse', 'greenhouse',\n",
       "       'broccoli', 'shopping_basket', 'macaque', 'squirrel_monkey',\n",
       "       'green_lizard', 'parallel_bars', 'cloak', 'chest', 'sundial',\n",
       "       'mosquito_net', 'bath_towel', 'cuirass', 'zebra', 'lumbermill',\n",
       "       'wallet', 'feather_boa', 'english_springer', 'electric_fan',\n",
       "       'hippopotamus', 'ox', 'quilt', 'assault_rifle', 'axolotl', 'pot',\n",
       "       'toyshop', 'pizza', 'scuba_diver', 'beaver', 'mexican_hairless',\n",
       "       'cliff', 'loupe', 'wild_boar', 'jaguar', 'hog', 'polecat', 'lion',\n",
       "       'entlebucher', 'hand-held_computer', 'washbasin', 'whiptail',\n",
       "       'rock_crab', 'hare', 'shoji', 'sombrero', 'bell_cote', 'rifle',\n",
       "       'goose', 'pickup', 'sunglasses', 'limousine', 'bow_tie', 'pretzel',\n",
       "       'marmot', 'ice_lolly', 'vacuum', 'dalmatian', 'prison',\n",
       "       'shower_cap', 'sliding_door', 'dugong', 'otterhound', 'eel',\n",
       "       'binder', 'bullfrog', 'soap_dispenser', 'sea_lion', 'carton',\n",
       "       'brass', 'mitten', 'golfcart', 'cougar', 'warthog', 'umbrella',\n",
       "       'neck_brace', 'cup', 'book_jacket', 'padlock', 'cab', 'chime',\n",
       "       'leonberg', 'viaduct', 'american_black_bear', 'tub', 'hand_blower',\n",
       "       'king_penguin', 'rotisserie', 'bannister', 'passenger_car',\n",
       "       'mongoose', 'dhole', 'consomme', 'valley', 'park_bench',\n",
       "       'mushroom', 'barrow', 'parachute', 'desktop_computer', 'snorkel',\n",
       "       'wok', 'affenpinscher', 'space_shuttle', 'rain_barrel',\n",
       "       'ballplayer', 'mountain_tent', 'oxcart', 'buckeye', 'sunglass',\n",
       "       'croquet_ball', 'refrigerator', 'snow_leopard', 'tripod',\n",
       "       'rapeseed', 'tiger_cat', 'bernese_mountain_dog', 'notebook',\n",
       "       'maraca', 'pool_table', 'lakeside', 'theater_curtain', 'pier',\n",
       "       'cheetah', 'mousetrap', 'pop_bottle', 'soccer_ball', 'wombat',\n",
       "       'rhinoceros_beetle', 'paddlewheel', 'paintbrush', 'maze',\n",
       "       'hatchet', 'chain', 'jigsaw_puzzle', 'switch',\n",
       "       'kerry_blue_terrier', 'barbell', 'convertible',\n",
       "       'entertainment_center', 'file', 'guillotine', 'nail',\n",
       "       'standard_schnauzer', 'bow', 'grocery_store', 'boathouse', 'conch',\n",
       "       'bouvier_des_flandres', 'grey_fox', 'shopping_cart', 'meerkat',\n",
       "       'grand_piano', 'envelope', 'screen', 'coffeepot', 'printer',\n",
       "       'otter', 'restaurant', 'bonnet', 'crossword_puzzle', 'go-kart',\n",
       "       'sussex_spaniel', 'orangutan', 'canoe', 'barber_chair',\n",
       "       'traffic_light', 'ibex', 'can_opener', 'indian_elephant',\n",
       "       'spatula', 'banana'], dtype=object)"
      ]
     },
     "execution_count": 79,
     "metadata": {},
     "output_type": "execute_result"
    }
   ],
   "source": [
    "image_predict_clean.p1.unique()\n",
    "image_predict_clean.p2.unique()\n",
    "image_predict_clean.p3.unique()"
   ]
  },
  {
   "cell_type": "code",
   "execution_count": 80,
   "id": "ba18bb70",
   "metadata": {},
   "outputs": [
    {
     "data": {
      "text/plain": [
       "(2076, 11)"
      ]
     },
     "execution_count": 80,
     "metadata": {},
     "output_type": "execute_result"
    }
   ],
   "source": [
    "twitter_clean.shape"
   ]
  },
  {
   "cell_type": "code",
   "execution_count": 81,
   "id": "1ede9309",
   "metadata": {
    "scrolled": true
   },
   "outputs": [
    {
     "data": {
      "text/plain": [
       "(2075, 12)"
      ]
     },
     "execution_count": 81,
     "metadata": {},
     "output_type": "execute_result"
    }
   ],
   "source": [
    "image_predict_clean.shape"
   ]
  },
  {
   "cell_type": "code",
   "execution_count": 82,
   "id": "85bf9215",
   "metadata": {},
   "outputs": [],
   "source": [
    "# add new 'rating' column by dividing rating_numerator by rating_denominator\n",
    "twitter_clean['rating'] = twitter_clean['rating_numerator'] / twitter_clean['rating_denominator']"
   ]
  },
  {
   "cell_type": "code",
   "execution_count": 83,
   "id": "6048c96e",
   "metadata": {},
   "outputs": [
    {
     "data": {
      "text/plain": [
       "2       1.2\n",
       "3       1.3\n",
       "4       1.2\n",
       "5       1.3\n",
       "6       1.3\n",
       "       ... \n",
       "2351    0.5\n",
       "2352    0.6\n",
       "2353    0.9\n",
       "2354    0.7\n",
       "2355    0.8\n",
       "Name: rating, Length: 2076, dtype: float64"
      ]
     },
     "execution_count": 83,
     "metadata": {},
     "output_type": "execute_result"
    }
   ],
   "source": [
    "twitter_clean['rating']"
   ]
  },
  {
   "cell_type": "code",
   "execution_count": 84,
   "id": "ae7d34b5",
   "metadata": {
    "scrolled": false
   },
   "outputs": [
    {
     "data": {
      "text/html": [
       "<div>\n",
       "<style scoped>\n",
       "    .dataframe tbody tr th:only-of-type {\n",
       "        vertical-align: middle;\n",
       "    }\n",
       "\n",
       "    .dataframe tbody tr th {\n",
       "        vertical-align: top;\n",
       "    }\n",
       "\n",
       "    .dataframe thead th {\n",
       "        text-align: right;\n",
       "    }\n",
       "</style>\n",
       "<table border=\"1\" class=\"dataframe\">\n",
       "  <thead>\n",
       "    <tr style=\"text-align: right;\">\n",
       "      <th></th>\n",
       "      <th>tweet_id</th>\n",
       "      <th>timestamp</th>\n",
       "      <th>source</th>\n",
       "      <th>text</th>\n",
       "      <th>expanded_urls</th>\n",
       "      <th>rating_numerator</th>\n",
       "      <th>rating_denominator</th>\n",
       "      <th>name</th>\n",
       "      <th>retweet_count</th>\n",
       "      <th>favorite_count</th>\n",
       "      <th>stage</th>\n",
       "      <th>rating</th>\n",
       "    </tr>\n",
       "  </thead>\n",
       "  <tbody>\n",
       "    <tr>\n",
       "      <th>2</th>\n",
       "      <td>891815181378084864</td>\n",
       "      <td>2017-07-31 00:18:03+00:00</td>\n",
       "      <td>Twitter for iPhone</td>\n",
       "      <td>This is Archie. He is a rare Norwegian Pouncin...</td>\n",
       "      <td>https://twitter.com/dog_rates/status/891815181...</td>\n",
       "      <td>12.0</td>\n",
       "      <td>10</td>\n",
       "      <td>Archie</td>\n",
       "      <td>4328.0</td>\n",
       "      <td>25461.0</td>\n",
       "      <td>NaN</td>\n",
       "      <td>1.2</td>\n",
       "    </tr>\n",
       "    <tr>\n",
       "      <th>3</th>\n",
       "      <td>891689557279858688</td>\n",
       "      <td>2017-07-30 15:58:51+00:00</td>\n",
       "      <td>Twitter for iPhone</td>\n",
       "      <td>This is Darla. She commenced a snooze mid meal...</td>\n",
       "      <td>https://twitter.com/dog_rates/status/891689557...</td>\n",
       "      <td>13.0</td>\n",
       "      <td>10</td>\n",
       "      <td>Darla</td>\n",
       "      <td>8964.0</td>\n",
       "      <td>42908.0</td>\n",
       "      <td>NaN</td>\n",
       "      <td>1.3</td>\n",
       "    </tr>\n",
       "    <tr>\n",
       "      <th>4</th>\n",
       "      <td>891327558926688256</td>\n",
       "      <td>2017-07-29 16:00:24+00:00</td>\n",
       "      <td>Twitter for iPhone</td>\n",
       "      <td>This is Franklin. He would like you to stop ca...</td>\n",
       "      <td>https://twitter.com/dog_rates/status/891327558...</td>\n",
       "      <td>12.0</td>\n",
       "      <td>10</td>\n",
       "      <td>Franklin</td>\n",
       "      <td>9774.0</td>\n",
       "      <td>41048.0</td>\n",
       "      <td>NaN</td>\n",
       "      <td>1.2</td>\n",
       "    </tr>\n",
       "    <tr>\n",
       "      <th>5</th>\n",
       "      <td>891087950875897856</td>\n",
       "      <td>2017-07-29 00:08:17+00:00</td>\n",
       "      <td>Twitter for iPhone</td>\n",
       "      <td>Here we have a majestic great white breaching ...</td>\n",
       "      <td>https://twitter.com/dog_rates/status/891087950...</td>\n",
       "      <td>13.0</td>\n",
       "      <td>10</td>\n",
       "      <td>NaN</td>\n",
       "      <td>3261.0</td>\n",
       "      <td>20562.0</td>\n",
       "      <td>NaN</td>\n",
       "      <td>1.3</td>\n",
       "    </tr>\n",
       "    <tr>\n",
       "      <th>6</th>\n",
       "      <td>890971913173991426</td>\n",
       "      <td>2017-07-28 16:27:12+00:00</td>\n",
       "      <td>Twitter for iPhone</td>\n",
       "      <td>Meet Jax. He enjoys ice cream so much he gets ...</td>\n",
       "      <td>https://gofundme.com/ydvmve-surgery-for-jax,ht...</td>\n",
       "      <td>13.0</td>\n",
       "      <td>10</td>\n",
       "      <td>Jax</td>\n",
       "      <td>2158.0</td>\n",
       "      <td>12041.0</td>\n",
       "      <td>NaN</td>\n",
       "      <td>1.3</td>\n",
       "    </tr>\n",
       "    <tr>\n",
       "      <th>...</th>\n",
       "      <td>...</td>\n",
       "      <td>...</td>\n",
       "      <td>...</td>\n",
       "      <td>...</td>\n",
       "      <td>...</td>\n",
       "      <td>...</td>\n",
       "      <td>...</td>\n",
       "      <td>...</td>\n",
       "      <td>...</td>\n",
       "      <td>...</td>\n",
       "      <td>...</td>\n",
       "      <td>...</td>\n",
       "    </tr>\n",
       "    <tr>\n",
       "      <th>2351</th>\n",
       "      <td>666049248165822465</td>\n",
       "      <td>2015-11-16 00:24:50+00:00</td>\n",
       "      <td>Twitter for iPhone</td>\n",
       "      <td>Here we have a 1949 1st generation vulpix. Enj...</td>\n",
       "      <td>https://twitter.com/dog_rates/status/666049248...</td>\n",
       "      <td>5.0</td>\n",
       "      <td>10</td>\n",
       "      <td>NaN</td>\n",
       "      <td>41.0</td>\n",
       "      <td>111.0</td>\n",
       "      <td>NaN</td>\n",
       "      <td>0.5</td>\n",
       "    </tr>\n",
       "    <tr>\n",
       "      <th>2352</th>\n",
       "      <td>666044226329800704</td>\n",
       "      <td>2015-11-16 00:04:52+00:00</td>\n",
       "      <td>Twitter for iPhone</td>\n",
       "      <td>This is a purebred Piers Morgan. Loves to Netf...</td>\n",
       "      <td>https://twitter.com/dog_rates/status/666044226...</td>\n",
       "      <td>6.0</td>\n",
       "      <td>10</td>\n",
       "      <td>NaN</td>\n",
       "      <td>147.0</td>\n",
       "      <td>311.0</td>\n",
       "      <td>NaN</td>\n",
       "      <td>0.6</td>\n",
       "    </tr>\n",
       "    <tr>\n",
       "      <th>2353</th>\n",
       "      <td>666033412701032449</td>\n",
       "      <td>2015-11-15 23:21:54+00:00</td>\n",
       "      <td>Twitter for iPhone</td>\n",
       "      <td>Here is a very happy pup. Big fan of well-main...</td>\n",
       "      <td>https://twitter.com/dog_rates/status/666033412...</td>\n",
       "      <td>9.0</td>\n",
       "      <td>10</td>\n",
       "      <td>NaN</td>\n",
       "      <td>47.0</td>\n",
       "      <td>128.0</td>\n",
       "      <td>NaN</td>\n",
       "      <td>0.9</td>\n",
       "    </tr>\n",
       "    <tr>\n",
       "      <th>2354</th>\n",
       "      <td>666029285002620928</td>\n",
       "      <td>2015-11-15 23:05:30+00:00</td>\n",
       "      <td>Twitter for iPhone</td>\n",
       "      <td>This is a western brown Mitsubishi terrier. Up...</td>\n",
       "      <td>https://twitter.com/dog_rates/status/666029285...</td>\n",
       "      <td>7.0</td>\n",
       "      <td>10</td>\n",
       "      <td>NaN</td>\n",
       "      <td>48.0</td>\n",
       "      <td>132.0</td>\n",
       "      <td>NaN</td>\n",
       "      <td>0.7</td>\n",
       "    </tr>\n",
       "    <tr>\n",
       "      <th>2355</th>\n",
       "      <td>666020888022790149</td>\n",
       "      <td>2015-11-15 22:32:08+00:00</td>\n",
       "      <td>Twitter for iPhone</td>\n",
       "      <td>Here we have a Japanese Irish Setter. Lost eye...</td>\n",
       "      <td>https://twitter.com/dog_rates/status/666020888...</td>\n",
       "      <td>8.0</td>\n",
       "      <td>10</td>\n",
       "      <td>NaN</td>\n",
       "      <td>532.0</td>\n",
       "      <td>2535.0</td>\n",
       "      <td>NaN</td>\n",
       "      <td>0.8</td>\n",
       "    </tr>\n",
       "  </tbody>\n",
       "</table>\n",
       "<p>2076 rows × 12 columns</p>\n",
       "</div>"
      ],
      "text/plain": [
       "                tweet_id                 timestamp              source  \\\n",
       "2     891815181378084864 2017-07-31 00:18:03+00:00  Twitter for iPhone   \n",
       "3     891689557279858688 2017-07-30 15:58:51+00:00  Twitter for iPhone   \n",
       "4     891327558926688256 2017-07-29 16:00:24+00:00  Twitter for iPhone   \n",
       "5     891087950875897856 2017-07-29 00:08:17+00:00  Twitter for iPhone   \n",
       "6     890971913173991426 2017-07-28 16:27:12+00:00  Twitter for iPhone   \n",
       "...                  ...                       ...                 ...   \n",
       "2351  666049248165822465 2015-11-16 00:24:50+00:00  Twitter for iPhone   \n",
       "2352  666044226329800704 2015-11-16 00:04:52+00:00  Twitter for iPhone   \n",
       "2353  666033412701032449 2015-11-15 23:21:54+00:00  Twitter for iPhone   \n",
       "2354  666029285002620928 2015-11-15 23:05:30+00:00  Twitter for iPhone   \n",
       "2355  666020888022790149 2015-11-15 22:32:08+00:00  Twitter for iPhone   \n",
       "\n",
       "                                                   text  \\\n",
       "2     This is Archie. He is a rare Norwegian Pouncin...   \n",
       "3     This is Darla. She commenced a snooze mid meal...   \n",
       "4     This is Franklin. He would like you to stop ca...   \n",
       "5     Here we have a majestic great white breaching ...   \n",
       "6     Meet Jax. He enjoys ice cream so much he gets ...   \n",
       "...                                                 ...   \n",
       "2351  Here we have a 1949 1st generation vulpix. Enj...   \n",
       "2352  This is a purebred Piers Morgan. Loves to Netf...   \n",
       "2353  Here is a very happy pup. Big fan of well-main...   \n",
       "2354  This is a western brown Mitsubishi terrier. Up...   \n",
       "2355  Here we have a Japanese Irish Setter. Lost eye...   \n",
       "\n",
       "                                          expanded_urls  rating_numerator  \\\n",
       "2     https://twitter.com/dog_rates/status/891815181...              12.0   \n",
       "3     https://twitter.com/dog_rates/status/891689557...              13.0   \n",
       "4     https://twitter.com/dog_rates/status/891327558...              12.0   \n",
       "5     https://twitter.com/dog_rates/status/891087950...              13.0   \n",
       "6     https://gofundme.com/ydvmve-surgery-for-jax,ht...              13.0   \n",
       "...                                                 ...               ...   \n",
       "2351  https://twitter.com/dog_rates/status/666049248...               5.0   \n",
       "2352  https://twitter.com/dog_rates/status/666044226...               6.0   \n",
       "2353  https://twitter.com/dog_rates/status/666033412...               9.0   \n",
       "2354  https://twitter.com/dog_rates/status/666029285...               7.0   \n",
       "2355  https://twitter.com/dog_rates/status/666020888...               8.0   \n",
       "\n",
       "      rating_denominator      name  retweet_count  favorite_count stage  \\\n",
       "2                     10    Archie         4328.0         25461.0   NaN   \n",
       "3                     10     Darla         8964.0         42908.0   NaN   \n",
       "4                     10  Franklin         9774.0         41048.0   NaN   \n",
       "5                     10       NaN         3261.0         20562.0   NaN   \n",
       "6                     10       Jax         2158.0         12041.0   NaN   \n",
       "...                  ...       ...            ...             ...   ...   \n",
       "2351                  10       NaN           41.0           111.0   NaN   \n",
       "2352                  10       NaN          147.0           311.0   NaN   \n",
       "2353                  10       NaN           47.0           128.0   NaN   \n",
       "2354                  10       NaN           48.0           132.0   NaN   \n",
       "2355                  10       NaN          532.0          2535.0   NaN   \n",
       "\n",
       "      rating  \n",
       "2        1.2  \n",
       "3        1.3  \n",
       "4        1.2  \n",
       "5        1.3  \n",
       "6        1.3  \n",
       "...      ...  \n",
       "2351     0.5  \n",
       "2352     0.6  \n",
       "2353     0.9  \n",
       "2354     0.7  \n",
       "2355     0.8  \n",
       "\n",
       "[2076 rows x 12 columns]"
      ]
     },
     "execution_count": 84,
     "metadata": {},
     "output_type": "execute_result"
    }
   ],
   "source": [
    "twitter_clean"
   ]
  },
  {
   "cell_type": "markdown",
   "id": "4923bced",
   "metadata": {},
   "source": [
    "**Define**"
   ]
  },
  {
   "cell_type": "markdown",
   "id": "b85ca7fe",
   "metadata": {},
   "source": [
    "Quality issue: remove tweet where all probabailites of p_dog are false"
   ]
  },
  {
   "cell_type": "markdown",
   "id": "24a4a2ec",
   "metadata": {},
   "source": [
    "**code**"
   ]
  },
  {
   "cell_type": "code",
   "execution_count": 85,
   "id": "1dc7fdd5",
   "metadata": {},
   "outputs": [],
   "source": [
    "# Find tweet_id that are not dogs\n",
    "true_dogs = image_predict_clean[(image_predict_clean[\"p1_dog\"] == False) &\n",
    "                     (image_predict_clean[\"p2_dog\"] == False) &\n",
    "                     (image_predict_clean[\"p3_dog\"] == False)][\"tweet_id\"].index\n",
    "\n",
    "# Remove tweets where all probabilities of p_dog are False\n",
    "image_predict_clean.drop(true_dogs, inplace=True)"
   ]
  },
  {
   "cell_type": "markdown",
   "id": "99c0fa4e",
   "metadata": {},
   "source": [
    "**test**"
   ]
  },
  {
   "cell_type": "code",
   "execution_count": 86,
   "id": "44ec70bc",
   "metadata": {},
   "outputs": [],
   "source": [
    "# Check there are no tweets where all probabilities of p_dog are False\n",
    "assert len(image_predict_clean[(image_predict_clean[\"p1_dog\"] == False) &\n",
    "          (image_predict_clean[\"p2_dog\"] == False) &\n",
    "          (image_predict_clean[\"p3_dog\"] == False)]) == 0"
   ]
  },
  {
   "cell_type": "markdown",
   "id": "869d254d",
   "metadata": {},
   "source": [
    "**Define**"
   ]
  },
  {
   "cell_type": "markdown",
   "id": "b9fe2727",
   "metadata": {},
   "source": [
    "Tidiness issue: merge the whole datasets to one dataframe"
   ]
  },
  {
   "cell_type": "markdown",
   "id": "4e00dd14",
   "metadata": {},
   "source": [
    "**code**"
   ]
  },
  {
   "cell_type": "code",
   "execution_count": 87,
   "id": "70d976f4",
   "metadata": {},
   "outputs": [],
   "source": [
    "#merge the three datasets\n",
    "twitter_clean= pd.merge(twitter_clean, image_predict_clean, \n",
    "                         on = 'tweet_id', how = 'left')"
   ]
  },
  {
   "cell_type": "markdown",
   "id": "6315a13f",
   "metadata": {},
   "source": [
    "**test**"
   ]
  },
  {
   "cell_type": "code",
   "execution_count": 88,
   "id": "2015329b",
   "metadata": {},
   "outputs": [
    {
     "name": "stdout",
     "output_type": "stream",
     "text": [
      "<class 'pandas.core.frame.DataFrame'>\n",
      "Int64Index: 2076 entries, 0 to 2075\n",
      "Data columns (total 23 columns):\n",
      " #   Column              Non-Null Count  Dtype              \n",
      "---  ------              --------------  -----              \n",
      " 0   tweet_id            2076 non-null   object             \n",
      " 1   timestamp           2076 non-null   datetime64[ns, UTC]\n",
      " 2   source              2076 non-null   object             \n",
      " 3   text                2076 non-null   object             \n",
      " 4   expanded_urls       2073 non-null   object             \n",
      " 5   rating_numerator    2076 non-null   float64            \n",
      " 6   rating_denominator  2076 non-null   int64              \n",
      " 7   name                1384 non-null   object             \n",
      " 8   retweet_count       2076 non-null   float64            \n",
      " 9   favorite_count      2076 non-null   float64            \n",
      " 10  stage               336 non-null    object             \n",
      " 11  rating              2076 non-null   float64            \n",
      " 12  jpg_url             1649 non-null   object             \n",
      " 13  img_num             1649 non-null   float64            \n",
      " 14  p1                  1649 non-null   object             \n",
      " 15  p1_conf             1649 non-null   float64            \n",
      " 16  p1_dog              1649 non-null   object             \n",
      " 17  p2                  1649 non-null   object             \n",
      " 18  p2_conf             1649 non-null   float64            \n",
      " 19  p2_dog              1649 non-null   object             \n",
      " 20  p3                  1649 non-null   object             \n",
      " 21  p3_conf             1649 non-null   float64            \n",
      " 22  p3_dog              1649 non-null   object             \n",
      "dtypes: datetime64[ns, UTC](1), float64(8), int64(1), object(13)\n",
      "memory usage: 389.2+ KB\n"
     ]
    }
   ],
   "source": [
    "twitter_clean.info()\n"
   ]
  },
  {
   "cell_type": "code",
   "execution_count": 89,
   "id": "f8865063",
   "metadata": {},
   "outputs": [],
   "source": [
    "# remove expanded urls since its not necessary column\n",
    "twitter_clean = twitter_clean.drop(['expanded_urls'], axis=1)\n"
   ]
  },
  {
   "cell_type": "code",
   "execution_count": 90,
   "id": "630cbd82",
   "metadata": {},
   "outputs": [
    {
     "name": "stdout",
     "output_type": "stream",
     "text": [
      "<class 'pandas.core.frame.DataFrame'>\n",
      "Int64Index: 2076 entries, 0 to 2075\n",
      "Data columns (total 22 columns):\n",
      " #   Column              Non-Null Count  Dtype              \n",
      "---  ------              --------------  -----              \n",
      " 0   tweet_id            2076 non-null   object             \n",
      " 1   timestamp           2076 non-null   datetime64[ns, UTC]\n",
      " 2   source              2076 non-null   object             \n",
      " 3   text                2076 non-null   object             \n",
      " 4   rating_numerator    2076 non-null   float64            \n",
      " 5   rating_denominator  2076 non-null   int64              \n",
      " 6   name                1384 non-null   object             \n",
      " 7   retweet_count       2076 non-null   float64            \n",
      " 8   favorite_count      2076 non-null   float64            \n",
      " 9   stage               336 non-null    object             \n",
      " 10  rating              2076 non-null   float64            \n",
      " 11  jpg_url             1649 non-null   object             \n",
      " 12  img_num             1649 non-null   float64            \n",
      " 13  p1                  1649 non-null   object             \n",
      " 14  p1_conf             1649 non-null   float64            \n",
      " 15  p1_dog              1649 non-null   object             \n",
      " 16  p2                  1649 non-null   object             \n",
      " 17  p2_conf             1649 non-null   float64            \n",
      " 18  p2_dog              1649 non-null   object             \n",
      " 19  p3                  1649 non-null   object             \n",
      " 20  p3_conf             1649 non-null   float64            \n",
      " 21  p3_dog              1649 non-null   object             \n",
      "dtypes: datetime64[ns, UTC](1), float64(8), int64(1), object(12)\n",
      "memory usage: 373.0+ KB\n"
     ]
    }
   ],
   "source": [
    "twitter_clean.info()"
   ]
  },
  {
   "cell_type": "markdown",
   "id": "d147537f",
   "metadata": {},
   "source": [
    "## Storing ##"
   ]
  },
  {
   "cell_type": "code",
   "execution_count": 91,
   "id": "ee429752",
   "metadata": {},
   "outputs": [],
   "source": [
    "# Store cleaned data in the file twitter_archive_master.csv\n",
    "twitter_clean.to_csv('twitter_archive_master.csv')"
   ]
  },
  {
   "cell_type": "markdown",
   "id": "ccac2e55",
   "metadata": {},
   "source": [
    "## Analyzing and Visualizing ##"
   ]
  },
  {
   "cell_type": "code",
   "execution_count": 92,
   "id": "47bd5643",
   "metadata": {
    "scrolled": true
   },
   "outputs": [
    {
     "data": {
      "text/html": [
       "<div>\n",
       "<style scoped>\n",
       "    .dataframe tbody tr th:only-of-type {\n",
       "        vertical-align: middle;\n",
       "    }\n",
       "\n",
       "    .dataframe tbody tr th {\n",
       "        vertical-align: top;\n",
       "    }\n",
       "\n",
       "    .dataframe thead th {\n",
       "        text-align: right;\n",
       "    }\n",
       "</style>\n",
       "<table border=\"1\" class=\"dataframe\">\n",
       "  <thead>\n",
       "    <tr style=\"text-align: right;\">\n",
       "      <th></th>\n",
       "      <th>rating_numerator</th>\n",
       "      <th>rating_denominator</th>\n",
       "      <th>retweet_count</th>\n",
       "      <th>favorite_count</th>\n",
       "      <th>rating</th>\n",
       "      <th>img_num</th>\n",
       "      <th>p1_conf</th>\n",
       "      <th>p2_conf</th>\n",
       "      <th>p3_conf</th>\n",
       "    </tr>\n",
       "  </thead>\n",
       "  <tbody>\n",
       "    <tr>\n",
       "      <th>count</th>\n",
       "      <td>2076.000000</td>\n",
       "      <td>2076.0</td>\n",
       "      <td>2076.000000</td>\n",
       "      <td>2076.000000</td>\n",
       "      <td>2076.000000</td>\n",
       "      <td>1649.000000</td>\n",
       "      <td>1649.000000</td>\n",
       "      <td>1649.000000</td>\n",
       "      <td>1.649000e+03</td>\n",
       "    </tr>\n",
       "    <tr>\n",
       "      <th>mean</th>\n",
       "      <td>10.608276</td>\n",
       "      <td>10.0</td>\n",
       "      <td>2838.117534</td>\n",
       "      <td>8977.551060</td>\n",
       "      <td>1.060828</td>\n",
       "      <td>1.214676</td>\n",
       "      <td>0.605535</td>\n",
       "      <td>0.137751</td>\n",
       "      <td>6.120135e-02</td>\n",
       "    </tr>\n",
       "    <tr>\n",
       "      <th>std</th>\n",
       "      <td>2.149631</td>\n",
       "      <td>0.0</td>\n",
       "      <td>4718.417254</td>\n",
       "      <td>12212.628718</td>\n",
       "      <td>0.214963</td>\n",
       "      <td>0.574543</td>\n",
       "      <td>0.266530</td>\n",
       "      <td>0.101764</td>\n",
       "      <td>5.178564e-02</td>\n",
       "    </tr>\n",
       "    <tr>\n",
       "      <th>min</th>\n",
       "      <td>0.000000</td>\n",
       "      <td>10.0</td>\n",
       "      <td>16.000000</td>\n",
       "      <td>81.000000</td>\n",
       "      <td>0.000000</td>\n",
       "      <td>1.000000</td>\n",
       "      <td>0.044333</td>\n",
       "      <td>0.000010</td>\n",
       "      <td>2.160900e-07</td>\n",
       "    </tr>\n",
       "    <tr>\n",
       "      <th>25%</th>\n",
       "      <td>10.000000</td>\n",
       "      <td>10.0</td>\n",
       "      <td>640.250000</td>\n",
       "      <td>2040.750000</td>\n",
       "      <td>1.000000</td>\n",
       "      <td>1.000000</td>\n",
       "      <td>0.379055</td>\n",
       "      <td>0.054790</td>\n",
       "      <td>1.553510e-02</td>\n",
       "    </tr>\n",
       "    <tr>\n",
       "      <th>50%</th>\n",
       "      <td>11.000000</td>\n",
       "      <td>10.0</td>\n",
       "      <td>1399.500000</td>\n",
       "      <td>4191.500000</td>\n",
       "      <td>1.100000</td>\n",
       "      <td>1.000000</td>\n",
       "      <td>0.606654</td>\n",
       "      <td>0.121607</td>\n",
       "      <td>4.990060e-02</td>\n",
       "    </tr>\n",
       "    <tr>\n",
       "      <th>75%</th>\n",
       "      <td>12.000000</td>\n",
       "      <td>10.0</td>\n",
       "      <td>3285.000000</td>\n",
       "      <td>11425.000000</td>\n",
       "      <td>1.200000</td>\n",
       "      <td>1.000000</td>\n",
       "      <td>0.852088</td>\n",
       "      <td>0.199544</td>\n",
       "      <td>9.469160e-02</td>\n",
       "    </tr>\n",
       "    <tr>\n",
       "      <th>max</th>\n",
       "      <td>14.000000</td>\n",
       "      <td>10.0</td>\n",
       "      <td>79515.000000</td>\n",
       "      <td>132810.000000</td>\n",
       "      <td>1.400000</td>\n",
       "      <td>4.000000</td>\n",
       "      <td>0.999984</td>\n",
       "      <td>0.467678</td>\n",
       "      <td>2.710420e-01</td>\n",
       "    </tr>\n",
       "  </tbody>\n",
       "</table>\n",
       "</div>"
      ],
      "text/plain": [
       "       rating_numerator  rating_denominator  retweet_count  favorite_count  \\\n",
       "count       2076.000000              2076.0    2076.000000     2076.000000   \n",
       "mean          10.608276                10.0    2838.117534     8977.551060   \n",
       "std            2.149631                 0.0    4718.417254    12212.628718   \n",
       "min            0.000000                10.0      16.000000       81.000000   \n",
       "25%           10.000000                10.0     640.250000     2040.750000   \n",
       "50%           11.000000                10.0    1399.500000     4191.500000   \n",
       "75%           12.000000                10.0    3285.000000    11425.000000   \n",
       "max           14.000000                10.0   79515.000000   132810.000000   \n",
       "\n",
       "            rating      img_num      p1_conf      p2_conf       p3_conf  \n",
       "count  2076.000000  1649.000000  1649.000000  1649.000000  1.649000e+03  \n",
       "mean      1.060828     1.214676     0.605535     0.137751  6.120135e-02  \n",
       "std       0.214963     0.574543     0.266530     0.101764  5.178564e-02  \n",
       "min       0.000000     1.000000     0.044333     0.000010  2.160900e-07  \n",
       "25%       1.000000     1.000000     0.379055     0.054790  1.553510e-02  \n",
       "50%       1.100000     1.000000     0.606654     0.121607  4.990060e-02  \n",
       "75%       1.200000     1.000000     0.852088     0.199544  9.469160e-02  \n",
       "max       1.400000     4.000000     0.999984     0.467678  2.710420e-01  "
      ]
     },
     "execution_count": 92,
     "metadata": {},
     "output_type": "execute_result"
    }
   ],
   "source": [
    "#first we get the statistics \n",
    "data = twitter_clean.copy()\n",
    "data.describe()"
   ]
  },
  {
   "cell_type": "code",
   "execution_count": 95,
   "id": "18ebe025",
   "metadata": {},
   "outputs": [
    {
     "name": "stdout",
     "output_type": "stream",
     "text": [
      "The highest favorited tweet is \n",
      "Here's a super supportive puppo participating in the Toronto  #WomensMarch today. 13/10 https://t.co/nTz3FtorBc\n",
      "With maximun number of favorites 132810.0\n",
      "\n",
      "The highest retweeted tweet is \n",
      "Here's a doggo realizing you can stand in a pool. 13/10 enlightened af (vid by Tina Conrad) https://t.co/7wE9LTEXC4\n",
      "With maximun number of retweets 79515.0\n"
     ]
    }
   ],
   "source": [
    "#find the highest like and retweet\n",
    "like_max = np.max(data['favorite_count'])\n",
    "ret_max  = np.max(data['retweet_count'])\n",
    "\n",
    "like = data[data.favorite_count == like_max].index[0]\n",
    "ret  = data[data.retweet_count == ret_max].index[0]\n",
    "\n",
    "# Max Likes\n",
    "print(\"The highest favorited tweet is \\n{}\".format(data['text'][like]))\n",
    "print(\"With maximun number of favorites {}\\n\".format(like_max))\n",
    "\n",
    "# Max Retweets\n",
    "print(\"The highest retweeted tweet is \\n{}\".format(data['text'][ret]))\n",
    "print(\"With maximun number of retweets {}\".format(ret_max))"
   ]
  },
  {
   "cell_type": "code",
   "execution_count": 96,
   "id": "7f7b7fee",
   "metadata": {},
   "outputs": [
    {
     "name": "stdout",
     "output_type": "stream",
     "text": [
      "The lowest favorited tweet is \n",
      "Oh my. Here you are seeing an Adobe Setter giving birth to twins!!! The world is an amazing place. 11/10 https://t.co/11LvqN4WLq\n",
      "With minimun number of favorites 81.0\n",
      "\n",
      "The lowest retweeted tweet is \n",
      "Oh my. Here you are seeing an Adobe Setter giving birth to twins!!! The world is an amazing place. 11/10 https://t.co/11LvqN4WLq\n",
      "With minimun number of retweets 16.0\n"
     ]
    }
   ],
   "source": [
    "#find the lowest like and retweet\n",
    "\n",
    "like_min = np.min(data['favorite_count'])\n",
    "ret_min  = np.min(data['retweet_count'])\n",
    "\n",
    "like = data[data.favorite_count == like_min].index[0]\n",
    "ret  = data[data.retweet_count == ret_min].index[0]\n",
    "\n",
    "# Min Likes\n",
    "print(\"The lowest favorited tweet is \\n{}\".format(data['text'][like]))\n",
    "print(\"With minimun number of favorites {}\\n\".format(like_min))\n",
    "\n",
    "# Min Retweets\n",
    "print(\"The lowest retweeted tweet is \\n{}\".format(data['text'][ret]))\n",
    "print(\"With minimun number of retweets {}\".format(ret_min))"
   ]
  },
  {
   "cell_type": "markdown",
   "id": "174ac225",
   "metadata": {},
   "source": [
    "### Most common breeds ###"
   ]
  },
  {
   "cell_type": "code",
   "execution_count": 97,
   "id": "5525c17b",
   "metadata": {},
   "outputs": [
    {
     "data": {
      "text/plain": [
       "golden_retriever            134\n",
       "labrador_retriever           91\n",
       "pembroke                     88\n",
       "chihuahua                    77\n",
       "pug                          54\n",
       "                           ... \n",
       "cup                           1\n",
       "rapeseed                      1\n",
       "sulphur-crested_cockatoo      1\n",
       "conch                         1\n",
       "hay                           1\n",
       "Name: p1, Length: 214, dtype: int64"
      ]
     },
     "execution_count": 97,
     "metadata": {},
     "output_type": "execute_result"
    }
   ],
   "source": [
    "# Find what the algorithm has found as the top dog breed\n",
    "data['p1'].value_counts()\n",
    "\n"
   ]
  },
  {
   "cell_type": "code",
   "execution_count": 98,
   "id": "7a570c02",
   "metadata": {
    "scrolled": false
   },
   "outputs": [
    {
     "data": {
      "image/png": "[encoded data removed]",
      "text/plain": [
       "<Figure size 432x288 with 1 Axes>"
      ]
     },
     "metadata": {
      "needs_background": "light"
     },
     "output_type": "display_data"
    }
   ],
   "source": [
    "# Plot the top 10 predicted dog breeds\n",
    "data['p1'].value_counts()[0:10].sort_values(ascending=True).plot(kind='barh' , color ='purple')\n",
    "plt.title('Top 10 Dog Breeds' , size=12)\n",
    "plt.xlabel('Count', size=12)\n",
    "plt.ylabel('Dog Breed')\n",
    "plt.show();\n"
   ]
  },
  {
   "cell_type": "markdown",
   "id": "a1310478",
   "metadata": {},
   "source": [
    "### Relation between favourite and retweet ###"
   ]
  },
  {
   "cell_type": "code",
   "execution_count": 99,
   "id": "ab4c0f4c",
   "metadata": {},
   "outputs": [
    {
     "data": {
      "text/html": [
       "<div>\n",
       "<style scoped>\n",
       "    .dataframe tbody tr th:only-of-type {\n",
       "        vertical-align: middle;\n",
       "    }\n",
       "\n",
       "    .dataframe tbody tr th {\n",
       "        vertical-align: top;\n",
       "    }\n",
       "\n",
       "    .dataframe thead th {\n",
       "        text-align: right;\n",
       "    }\n",
       "</style>\n",
       "<table border=\"1\" class=\"dataframe\">\n",
       "  <thead>\n",
       "    <tr style=\"text-align: right;\">\n",
       "      <th></th>\n",
       "      <th>rating_numerator</th>\n",
       "      <th>rating_denominator</th>\n",
       "      <th>retweet_count</th>\n",
       "      <th>favorite_count</th>\n",
       "      <th>rating</th>\n",
       "      <th>img_num</th>\n",
       "      <th>p1_conf</th>\n",
       "      <th>p2_conf</th>\n",
       "      <th>p3_conf</th>\n",
       "    </tr>\n",
       "  </thead>\n",
       "  <tbody>\n",
       "    <tr>\n",
       "      <th>rating_numerator</th>\n",
       "      <td>1.000000</td>\n",
       "      <td>NaN</td>\n",
       "      <td>0.313134</td>\n",
       "      <td>0.412629</td>\n",
       "      <td>1.000000</td>\n",
       "      <td>0.180434</td>\n",
       "      <td>0.111599</td>\n",
       "      <td>0.003819</td>\n",
       "      <td>-0.046185</td>\n",
       "    </tr>\n",
       "    <tr>\n",
       "      <th>rating_denominator</th>\n",
       "      <td>NaN</td>\n",
       "      <td>NaN</td>\n",
       "      <td>NaN</td>\n",
       "      <td>NaN</td>\n",
       "      <td>NaN</td>\n",
       "      <td>NaN</td>\n",
       "      <td>NaN</td>\n",
       "      <td>NaN</td>\n",
       "      <td>NaN</td>\n",
       "    </tr>\n",
       "    <tr>\n",
       "      <th>retweet_count</th>\n",
       "      <td>0.313134</td>\n",
       "      <td>NaN</td>\n",
       "      <td>1.000000</td>\n",
       "      <td>0.911795</td>\n",
       "      <td>0.313134</td>\n",
       "      <td>0.092894</td>\n",
       "      <td>0.060489</td>\n",
       "      <td>-0.020293</td>\n",
       "      <td>-0.046682</td>\n",
       "    </tr>\n",
       "    <tr>\n",
       "      <th>favorite_count</th>\n",
       "      <td>0.412629</td>\n",
       "      <td>NaN</td>\n",
       "      <td>0.911795</td>\n",
       "      <td>1.000000</td>\n",
       "      <td>0.412629</td>\n",
       "      <td>0.124735</td>\n",
       "      <td>0.085686</td>\n",
       "      <td>-0.022712</td>\n",
       "      <td>-0.056346</td>\n",
       "    </tr>\n",
       "    <tr>\n",
       "      <th>rating</th>\n",
       "      <td>1.000000</td>\n",
       "      <td>NaN</td>\n",
       "      <td>0.313134</td>\n",
       "      <td>0.412629</td>\n",
       "      <td>1.000000</td>\n",
       "      <td>0.180434</td>\n",
       "      <td>0.111599</td>\n",
       "      <td>0.003819</td>\n",
       "      <td>-0.046185</td>\n",
       "    </tr>\n",
       "    <tr>\n",
       "      <th>img_num</th>\n",
       "      <td>0.180434</td>\n",
       "      <td>NaN</td>\n",
       "      <td>0.092894</td>\n",
       "      <td>0.124735</td>\n",
       "      <td>0.180434</td>\n",
       "      <td>1.000000</td>\n",
       "      <td>0.213662</td>\n",
       "      <td>-0.175373</td>\n",
       "      <td>-0.141374</td>\n",
       "    </tr>\n",
       "    <tr>\n",
       "      <th>p1_conf</th>\n",
       "      <td>0.111599</td>\n",
       "      <td>NaN</td>\n",
       "      <td>0.060489</td>\n",
       "      <td>0.085686</td>\n",
       "      <td>0.111599</td>\n",
       "      <td>0.213662</td>\n",
       "      <td>1.000000</td>\n",
       "      <td>-0.540568</td>\n",
       "      <td>-0.733262</td>\n",
       "    </tr>\n",
       "    <tr>\n",
       "      <th>p2_conf</th>\n",
       "      <td>0.003819</td>\n",
       "      <td>NaN</td>\n",
       "      <td>-0.020293</td>\n",
       "      <td>-0.022712</td>\n",
       "      <td>0.003819</td>\n",
       "      <td>-0.175373</td>\n",
       "      <td>-0.540568</td>\n",
       "      <td>1.000000</td>\n",
       "      <td>0.476746</td>\n",
       "    </tr>\n",
       "    <tr>\n",
       "      <th>p3_conf</th>\n",
       "      <td>-0.046185</td>\n",
       "      <td>NaN</td>\n",
       "      <td>-0.046682</td>\n",
       "      <td>-0.056346</td>\n",
       "      <td>-0.046185</td>\n",
       "      <td>-0.141374</td>\n",
       "      <td>-0.733262</td>\n",
       "      <td>0.476746</td>\n",
       "      <td>1.000000</td>\n",
       "    </tr>\n",
       "  </tbody>\n",
       "</table>\n",
       "</div>"
      ],
      "text/plain": [
       "                    rating_numerator  rating_denominator  retweet_count  \\\n",
       "rating_numerator            1.000000                 NaN       0.313134   \n",
       "rating_denominator               NaN                 NaN            NaN   \n",
       "retweet_count               0.313134                 NaN       1.000000   \n",
       "favorite_count              0.412629                 NaN       0.911795   \n",
       "rating                      1.000000                 NaN       0.313134   \n",
       "img_num                     0.180434                 NaN       0.092894   \n",
       "p1_conf                     0.111599                 NaN       0.060489   \n",
       "p2_conf                     0.003819                 NaN      -0.020293   \n",
       "p3_conf                    -0.046185                 NaN      -0.046682   \n",
       "\n",
       "                    favorite_count    rating   img_num   p1_conf   p2_conf  \\\n",
       "rating_numerator          0.412629  1.000000  0.180434  0.111599  0.003819   \n",
       "rating_denominator             NaN       NaN       NaN       NaN       NaN   \n",
       "retweet_count             0.911795  0.313134  0.092894  0.060489 -0.020293   \n",
       "favorite_count            1.000000  0.412629  0.124735  0.085686 -0.022712   \n",
       "rating                    0.412629  1.000000  0.180434  0.111599  0.003819   \n",
       "img_num                   0.124735  0.180434  1.000000  0.213662 -0.175373   \n",
       "p1_conf                   0.085686  0.111599  0.213662  1.000000 -0.540568   \n",
       "p2_conf                  -0.022712  0.003819 -0.175373 -0.540568  1.000000   \n",
       "p3_conf                  -0.056346 -0.046185 -0.141374 -0.733262  0.476746   \n",
       "\n",
       "                     p3_conf  \n",
       "rating_numerator   -0.046185  \n",
       "rating_denominator       NaN  \n",
       "retweet_count      -0.046682  \n",
       "favorite_count     -0.056346  \n",
       "rating             -0.046185  \n",
       "img_num            -0.141374  \n",
       "p1_conf            -0.733262  \n",
       "p2_conf             0.476746  \n",
       "p3_conf             1.000000  "
      ]
     },
     "execution_count": 99,
     "metadata": {},
     "output_type": "execute_result"
    }
   ],
   "source": [
    "data.corr()"
   ]
  },
  {
   "cell_type": "code",
   "execution_count": 100,
   "id": "0a53facf",
   "metadata": {
    "scrolled": true
   },
   "outputs": [
    {
     "data": {
      "image/png": "[encoded data removed]",
      "text/plain": [
       "<Figure size 432x288 with 1 Axes>"
      ]
     },
     "metadata": {
      "needs_background": "light"
     },
     "output_type": "display_data"
    }
   ],
   "source": [
    "plt.scatter(data.favorite_count,data.retweet_count);\n",
    "plt.xlim(0, 18000);\n",
    "plt.ylim(0, 6000);\n",
    "plt.xlabel('favorite_count');\n",
    "plt.ylabel('retweet_count');\n",
    "plt.title('favorite_count vs retweet_count');\n"
   ]
  },
  {
   "cell_type": "markdown",
   "id": "31a8d594",
   "metadata": {},
   "source": [
    "### Rating Vs Retweet count ###"
   ]
  },
  {
   "cell_type": "code",
   "execution_count": 101,
   "id": "a277a824",
   "metadata": {
    "scrolled": false
   },
   "outputs": [
    {
     "data": {
      "image/png": "[encoded data removed]",
      "text/plain": [
       "<Figure size 432x288 with 1 Axes>"
      ]
     },
     "metadata": {
      "needs_background": "light"
     },
     "output_type": "display_data"
    }
   ],
   "source": [
    "# rating Vs retweet counts\n",
    "data.plot(x='rating_numerator',y='retweet_count',kind='scatter');\n",
    "plt.xlabel('Ratings')\n",
    "plt.ylabel('Retweet Counts')\n",
    "plt.title('Rating Vs Retweet Counts');"
   ]
  },
  {
   "cell_type": "markdown",
   "id": "6f967b83",
   "metadata": {},
   "source": [
    "### Rating Vs Favorite count ###"
   ]
  },
  {
   "cell_type": "code",
   "execution_count": 102,
   "id": "52b017aa",
   "metadata": {
    "scrolled": true
   },
   "outputs": [
    {
     "data": {
      "image/png": "[encoded data removed]",
      "text/plain": [
       "<Figure size 432x288 with 1 Axes>"
      ]
     },
     "metadata": {
      "needs_background": "light"
     },
     "output_type": "display_data"
    }
   ],
   "source": [
    "# rating Vs favorite counts\n",
    "data.plot(x='rating_numerator',y='favorite_count',kind='scatter');\n",
    "plt.xlabel('Ratings')\n",
    "plt.ylabel('favorite Counts')\n",
    "plt.title('Rating Vs Favorite Counts');\n"
   ]
  },
  {
   "cell_type": "markdown",
   "id": "7ec86821",
   "metadata": {},
   "source": [
    "### Most common dog stage ###"
   ]
  },
  {
   "cell_type": "code",
   "execution_count": 103,
   "id": "9eef2bb9",
   "metadata": {
    "scrolled": false
   },
   "outputs": [
    {
     "data": {
      "text/plain": [
       "pupper            221\n",
       "doggo              72\n",
       "puppo              23\n",
       "floofer             9\n",
       "doggo, pupper       9\n",
       "doggo, puppo        1\n",
       "doggo, floofer      1\n",
       "Name: stage, dtype: int64"
      ]
     },
     "execution_count": 103,
     "metadata": {},
     "output_type": "execute_result"
    }
   ],
   "source": [
    "x=data['stage'].value_counts()\n",
    "x"
   ]
  },
  {
   "cell_type": "code",
   "execution_count": 105,
   "id": "4ac2e354",
   "metadata": {
    "scrolled": false
   },
   "outputs": [
    {
     "data": {
      "image/png": "[encoded data removed]",
      "text/plain": [
       "<Figure size 432x288 with 1 Axes>"
      ]
     },
     "metadata": {},
     "output_type": "display_data"
    }
   ],
   "source": [
    "plt.pie(data.stage.value_counts(),autopct='%1.1f%%');\n",
    "plt.legend(['none','pupper','doggo','puppo ','floofer'],title=\"stage\",\n",
    "          loc=\"right\",bbox_to_anchor=(1, 0, 0.6,0.9));\n",
    "plt.title('Dog stages');"
   ]
  },
  {
   "cell_type": "markdown",
   "id": "e8ed94c4",
   "metadata": {},
   "source": [
    "Pupper is the First one \n",
    "Floofer is the last one"
   ]
  },
  {
   "cell_type": "markdown",
   "id": "9674767a",
   "metadata": {},
   "source": [
    "### Most common dog name? ###"
   ]
  },
  {
   "cell_type": "code",
   "execution_count": 106,
   "id": "2798ab1a",
   "metadata": {
    "scrolled": true
   },
   "outputs": [
    {
     "data": {
      "image/png": "[encoded data removed]",
      "text/plain": [
       "<Figure size 432x288 with 1 Axes>"
      ]
     },
     "metadata": {
      "needs_background": "light"
     },
     "output_type": "display_data"
    }
   ],
   "source": [
    "colors = ['#9467bd','#1f77b4', '#2ca02c', '#d62728', '#17becf' ,'#8c564b', '#e377c2', '#ff7f0e', '#bcbd22']\n",
    "names = data['name'].value_counts()[:10].sort_values(ascending=True).plot(kind='barh' , color =colors)\n",
    "\n",
    "plt.title('Most common dog name' , size=12)\n",
    "plt.xlabel('Count', size=12)\n",
    "plt.ylabel('Dog name')\n",
    "plt.show();"
   ]
  },
  {
   "cell_type": "markdown",
   "id": "68e9dc02",
   "metadata": {},
   "source": [
    "The most common dog names are Charlie, Cooper, and Oliver."
   ]
  },
  {
   "cell_type": "markdown",
   "id": "d3d1f2c4",
   "metadata": {},
   "source": [
    "### Dog stages with  highest  favorite counts ###"
   ]
  },
  {
   "cell_type": "code",
   "execution_count": 107,
   "id": "97646622",
   "metadata": {},
   "outputs": [],
   "source": [
    "nonull_stage = data[data[\"stage\"].isnull()==False]\n"
   ]
  },
  {
   "cell_type": "code",
   "execution_count": 108,
   "id": "cea8875f",
   "metadata": {
    "scrolled": false
   },
   "outputs": [],
   "source": [
    "dog_stages = nonull_stage.query('stage==\"pupper\" or stage==\"doggo\" or stage==\"puppo\" or stage==\"floofer\"')\n",
    "fav_count_stage = pd.DataFrame(dog_stages.groupby('stage').favorite_count.mean().sort_values())\n"
   ]
  },
  {
   "cell_type": "code",
   "execution_count": 113,
   "id": "3d67a956",
   "metadata": {
    "scrolled": false
   },
   "outputs": [
    {
     "data": {
      "image/png": "[encoded data removed]",
      "text/plain": [
       "<Figure size 432x288 with 1 Axes>"
      ]
     },
     "metadata": {
      "needs_background": "light"
     },
     "output_type": "display_data"
    }
   ],
   "source": [
    "fav_count_stage['stage'] = fav_count_stage.index\n",
    "fav_count_stage.plot(x=\"stage\",y='favorite_count',kind='bar',title=\"Average favorite counts by stage of dog\",color='b', alpha=0.6);"
   ]
  },
  {
   "cell_type": "markdown",
   "id": "988a9da5",
   "metadata": {},
   "source": [
    "### Average rating by dog stages ###\n"
   ]
  },
  {
   "cell_type": "code",
   "execution_count": 110,
   "id": "9f87c4ab",
   "metadata": {},
   "outputs": [
    {
     "name": "stderr",
     "output_type": "stream",
     "text": [
      "C:\\Users\\Sara\\anaconda3\\lib\\site-packages\\seaborn\\_decorators.py:36: FutureWarning: Pass the following variables as keyword args: x, y. From version 0.12, the only valid positional argument will be `data`, and passing other arguments without an explicit keyword will result in an error or misinterpretation.\n",
      "  warnings.warn(\n"
     ]
    },
    {
     "data": {
      "image/png": "[encoded data removed]",
      "text/plain": [
       "<Figure size 432x288 with 1 Axes>"
      ]
     },
     "metadata": {
      "needs_background": "light"
     },
     "output_type": "display_data"
    }
   ],
   "source": [
    "dog_stage_rating = dog_stages.groupby('stage')['rating'].mean()\n",
    "sns.barplot(dog_stage_rating.values, dog_stage_rating.index)\n",
    "plt.suptitle('Average rate by dog stage');"
   ]
  },
  {
   "cell_type": "code",
   "execution_count": 111,
   "id": "c2d326b0",
   "metadata": {},
   "outputs": [
    {
     "data": {
      "image/png": "[encoded data removed]",
      "text/plain": [
       "<Figure size 432x288 with 1 Axes>"
      ]
     },
     "metadata": {
      "needs_background": "light"
     },
     "output_type": "display_data"
    }
   ],
   "source": [
    "dog_stage = nonull_stage.query('stage==\"pupper\" or stage==\"doggo\" or stage==\"puppo\" or stage==\"floofer\"')\n",
    "sns.boxplot(data=dog_stages, y='rating', x='stage')\n",
    "plt.suptitle('Rating variation by dog stage');"
   ]
  },
  {
   "cell_type": "code",
   "execution_count": null,
   "id": "5f237b17",
   "metadata": {},
   "outputs": [],
   "source": []
  }
 ],
 "metadata": {
  "kernelspec": {
   "display_name": "Python 3 (ipykernel)",
   "language": "python",
   "name": "python3"
  },
  "language_info": {
   "codemirror_mode": {
    "name": "ipython",
    "version": 3
   },
   "file_extension": ".py",
   "mimetype": "text/x-python",
   "name": "python",
   "nbconvert_exporter": "python",
   "pygments_lexer": "ipython3",
   "version": "3.9.12"
  }
 },
 "nbformat": 4,
 "nbformat_minor": 5
}
